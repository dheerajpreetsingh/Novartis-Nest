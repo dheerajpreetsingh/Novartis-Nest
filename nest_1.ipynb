{
 "cells": [
  {
   "cell_type": "markdown",
   "metadata": {},
   "source": [
    "#### Importing Necessary Libraries"
   ]
  },
  {
   "cell_type": "code",
   "execution_count": 1,
   "metadata": {},
   "outputs": [],
   "source": [
    "import pandas as pd\n",
    "import numpy as np\n",
    "import matplotlib.pyplot as plt\n",
    "import seaborn as sns\n",
    "import textwrap\n"
   ]
  },
  {
   "cell_type": "markdown",
   "metadata": {},
   "source": [
    "#### EDA on usecase_1_.csv"
   ]
  },
  {
   "cell_type": "code",
   "execution_count": 2,
   "metadata": {},
   "outputs": [],
   "source": [
    "df = pd.read_csv(r'usecase_1_.csv')"
   ]
  },
  {
   "cell_type": "code",
   "execution_count": 3,
   "metadata": {},
   "outputs": [
    {
     "name": "stdout",
     "output_type": "stream",
     "text": [
      "<class 'pandas.core.frame.DataFrame'>\n",
      "RangeIndex: 117980 entries, 0 to 117979\n",
      "Data columns (total 32 columns):\n",
      " #   Column                      Non-Null Count   Dtype  \n",
      "---  ------                      --------------   -----  \n",
      " 0   Unnamed: 0.1                117980 non-null  int64  \n",
      " 1   Unnamed: 0                  117980 non-null  int64  \n",
      " 2   NCT Number                  117980 non-null  object \n",
      " 3   Study Title                 117980 non-null  object \n",
      " 4   Study URL                   117980 non-null  object \n",
      " 5   Acronym                     24116 non-null   object \n",
      " 6   Study Status                117980 non-null  object \n",
      " 7   Brief Summary               117980 non-null  object \n",
      " 8   Study Results               117980 non-null  object \n",
      " 9   Conditions                  117950 non-null  object \n",
      " 10  Interventions               112324 non-null  object \n",
      " 11  Primary Outcome Measures    114903 non-null  object \n",
      " 12  Secondary Outcome Measures  93200 non-null   object \n",
      " 13  Other Outcome Measures      7924 non-null    object \n",
      " 14  Sponsor                     117980 non-null  object \n",
      " 15  Collaborators               21366 non-null   object \n",
      " 16  Sex                         117838 non-null  object \n",
      " 17  Age                         117980 non-null  object \n",
      " 18  Phases                      83095 non-null   object \n",
      " 19  Enrollment                  116147 non-null  float64\n",
      " 20  Funder Type                 117980 non-null  object \n",
      " 21  Study Type                  117980 non-null  object \n",
      " 22  Study Design                117328 non-null  object \n",
      " 23  Other IDs                   117977 non-null  object \n",
      " 24  Start Date                  116241 non-null  object \n",
      " 25  Primary Completion Date     111986 non-null  object \n",
      " 26  Completion Date             112654 non-null  object \n",
      " 27  First Posted                117980 non-null  object \n",
      " 28  Results First Posted        32055 non-null   object \n",
      " 29  Last Update Posted          117980 non-null  object \n",
      " 30  Locations                   105092 non-null  object \n",
      " 31  Study Documents             12858 non-null   object \n",
      "dtypes: float64(1), int64(2), object(29)\n",
      "memory usage: 28.8+ MB\n"
     ]
    }
   ],
   "source": [
    "df.info()"
   ]
  },
  {
   "cell_type": "code",
   "execution_count": 4,
   "metadata": {},
   "outputs": [
    {
     "data": {
      "text/html": [
       "<div>\n",
       "<style scoped>\n",
       "    .dataframe tbody tr th:only-of-type {\n",
       "        vertical-align: middle;\n",
       "    }\n",
       "\n",
       "    .dataframe tbody tr th {\n",
       "        vertical-align: top;\n",
       "    }\n",
       "\n",
       "    .dataframe thead th {\n",
       "        text-align: right;\n",
       "    }\n",
       "</style>\n",
       "<table border=\"1\" class=\"dataframe\">\n",
       "  <thead>\n",
       "    <tr style=\"text-align: right;\">\n",
       "      <th></th>\n",
       "      <th>Unnamed: 0.1</th>\n",
       "      <th>Unnamed: 0</th>\n",
       "      <th>Enrollment</th>\n",
       "    </tr>\n",
       "  </thead>\n",
       "  <tbody>\n",
       "    <tr>\n",
       "      <th>count</th>\n",
       "      <td>117980.000000</td>\n",
       "      <td>117980.000000</td>\n",
       "      <td>1.161470e+05</td>\n",
       "    </tr>\n",
       "    <tr>\n",
       "      <th>mean</th>\n",
       "      <td>58989.500000</td>\n",
       "      <td>75024.005620</td>\n",
       "      <td>4.487728e+03</td>\n",
       "    </tr>\n",
       "    <tr>\n",
       "      <th>std</th>\n",
       "      <td>34058.036717</td>\n",
       "      <td>43318.321717</td>\n",
       "      <td>5.930507e+05</td>\n",
       "    </tr>\n",
       "    <tr>\n",
       "      <th>min</th>\n",
       "      <td>0.000000</td>\n",
       "      <td>1.000000</td>\n",
       "      <td>0.000000e+00</td>\n",
       "    </tr>\n",
       "    <tr>\n",
       "      <th>25%</th>\n",
       "      <td>29494.750000</td>\n",
       "      <td>37511.500000</td>\n",
       "      <td>3.000000e+01</td>\n",
       "    </tr>\n",
       "    <tr>\n",
       "      <th>50%</th>\n",
       "      <td>58989.500000</td>\n",
       "      <td>75004.500000</td>\n",
       "      <td>7.700000e+01</td>\n",
       "    </tr>\n",
       "    <tr>\n",
       "      <th>75%</th>\n",
       "      <td>88484.250000</td>\n",
       "      <td>112567.250000</td>\n",
       "      <td>2.420000e+02</td>\n",
       "    </tr>\n",
       "    <tr>\n",
       "      <th>max</th>\n",
       "      <td>117979.000000</td>\n",
       "      <td>150121.000000</td>\n",
       "      <td>1.888141e+08</td>\n",
       "    </tr>\n",
       "  </tbody>\n",
       "</table>\n",
       "</div>"
      ],
      "text/plain": [
       "        Unnamed: 0.1     Unnamed: 0    Enrollment\n",
       "count  117980.000000  117980.000000  1.161470e+05\n",
       "mean    58989.500000   75024.005620  4.487728e+03\n",
       "std     34058.036717   43318.321717  5.930507e+05\n",
       "min         0.000000       1.000000  0.000000e+00\n",
       "25%     29494.750000   37511.500000  3.000000e+01\n",
       "50%     58989.500000   75004.500000  7.700000e+01\n",
       "75%     88484.250000  112567.250000  2.420000e+02\n",
       "max    117979.000000  150121.000000  1.888141e+08"
      ]
     },
     "execution_count": 4,
     "metadata": {},
     "output_type": "execute_result"
    }
   ],
   "source": [
    "df.describe()"
   ]
  },
  {
   "cell_type": "markdown",
   "metadata": {},
   "source": [
    "##### Dropping Unnecessary Columns"
   ]
  },
  {
   "cell_type": "markdown",
   "metadata": {},
   "source": [
    "Unnamed: 0.1 and Unnamed: 0 are just indexes so we dont need to have them since we already have an index"
   ]
  },
  {
   "cell_type": "code",
   "execution_count": 5,
   "metadata": {},
   "outputs": [],
   "source": [
    "df.drop(columns = [\"Unnamed: 0.1\",\"Unnamed: 0\"],inplace=True)"
   ]
  },
  {
   "cell_type": "markdown",
   "metadata": {},
   "source": [
    "The Colums like Study URL, Start Date, Funder Type(Same), Primary Completion Date, Completion Date, First Posted, Reults First Posted, Last Update Posted, Other IDs, Study Status, Study Results, Collaborator, Study Documents are not suitable for using in Semantic Search so we will remove them."
   ]
  },
  {
   "cell_type": "code",
   "execution_count": 6,
   "metadata": {},
   "outputs": [],
   "source": [
    "admin_data = df[[\"NCT Number\",\"Study URL\", \"Study Status\", \"Study Results\", \"Collaborators\", \"Funder Type\", \"Other IDs\",\n",
    "                 \"Start Date\", \"Primary Completion Date\", \"Completion Date\", \"First Posted\", \"Results First Posted\",\n",
    "                 \"Last Update Posted\", \"Study Documents\"]]\n",
    "\n",
    "df.drop(columns=[\"Study URL\", \"Study Status\", \"Study Results\", \"Collaborators\", \"Funder Type\", \"Other IDs\",\n",
    "                 \"Start Date\", \"Primary Completion Date\", \"Completion Date\", \"First Posted\", \"Results First Posted\",\n",
    "                 \"Last Update Posted\", \"Study Documents\"],\n",
    "        inplace=True)"
   ]
  },
  {
   "cell_type": "code",
   "execution_count": 7,
   "metadata": {},
   "outputs": [
    {
     "name": "stdout",
     "output_type": "stream",
     "text": [
      "object\n"
     ]
    }
   ],
   "source": [
    "print(df[\"Study Design\"].dtype)"
   ]
  },
  {
   "cell_type": "markdown",
   "metadata": {},
   "source": [
    "Separating Different Values of Study Design into Different Columns and creating a separate Dataframw for now."
   ]
  },
  {
   "cell_type": "code",
   "execution_count": 8,
   "metadata": {},
   "outputs": [],
   "source": [
    "def split_to_columns(row):\n",
    "    if pd.isna(row):  # Check if the row is NaN\n",
    "        return {}\n",
    "    key_value_pairs = [item.split(': ', 1) for item in row.split('|') if ': ' in item]\n",
    "    return {key.strip(): value.strip() for key, value in key_value_pairs}\n",
    "\n",
    "studydes_df = pd.DataFrame(df['Study Design'].apply(split_to_columns).to_list())\n",
    "\n",
    "studydes_df[\"NCT Number\"] = df[\"NCT Number\"]"
   ]
  },
  {
   "cell_type": "code",
   "execution_count": 9,
   "metadata": {},
   "outputs": [],
   "source": [
    "def split_to_columns(row):\n",
    "    if pd.isna(row):\n",
    "        return {}\n",
    "\n",
    "    result = {}\n",
    "    for item in row.split('|'):\n",
    "        try:\n",
    "            key, value = item.split(':')\n",
    "            if key in result:\n",
    "                result[key] += f\", {value.strip()}\"\n",
    "            else:\n",
    "                result[key] = value.strip()\n",
    "        except ValueError:\n",
    "            # Handle rows without a colon (e.g., ignore or assign a default value)\n",
    "            pass  # Ignore for now\n",
    "\n",
    "    return result\n",
    "\n",
    "# Apply the function to the 'Study Design' column\n",
    "try:\n",
    "    studydes_df = pd.DataFrame(df['Study Design'].apply(split_to_columns).to_list())\n",
    "    studydes_df[\"NCT Number\"] = df[\"NCT Number\"]\n",
    "except ValueError:\n",
    "    # Handle potential errors during DataFrame creation\n",
    "    pass  # Ignore for now"
   ]
  },
  {
   "cell_type": "markdown",
   "metadata": {},
   "source": [
    "Converting the Masking Column into Masking Type, Maskings and [Masking1, Masking2, Maskking3, Masking4] and creating a column Masking Description (A Sentence that explains these Maskings)"
   ]
  },
  {
   "cell_type": "code",
   "execution_count": 10,
   "metadata": {},
   "outputs": [],
   "source": [
    "def extract_masking_details(masking_str):\n",
    "    if pd.isna(masking_str) or not masking_str.strip():\n",
    "        return None, []\n",
    "    else:\n",
    "        if '(' in masking_str:\n",
    "            masking_type = masking_str.split('(')[0].strip()\n",
    "            maskings = masking_str.split('(')[1].strip(')')\n",
    "            maskings = maskings.split(', ') if maskings else []\n",
    "        else:\n",
    "            masking_type = masking_str.strip()\n",
    "            maskings = []\n",
    "        \n",
    "        return masking_type, maskings\n",
    "\n",
    "studydes_df['Masking Type'] = studydes_df['Masking'].apply(lambda x: extract_masking_details(x)[0])\n",
    "studydes_df['Maskings'] = studydes_df['Masking'].apply(lambda x: extract_masking_details(x)[1])\n",
    "\n",
    "def separate_maskings(maskings):\n",
    "    masking1 = maskings[0] if len(maskings) >= 1 else None\n",
    "    masking2 = maskings[1] if len(maskings) >= 2 else None\n",
    "    masking3 = maskings[2] if len(maskings) >= 3 else None\n",
    "    masking4 = maskings[3] if len(maskings) >= 4 else None\n",
    "    return masking1, masking2, masking3, masking4\n",
    "\n",
    "studydes_df['Masking1'] = studydes_df['Maskings'].apply(lambda x: separate_maskings(x)[0])\n",
    "studydes_df['Masking2'] = studydes_df['Maskings'].apply(lambda x: separate_maskings(x)[1])\n",
    "studydes_df['Masking3'] = studydes_df['Maskings'].apply(lambda x: separate_maskings(x)[2])\n",
    "studydes_df['Masking4'] = studydes_df['Maskings'].apply(lambda x: separate_maskings(x)[3])\n",
    "\n",
    "def create_masking_description(masking_type, maskings):\n",
    "    if masking_type == \"NONE\":\n",
    "        return \"None\"\n",
    "    else:\n",
    "        if not maskings:\n",
    "            return f\"The masking is of type {masking_type}\"\n",
    "        else:\n",
    "            maskings_str = \", \".join(maskings[:-1]) + \" and \" + maskings[-1]\n",
    "            return f\"The masking is of type {masking_type} which includes {maskings_str}\"\n",
    "\n",
    "studydes_df['Masking Description'] = studydes_df.apply(lambda row: create_masking_description(row['Masking Type'], row['Maskings']), axis=1)"
   ]
  },
  {
   "cell_type": "code",
   "execution_count": 11,
   "metadata": {},
   "outputs": [
    {
     "data": {
      "text/html": [
       "<div>\n",
       "<style scoped>\n",
       "    .dataframe tbody tr th:only-of-type {\n",
       "        vertical-align: middle;\n",
       "    }\n",
       "\n",
       "    .dataframe tbody tr th {\n",
       "        vertical-align: top;\n",
       "    }\n",
       "\n",
       "    .dataframe thead th {\n",
       "        text-align: right;\n",
       "    }\n",
       "</style>\n",
       "<table border=\"1\" class=\"dataframe\">\n",
       "  <thead>\n",
       "    <tr style=\"text-align: right;\">\n",
       "      <th></th>\n",
       "      <th>Allocation</th>\n",
       "      <th>Intervention Model</th>\n",
       "      <th>Masking</th>\n",
       "      <th>Primary Purpose</th>\n",
       "      <th>Observational Model</th>\n",
       "      <th>Time Perspective</th>\n",
       "      <th>NCT Number</th>\n",
       "      <th>Masking Type</th>\n",
       "      <th>Maskings</th>\n",
       "      <th>Masking1</th>\n",
       "      <th>Masking2</th>\n",
       "      <th>Masking3</th>\n",
       "      <th>Masking4</th>\n",
       "      <th>Masking Description</th>\n",
       "    </tr>\n",
       "  </thead>\n",
       "  <tbody>\n",
       "    <tr>\n",
       "      <th>0</th>\n",
       "      <td>NON_RANDOMIZED</td>\n",
       "      <td>PARALLEL</td>\n",
       "      <td>NONE</td>\n",
       "      <td>TREATMENT</td>\n",
       "      <td>NaN</td>\n",
       "      <td>NaN</td>\n",
       "      <td>NCT03302091</td>\n",
       "      <td>NONE</td>\n",
       "      <td>[]</td>\n",
       "      <td>None</td>\n",
       "      <td>None</td>\n",
       "      <td>None</td>\n",
       "      <td>None</td>\n",
       "      <td>None</td>\n",
       "    </tr>\n",
       "    <tr>\n",
       "      <th>1</th>\n",
       "      <td>NA</td>\n",
       "      <td>SINGLE_GROUP</td>\n",
       "      <td>NONE</td>\n",
       "      <td>TREATMENT</td>\n",
       "      <td>NaN</td>\n",
       "      <td>NaN</td>\n",
       "      <td>NCT01948791</td>\n",
       "      <td>NONE</td>\n",
       "      <td>[]</td>\n",
       "      <td>None</td>\n",
       "      <td>None</td>\n",
       "      <td>None</td>\n",
       "      <td>None</td>\n",
       "      <td>None</td>\n",
       "    </tr>\n",
       "    <tr>\n",
       "      <th>2</th>\n",
       "      <td>NA</td>\n",
       "      <td>SINGLE_GROUP</td>\n",
       "      <td>NONE</td>\n",
       "      <td>OTHER</td>\n",
       "      <td>NaN</td>\n",
       "      <td>NaN</td>\n",
       "      <td>NCT04621591</td>\n",
       "      <td>NONE</td>\n",
       "      <td>[]</td>\n",
       "      <td>None</td>\n",
       "      <td>None</td>\n",
       "      <td>None</td>\n",
       "      <td>None</td>\n",
       "      <td>None</td>\n",
       "    </tr>\n",
       "    <tr>\n",
       "      <th>3</th>\n",
       "      <td>NA</td>\n",
       "      <td>SINGLE_GROUP</td>\n",
       "      <td>NONE</td>\n",
       "      <td>OTHER</td>\n",
       "      <td>NaN</td>\n",
       "      <td>NaN</td>\n",
       "      <td>NCT03130491</td>\n",
       "      <td>NONE</td>\n",
       "      <td>[]</td>\n",
       "      <td>None</td>\n",
       "      <td>None</td>\n",
       "      <td>None</td>\n",
       "      <td>None</td>\n",
       "      <td>None</td>\n",
       "    </tr>\n",
       "    <tr>\n",
       "      <th>4</th>\n",
       "      <td>RANDOMIZED</td>\n",
       "      <td>PARALLEL</td>\n",
       "      <td>DOUBLE (PARTICIPANT, INVESTIGATOR)</td>\n",
       "      <td>TREATMENT</td>\n",
       "      <td>NaN</td>\n",
       "      <td>NaN</td>\n",
       "      <td>NCT01580891</td>\n",
       "      <td>DOUBLE</td>\n",
       "      <td>[PARTICIPANT, INVESTIGATOR]</td>\n",
       "      <td>PARTICIPANT</td>\n",
       "      <td>INVESTIGATOR</td>\n",
       "      <td>None</td>\n",
       "      <td>None</td>\n",
       "      <td>The masking is of type DOUBLE which includes P...</td>\n",
       "    </tr>\n",
       "  </tbody>\n",
       "</table>\n",
       "</div>"
      ],
      "text/plain": [
       "       Allocation Intervention Model                             Masking  \\\n",
       "0  NON_RANDOMIZED           PARALLEL                                NONE   \n",
       "1              NA       SINGLE_GROUP                                NONE   \n",
       "2              NA       SINGLE_GROUP                                NONE   \n",
       "3              NA       SINGLE_GROUP                                NONE   \n",
       "4      RANDOMIZED           PARALLEL  DOUBLE (PARTICIPANT, INVESTIGATOR)   \n",
       "\n",
       "  Primary Purpose Observational Model Time Perspective   NCT Number  \\\n",
       "0       TREATMENT                 NaN              NaN  NCT03302091   \n",
       "1       TREATMENT                 NaN              NaN  NCT01948791   \n",
       "2           OTHER                 NaN              NaN  NCT04621591   \n",
       "3           OTHER                 NaN              NaN  NCT03130491   \n",
       "4       TREATMENT                 NaN              NaN  NCT01580891   \n",
       "\n",
       "  Masking Type                     Maskings     Masking1      Masking2  \\\n",
       "0         NONE                           []         None          None   \n",
       "1         NONE                           []         None          None   \n",
       "2         NONE                           []         None          None   \n",
       "3         NONE                           []         None          None   \n",
       "4       DOUBLE  [PARTICIPANT, INVESTIGATOR]  PARTICIPANT  INVESTIGATOR   \n",
       "\n",
       "  Masking3 Masking4                                Masking Description  \n",
       "0     None     None                                               None  \n",
       "1     None     None                                               None  \n",
       "2     None     None                                               None  \n",
       "3     None     None                                               None  \n",
       "4     None     None  The masking is of type DOUBLE which includes P...  "
      ]
     },
     "execution_count": 11,
     "metadata": {},
     "output_type": "execute_result"
    }
   ],
   "source": [
    "studydes_df.head()"
   ]
  },
  {
   "cell_type": "markdown",
   "metadata": {},
   "source": [
    "Separating The values in the Interventions Column into different Columns and creating a separate Dataframe as of now."
   ]
  },
  {
   "cell_type": "code",
   "execution_count": 12,
   "metadata": {},
   "outputs": [],
   "source": [
    "def split_to_columns(row):\n",
    "    if pd.isna(row):\n",
    "        return {}\n",
    "\n",
    "    result = {}\n",
    "    for item in row.split('|'):\n",
    "        try:\n",
    "            key, value = item.split(':')\n",
    "            if key in result:\n",
    "                result[key] += f\", {value.strip()}\"\n",
    "            else:\n",
    "                result[key] = value.strip()\n",
    "        except ValueError:\n",
    "            # Handle rows without a colon (e.g., ignore or assign a default value)\n",
    "            pass  # Ignore for now\n",
    "\n",
    "    return result\n",
    "\n",
    "# Apply the function to the 'Interventions' column\n",
    "try:\n",
    "    interventions_df = pd.DataFrame(df['Interventions'].apply(split_to_columns).to_list())\n",
    "    interventions_df['NCT Number'] = df['NCT Number']\n",
    "except ValueError:\n",
    "    # Handle potential errors during DataFrame creation\n",
    "    pass  # Ignore for now"
   ]
  },
  {
   "cell_type": "code",
   "execution_count": 13,
   "metadata": {},
   "outputs": [
    {
     "data": {
      "text/plain": [
       "DRUG                    42755\n",
       "DEVICE                  99845\n",
       "PROCEDURE              115759\n",
       "BIOLOGICAL             106619\n",
       "OTHER                  108677\n",
       "COMBINATION_PRODUCT    117318\n",
       "BEHAVIORAL             117128\n",
       "DIETARY_SUPPLEMENT     115691\n",
       "GENETIC                117574\n",
       "DIAGNOSTIC_TEST        116939\n",
       "RADIATION              117545\n",
       "NCT Number                  0\n",
       "dtype: int64"
      ]
     },
     "execution_count": 13,
     "metadata": {},
     "output_type": "execute_result"
    }
   ],
   "source": [
    "interventions_df.isna().sum()"
   ]
  },
  {
   "cell_type": "code",
   "execution_count": 14,
   "metadata": {},
   "outputs": [],
   "source": [
    "new_column_names = ['Drug', 'Device', 'Procedure', 'Biological', 'Other', 'Combination Product', 'Behavioral',\n",
    "                   'Dietary Supplement', 'Genetic', 'Diaganostic Test', 'Radiation', 'NCT Number']\n",
    "\n",
    "interventions_df.columns = new_column_names"
   ]
  },
  {
   "cell_type": "markdown",
   "metadata": {},
   "source": [
    "Converting the Conditions Column into Sentences for Better Semanting"
   ]
  },
  {
   "cell_type": "code",
   "execution_count": 15,
   "metadata": {},
   "outputs": [
    {
     "name": "stdout",
     "output_type": "stream",
     "text": [
      "0                           Renal Insufficiency and Healthy\n",
      "1                                       Alzheimer's Disease\n",
      "2                                             EGD Procedure\n",
      "3                                      Aortic Valve Disease\n",
      "4                                               Tinea Pedis\n",
      "                                ...                        \n",
      "117975                                        Schizophrenia\n",
      "117976            Hepatic Impairment and Healthy Volunteers\n",
      "117977     Diagnosis and Gonorrhea and Resistance Bacterial\n",
      "117978                       Pain and Peripheral Neuropathy\n",
      "117979    Progressive Familial Intrahepatic Cholestasis ...\n",
      "Name: Conditions, Length: 117980, dtype: object\n"
     ]
    }
   ],
   "source": [
    "df['Conditions'] = df['Conditions'].str.replace('|', ' and ')\n",
    "\n",
    "print(df[\"Conditions\"])"
   ]
  },
  {
   "cell_type": "markdown",
   "metadata": {},
   "source": [
    "Converting the Age Column to Sentences"
   ]
  },
  {
   "cell_type": "code",
   "execution_count": 16,
   "metadata": {},
   "outputs": [
    {
     "name": "stdout",
     "output_type": "stream",
     "text": [
      "0         ADULT and  OLDER_ADULT\n",
      "1         ADULT and  OLDER_ADULT\n",
      "2         ADULT and  OLDER_ADULT\n",
      "3         ADULT and  OLDER_ADULT\n",
      "4         ADULT and  OLDER_ADULT\n",
      "                   ...          \n",
      "117975                     ADULT\n",
      "117976    ADULT and  OLDER_ADULT\n",
      "117977    ADULT and  OLDER_ADULT\n",
      "117978    ADULT and  OLDER_ADULT\n",
      "117979          CHILD and  ADULT\n",
      "Name: Age, Length: 117980, dtype: object\n"
     ]
    }
   ],
   "source": [
    "df['Age'] = df['Age'].str.replace(',', ' and ')\n",
    "\n",
    "print(df[\"Age\"])"
   ]
  },
  {
   "cell_type": "markdown",
   "metadata": {},
   "source": [
    "Rewriting the Unique Values of the Phase Column"
   ]
  },
  {
   "cell_type": "code",
   "execution_count": 17,
   "metadata": {},
   "outputs": [],
   "source": [
    "replacements = {\n",
    "    'PHASE1': '1st Phase',\n",
    "    'PHASE2': '2nd Phase',\n",
    "    'PHASE3': '3rd Phase',\n",
    "    'PHASE4': '4th Phase',\n",
    "    'PHASE1|PHASE2': '1st Phase and 2nd Phase',\n",
    "    'PHASE2|PHASE3': '2nd Phase and 3rd Phase',\n",
    "    'EARLY_PHASE1': 'Early 1st Phase',\n",
    "    '|': ' and '\n",
    "}\n",
    "\n",
    "df['Phases'] = df['Phases'].replace(replacements, regex=False)"
   ]
  },
  {
   "cell_type": "code",
   "execution_count": 18,
   "metadata": {},
   "outputs": [
    {
     "data": {
      "text/plain": [
       "Phases\n",
       "1st Phase                  26771\n",
       "3rd Phase                  21161\n",
       "2nd Phase                  20501\n",
       "4th Phase                   6930\n",
       "1st Phase and 2nd Phase     5617\n",
       "2nd Phase and 3rd Phase     1600\n",
       "Early 1st Phase              515\n",
       "Name: count, dtype: int64"
      ]
     },
     "execution_count": 18,
     "metadata": {},
     "output_type": "execute_result"
    }
   ],
   "source": [
    "df[\"Phases\"].value_counts()"
   ]
  },
  {
   "cell_type": "markdown",
   "metadata": {},
   "source": [
    "The Enrollment Column EDA"
   ]
  },
  {
   "cell_type": "code",
   "execution_count": 19,
   "metadata": {},
   "outputs": [
    {
     "data": {
      "image/png": "[encoded data removed]",
      "text/plain": [
       "<Figure size 1000x500 with 2 Axes>"
      ]
     },
     "metadata": {},
     "output_type": "display_data"
    }
   ],
   "source": [
    "plt.figure(figsize=(10, 5))\n",
    "\n",
    "plt.subplot(1, 2, 1)\n",
    "sns.violinplot(data=df, x=\"Enrollment\", orient='h')\n",
    "plt.title('Violin Plot')\n",
    "\n",
    "plt.subplot(1, 2, 2)\n",
    "sns.boxplot(data=df, x=\"Enrollment\", orient='h')\n",
    "plt.title('Box Plot')\n",
    "\n",
    "plt.tight_layout()\n",
    "plt.show()"
   ]
  },
  {
   "cell_type": "markdown",
   "metadata": {},
   "source": [
    "The Enrollment Column is too skewed as of now and i dont know how to deal with it. So i am not using it as of now."
   ]
  },
  {
   "cell_type": "code",
   "execution_count": 20,
   "metadata": {},
   "outputs": [
    {
     "name": "stderr",
     "output_type": "stream",
     "text": [
      "C:\\Users\\dheer\\AppData\\Local\\Temp\\ipykernel_9652\\2699840150.py:1: SettingWithCopyWarning: \n",
      "A value is trying to be set on a copy of a slice from a DataFrame.\n",
      "Try using .loc[row_indexer,col_indexer] = value instead\n",
      "\n",
      "See the caveats in the documentation: https://pandas.pydata.org/pandas-docs/stable/user_guide/indexing.html#returning-a-view-versus-a-copy\n",
      "  admin_data[\"Enrollment\"] = df[\"Enrollment\"]\n"
     ]
    }
   ],
   "source": [
    "admin_data[\"Enrollment\"] = df[\"Enrollment\"]\n",
    "\n",
    "df.drop(columns = [\"Enrollment\"], inplace = True)"
   ]
  },
  {
   "cell_type": "markdown",
   "metadata": {},
   "source": [
    "Correcting the Study Type Column"
   ]
  },
  {
   "cell_type": "code",
   "execution_count": 21,
   "metadata": {},
   "outputs": [],
   "source": [
    "df['Study Type'] = df['Study Type'].replace('EXPANDED_ACCESS', 'EXPANDED ACCESS')"
   ]
  },
  {
   "cell_type": "markdown",
   "metadata": {},
   "source": [
    "The Locations Column contains too much data and i am yet to discover a good enough way to preprocess it so will not be using it in initial stages."
   ]
  },
  {
   "cell_type": "code",
   "execution_count": 22,
   "metadata": {},
   "outputs": [],
   "source": [
    "admin_data[\"Locations\"] = df[\"Locations\"]\n",
    "\n",
    "df.drop(columns = [\"Locations\"], inplace = True)\n"
   ]
  },
  {
   "cell_type": "code",
   "execution_count": 23,
   "metadata": {},
   "outputs": [
    {
     "data": {
      "text/html": [
       "<div>\n",
       "<style scoped>\n",
       "    .dataframe tbody tr th:only-of-type {\n",
       "        vertical-align: middle;\n",
       "    }\n",
       "\n",
       "    .dataframe tbody tr th {\n",
       "        vertical-align: top;\n",
       "    }\n",
       "\n",
       "    .dataframe thead th {\n",
       "        text-align: right;\n",
       "    }\n",
       "</style>\n",
       "<table border=\"1\" class=\"dataframe\">\n",
       "  <thead>\n",
       "    <tr style=\"text-align: right;\">\n",
       "      <th></th>\n",
       "      <th>NCT Number</th>\n",
       "      <th>Study Title</th>\n",
       "      <th>Acronym</th>\n",
       "      <th>Brief Summary</th>\n",
       "      <th>Conditions</th>\n",
       "      <th>Interventions</th>\n",
       "      <th>Primary Outcome Measures</th>\n",
       "      <th>Secondary Outcome Measures</th>\n",
       "      <th>Other Outcome Measures</th>\n",
       "      <th>Sponsor</th>\n",
       "      <th>Sex</th>\n",
       "      <th>Age</th>\n",
       "      <th>Phases</th>\n",
       "      <th>Study Type</th>\n",
       "      <th>Study Design</th>\n",
       "    </tr>\n",
       "  </thead>\n",
       "  <tbody>\n",
       "    <tr>\n",
       "      <th>0</th>\n",
       "      <td>NCT03302091</td>\n",
       "      <td>A Study in People With Normal Kidney Function ...</td>\n",
       "      <td>NaN</td>\n",
       "      <td>The primary objective of the current study is ...</td>\n",
       "      <td>Renal Insufficiency and Healthy</td>\n",
       "      <td>DRUG: BI 1467335</td>\n",
       "      <td>Area Under the Concentration-time Curve of BI ...</td>\n",
       "      <td>Area Under the Concentration-time Curve of BI ...</td>\n",
       "      <td>NaN</td>\n",
       "      <td>Boehringer Ingelheim</td>\n",
       "      <td>ALL</td>\n",
       "      <td>ADULT and  OLDER_ADULT</td>\n",
       "      <td>1st Phase</td>\n",
       "      <td>INTERVENTIONAL</td>\n",
       "      <td>Allocation: NON_RANDOMIZED|Intervention Model:...</td>\n",
       "    </tr>\n",
       "    <tr>\n",
       "      <th>1</th>\n",
       "      <td>NCT01948791</td>\n",
       "      <td>16w Interventional Study on Titration and Dose...</td>\n",
       "      <td>INSTINCT</td>\n",
       "      <td>To investigate the efficacy of Exelon capsule ...</td>\n",
       "      <td>Alzheimer's Disease</td>\n",
       "      <td>DRUG: ENA713</td>\n",
       "      <td>Mean Change From Baseline in the Alzheimer's D...</td>\n",
       "      <td>Change From Baseline in the Alzheimer's Diseas...</td>\n",
       "      <td>NaN</td>\n",
       "      <td>Novartis Pharmaceuticals</td>\n",
       "      <td>ALL</td>\n",
       "      <td>ADULT and  OLDER_ADULT</td>\n",
       "      <td>4th Phase</td>\n",
       "      <td>INTERVENTIONAL</td>\n",
       "      <td>Allocation: NA|Intervention Model: SINGLE_GROU...</td>\n",
       "    </tr>\n",
       "    <tr>\n",
       "      <th>2</th>\n",
       "      <td>NCT04621591</td>\n",
       "      <td>Case Series With Saneso 360° Gastroscope</td>\n",
       "      <td>NaN</td>\n",
       "      <td>To confirm the procedural performance of the S...</td>\n",
       "      <td>EGD Procedure</td>\n",
       "      <td>DEVICE: Saneso 360° gastroscope</td>\n",
       "      <td>Successful EGD, Procedure success is assessed ...</td>\n",
       "      <td>Endoscopist qualitative rating of the Saneso 3...</td>\n",
       "      <td>NaN</td>\n",
       "      <td>Saneso Inc.</td>\n",
       "      <td>ALL</td>\n",
       "      <td>ADULT and  OLDER_ADULT</td>\n",
       "      <td>NaN</td>\n",
       "      <td>INTERVENTIONAL</td>\n",
       "      <td>Allocation: NA|Intervention Model: SINGLE_GROU...</td>\n",
       "    </tr>\n",
       "    <tr>\n",
       "      <th>3</th>\n",
       "      <td>NCT03130491</td>\n",
       "      <td>European Study Evaluating the EMBLOK Embolic P...</td>\n",
       "      <td>NaN</td>\n",
       "      <td>The primary objective is to evaluate the perfo...</td>\n",
       "      <td>Aortic Valve Disease</td>\n",
       "      <td>PROCEDURE: Transcatheter Aortic Valve Replacem...</td>\n",
       "      <td>Performance Endpoint, successful insertion, pl...</td>\n",
       "      <td>Safety Endpoint (Rate of MACCE), Rate of MACCE...</td>\n",
       "      <td>Efficacy Endpoint, Reduction in embolic burden...</td>\n",
       "      <td>Innovative Cardiovascular Solutions</td>\n",
       "      <td>ALL</td>\n",
       "      <td>ADULT and  OLDER_ADULT</td>\n",
       "      <td>NaN</td>\n",
       "      <td>INTERVENTIONAL</td>\n",
       "      <td>Allocation: NA|Intervention Model: SINGLE_GROU...</td>\n",
       "    </tr>\n",
       "    <tr>\n",
       "      <th>4</th>\n",
       "      <td>NCT01580891</td>\n",
       "      <td>Evaluate the Clinical Equivalence of Two Nafti...</td>\n",
       "      <td>NaN</td>\n",
       "      <td>The objective of this study is to evaluate the...</td>\n",
       "      <td>Tinea Pedis</td>\n",
       "      <td>DRUG: Naftifine HCl Cream 1%|DRUG: Naftin® (Na...</td>\n",
       "      <td>Therapeutic Cure, Patients with both mycologic...</td>\n",
       "      <td>NaN</td>\n",
       "      <td>NaN</td>\n",
       "      <td>Taro Pharmaceuticals USA</td>\n",
       "      <td>ALL</td>\n",
       "      <td>ADULT and  OLDER_ADULT</td>\n",
       "      <td>1st Phase</td>\n",
       "      <td>INTERVENTIONAL</td>\n",
       "      <td>Allocation: RANDOMIZED|Intervention Model: PAR...</td>\n",
       "    </tr>\n",
       "    <tr>\n",
       "      <th>...</th>\n",
       "      <td>...</td>\n",
       "      <td>...</td>\n",
       "      <td>...</td>\n",
       "      <td>...</td>\n",
       "      <td>...</td>\n",
       "      <td>...</td>\n",
       "      <td>...</td>\n",
       "      <td>...</td>\n",
       "      <td>...</td>\n",
       "      <td>...</td>\n",
       "      <td>...</td>\n",
       "      <td>...</td>\n",
       "      <td>...</td>\n",
       "      <td>...</td>\n",
       "      <td>...</td>\n",
       "    </tr>\n",
       "    <tr>\n",
       "      <th>117975</th>\n",
       "      <td>NCT00706654</td>\n",
       "      <td>Intramuscular Depot Formulation of Aripiprazol...</td>\n",
       "      <td>ASPIRE</td>\n",
       "      <td>The purpose of the this trial is to evaluate t...</td>\n",
       "      <td>Schizophrenia</td>\n",
       "      <td>DRUG: Aripiprazole depot 300 or 400 mg|DRUG: A...</td>\n",
       "      <td>Percentage of Patients Meeting Exacerbation of...</td>\n",
       "      <td>Time to Exacerbation of Psychotic Symptoms/Imp...</td>\n",
       "      <td>NaN</td>\n",
       "      <td>Otsuka Pharmaceutical Development &amp; Commercial...</td>\n",
       "      <td>ALL</td>\n",
       "      <td>ADULT</td>\n",
       "      <td>3rd Phase</td>\n",
       "      <td>INTERVENTIONAL</td>\n",
       "      <td>Allocation: RANDOMIZED|Intervention Model: PAR...</td>\n",
       "    </tr>\n",
       "    <tr>\n",
       "      <th>117976</th>\n",
       "      <td>NCT05098054</td>\n",
       "      <td>A Study of Soticlestat in Adults With Liver Fa...</td>\n",
       "      <td>NaN</td>\n",
       "      <td>The main aim is to check the effect of a singl...</td>\n",
       "      <td>Hepatic Impairment and Healthy Volunteers</td>\n",
       "      <td>DRUG: Soticlestat</td>\n",
       "      <td>Cmax: Maximum Observed Plasma Concentration fo...</td>\n",
       "      <td>Number of Participants Reporting One or More T...</td>\n",
       "      <td>NaN</td>\n",
       "      <td>Takeda</td>\n",
       "      <td>ALL</td>\n",
       "      <td>ADULT and  OLDER_ADULT</td>\n",
       "      <td>1st Phase</td>\n",
       "      <td>INTERVENTIONAL</td>\n",
       "      <td>Allocation: NON_RANDOMIZED|Intervention Model:...</td>\n",
       "    </tr>\n",
       "    <tr>\n",
       "      <th>117977</th>\n",
       "      <td>NCT06352554</td>\n",
       "      <td>Susceptibility Testing In Neisseria Gonorrhoea...</td>\n",
       "      <td>STING</td>\n",
       "      <td>This study aims to validate a novel antibiotic...</td>\n",
       "      <td>Diagnosis and Gonorrhea and Resistance Bacterial</td>\n",
       "      <td>NaN</td>\n",
       "      <td>To determine the feasibility of performing ant...</td>\n",
       "      <td>To study the performance of the InSignia assay...</td>\n",
       "      <td>NaN</td>\n",
       "      <td>SpeeDx Pty Ltd</td>\n",
       "      <td>ALL</td>\n",
       "      <td>ADULT and  OLDER_ADULT</td>\n",
       "      <td>NaN</td>\n",
       "      <td>OBSERVATIONAL</td>\n",
       "      <td>Observational Model: |Time Perspective: p</td>\n",
       "    </tr>\n",
       "    <tr>\n",
       "      <th>117978</th>\n",
       "      <td>NCT00710554</td>\n",
       "      <td>A Study of Sativex® for Pain Relief of Periphe...</td>\n",
       "      <td>NaN</td>\n",
       "      <td>The purpose of this study is to evaluate the e...</td>\n",
       "      <td>Pain and Peripheral Neuropathy</td>\n",
       "      <td>DRUG: Sativex|DRUG: Placebo</td>\n",
       "      <td>Change From Baseline in Mean Peripheral Neurop...</td>\n",
       "      <td>Change From Baseline in Neuropathic Pain Scale...</td>\n",
       "      <td>NaN</td>\n",
       "      <td>Jazz Pharmaceuticals</td>\n",
       "      <td>ALL</td>\n",
       "      <td>ADULT and  OLDER_ADULT</td>\n",
       "      <td>3rd Phase</td>\n",
       "      <td>INTERVENTIONAL</td>\n",
       "      <td>Allocation: RANDOMIZED|Intervention Model: PAR...</td>\n",
       "    </tr>\n",
       "    <tr>\n",
       "      <th>117979</th>\n",
       "      <td>NCT03353454</td>\n",
       "      <td>A Placebo-controlled Study of Maralixibat (SHP...</td>\n",
       "      <td>NaN</td>\n",
       "      <td>The purpose of this study is to determine if t...</td>\n",
       "      <td>Progressive Familial Intrahepatic Cholestasis ...</td>\n",
       "      <td>DRUG: Maralixibat|DRUG: Placebo</td>\n",
       "      <td>Treatment Response as Measured by the Observer...</td>\n",
       "      <td>Treatment Response as Measured by the Observer...</td>\n",
       "      <td>NaN</td>\n",
       "      <td>Mirum Pharmaceuticals, Inc.</td>\n",
       "      <td>ALL</td>\n",
       "      <td>CHILD and  ADULT</td>\n",
       "      <td>3rd Phase</td>\n",
       "      <td>INTERVENTIONAL</td>\n",
       "      <td>Allocation: RANDOMIZED|Intervention Model: PAR...</td>\n",
       "    </tr>\n",
       "  </tbody>\n",
       "</table>\n",
       "<p>117980 rows × 15 columns</p>\n",
       "</div>"
      ],
      "text/plain": [
       "         NCT Number                                        Study Title  \\\n",
       "0       NCT03302091  A Study in People With Normal Kidney Function ...   \n",
       "1       NCT01948791  16w Interventional Study on Titration and Dose...   \n",
       "2       NCT04621591           Case Series With Saneso 360° Gastroscope   \n",
       "3       NCT03130491  European Study Evaluating the EMBLOK Embolic P...   \n",
       "4       NCT01580891  Evaluate the Clinical Equivalence of Two Nafti...   \n",
       "...             ...                                                ...   \n",
       "117975  NCT00706654  Intramuscular Depot Formulation of Aripiprazol...   \n",
       "117976  NCT05098054  A Study of Soticlestat in Adults With Liver Fa...   \n",
       "117977  NCT06352554  Susceptibility Testing In Neisseria Gonorrhoea...   \n",
       "117978  NCT00710554  A Study of Sativex® for Pain Relief of Periphe...   \n",
       "117979  NCT03353454  A Placebo-controlled Study of Maralixibat (SHP...   \n",
       "\n",
       "         Acronym                                      Brief Summary  \\\n",
       "0            NaN  The primary objective of the current study is ...   \n",
       "1       INSTINCT  To investigate the efficacy of Exelon capsule ...   \n",
       "2            NaN  To confirm the procedural performance of the S...   \n",
       "3            NaN  The primary objective is to evaluate the perfo...   \n",
       "4            NaN  The objective of this study is to evaluate the...   \n",
       "...          ...                                                ...   \n",
       "117975    ASPIRE  The purpose of the this trial is to evaluate t...   \n",
       "117976       NaN  The main aim is to check the effect of a singl...   \n",
       "117977     STING  This study aims to validate a novel antibiotic...   \n",
       "117978       NaN  The purpose of this study is to evaluate the e...   \n",
       "117979       NaN  The purpose of this study is to determine if t...   \n",
       "\n",
       "                                               Conditions  \\\n",
       "0                         Renal Insufficiency and Healthy   \n",
       "1                                     Alzheimer's Disease   \n",
       "2                                           EGD Procedure   \n",
       "3                                    Aortic Valve Disease   \n",
       "4                                             Tinea Pedis   \n",
       "...                                                   ...   \n",
       "117975                                      Schizophrenia   \n",
       "117976          Hepatic Impairment and Healthy Volunteers   \n",
       "117977   Diagnosis and Gonorrhea and Resistance Bacterial   \n",
       "117978                     Pain and Peripheral Neuropathy   \n",
       "117979  Progressive Familial Intrahepatic Cholestasis ...   \n",
       "\n",
       "                                            Interventions  \\\n",
       "0                                        DRUG: BI 1467335   \n",
       "1                                            DRUG: ENA713   \n",
       "2                         DEVICE: Saneso 360° gastroscope   \n",
       "3       PROCEDURE: Transcatheter Aortic Valve Replacem...   \n",
       "4       DRUG: Naftifine HCl Cream 1%|DRUG: Naftin® (Na...   \n",
       "...                                                   ...   \n",
       "117975  DRUG: Aripiprazole depot 300 or 400 mg|DRUG: A...   \n",
       "117976                                  DRUG: Soticlestat   \n",
       "117977                                                NaN   \n",
       "117978                        DRUG: Sativex|DRUG: Placebo   \n",
       "117979                    DRUG: Maralixibat|DRUG: Placebo   \n",
       "\n",
       "                                 Primary Outcome Measures  \\\n",
       "0       Area Under the Concentration-time Curve of BI ...   \n",
       "1       Mean Change From Baseline in the Alzheimer's D...   \n",
       "2       Successful EGD, Procedure success is assessed ...   \n",
       "3       Performance Endpoint, successful insertion, pl...   \n",
       "4       Therapeutic Cure, Patients with both mycologic...   \n",
       "...                                                   ...   \n",
       "117975  Percentage of Patients Meeting Exacerbation of...   \n",
       "117976  Cmax: Maximum Observed Plasma Concentration fo...   \n",
       "117977  To determine the feasibility of performing ant...   \n",
       "117978  Change From Baseline in Mean Peripheral Neurop...   \n",
       "117979  Treatment Response as Measured by the Observer...   \n",
       "\n",
       "                               Secondary Outcome Measures  \\\n",
       "0       Area Under the Concentration-time Curve of BI ...   \n",
       "1       Change From Baseline in the Alzheimer's Diseas...   \n",
       "2       Endoscopist qualitative rating of the Saneso 3...   \n",
       "3       Safety Endpoint (Rate of MACCE), Rate of MACCE...   \n",
       "4                                                     NaN   \n",
       "...                                                   ...   \n",
       "117975  Time to Exacerbation of Psychotic Symptoms/Imp...   \n",
       "117976  Number of Participants Reporting One or More T...   \n",
       "117977  To study the performance of the InSignia assay...   \n",
       "117978  Change From Baseline in Neuropathic Pain Scale...   \n",
       "117979  Treatment Response as Measured by the Observer...   \n",
       "\n",
       "                                   Other Outcome Measures  \\\n",
       "0                                                     NaN   \n",
       "1                                                     NaN   \n",
       "2                                                     NaN   \n",
       "3       Efficacy Endpoint, Reduction in embolic burden...   \n",
       "4                                                     NaN   \n",
       "...                                                   ...   \n",
       "117975                                                NaN   \n",
       "117976                                                NaN   \n",
       "117977                                                NaN   \n",
       "117978                                                NaN   \n",
       "117979                                                NaN   \n",
       "\n",
       "                                                  Sponsor  Sex  \\\n",
       "0                                    Boehringer Ingelheim  ALL   \n",
       "1                                Novartis Pharmaceuticals  ALL   \n",
       "2                                             Saneso Inc.  ALL   \n",
       "3                     Innovative Cardiovascular Solutions  ALL   \n",
       "4                                Taro Pharmaceuticals USA  ALL   \n",
       "...                                                   ...  ...   \n",
       "117975  Otsuka Pharmaceutical Development & Commercial...  ALL   \n",
       "117976                                             Takeda  ALL   \n",
       "117977                                     SpeeDx Pty Ltd  ALL   \n",
       "117978                               Jazz Pharmaceuticals  ALL   \n",
       "117979                        Mirum Pharmaceuticals, Inc.  ALL   \n",
       "\n",
       "                           Age     Phases      Study Type  \\\n",
       "0       ADULT and  OLDER_ADULT  1st Phase  INTERVENTIONAL   \n",
       "1       ADULT and  OLDER_ADULT  4th Phase  INTERVENTIONAL   \n",
       "2       ADULT and  OLDER_ADULT        NaN  INTERVENTIONAL   \n",
       "3       ADULT and  OLDER_ADULT        NaN  INTERVENTIONAL   \n",
       "4       ADULT and  OLDER_ADULT  1st Phase  INTERVENTIONAL   \n",
       "...                        ...        ...             ...   \n",
       "117975                   ADULT  3rd Phase  INTERVENTIONAL   \n",
       "117976  ADULT and  OLDER_ADULT  1st Phase  INTERVENTIONAL   \n",
       "117977  ADULT and  OLDER_ADULT        NaN   OBSERVATIONAL   \n",
       "117978  ADULT and  OLDER_ADULT  3rd Phase  INTERVENTIONAL   \n",
       "117979        CHILD and  ADULT  3rd Phase  INTERVENTIONAL   \n",
       "\n",
       "                                             Study Design  \n",
       "0       Allocation: NON_RANDOMIZED|Intervention Model:...  \n",
       "1       Allocation: NA|Intervention Model: SINGLE_GROU...  \n",
       "2       Allocation: NA|Intervention Model: SINGLE_GROU...  \n",
       "3       Allocation: NA|Intervention Model: SINGLE_GROU...  \n",
       "4       Allocation: RANDOMIZED|Intervention Model: PAR...  \n",
       "...                                                   ...  \n",
       "117975  Allocation: RANDOMIZED|Intervention Model: PAR...  \n",
       "117976  Allocation: NON_RANDOMIZED|Intervention Model:...  \n",
       "117977          Observational Model: |Time Perspective: p  \n",
       "117978  Allocation: RANDOMIZED|Intervention Model: PAR...  \n",
       "117979  Allocation: RANDOMIZED|Intervention Model: PAR...  \n",
       "\n",
       "[117980 rows x 15 columns]"
      ]
     },
     "execution_count": 23,
     "metadata": {},
     "output_type": "execute_result"
    }
   ],
   "source": [
    "df"
   ]
  },
  {
   "cell_type": "markdown",
   "metadata": {},
   "source": [
    "#### EDA on eligibilities.txt"
   ]
  },
  {
   "cell_type": "markdown",
   "metadata": {},
   "source": [
    "The Code for Converting Eligibilities.txt to a CSV\n",
    "\n",
    "```python\n",
    "import csv\n",
    "\n",
    "input_file_path = r'D:\\675ad747652b5_problem_statements_and_data_sets\\Problem Statements and Data Sets\\eligibilities.txt'  # Replace with your text file path\n",
    "output_file_path = r'D:\\eligibilities.csv'  # Replace with desired output CSV file path\n",
    "\n",
    "with open(input_file_path, 'r', encoding='utf-8', errors='ignore') as txt_file:\n",
    "    with open(output_file_path, 'w', newline='', encoding='utf-8') as csv_file:\n",
    "        # Create a CSV writer with the '|' delimiter\n",
    "        csv_writer = csv.writer(csv_file, delimiter=',')  # Default CSV separator is \",\"\n",
    "        \n",
    "        # Read each line from the text file\n",
    "        for line in txt_file:\n",
    "            # Split the line using '|' as the separator\n",
    "            columns = line.strip().split('|')\n",
    "            \n",
    "            # Write the columns to the CSV file\n",
    "            csv_writer.writerow(columns)\n",
    "\n",
    "print(\"File has been successfully converted to CSV!\")\n",
    "```"
   ]
  },
  {
   "cell_type": "markdown",
   "metadata": {},
   "source": [
    "Code Used to print the txt file\n",
    "\n",
    "```python\n",
    "with open(r'D:\\675ad747652b5_problem_statements_and_data_sets\\Problem Statements and Data Sets\\eligibilities.txt', encoding='utf-8', errors='ignore') as file:\n",
    "    for line in file:\n",
    "        print(line.strip())  \n",
    "```"
   ]
  },
  {
   "cell_type": "code",
   "execution_count": 24,
   "metadata": {},
   "outputs": [],
   "source": [
    "elig = pd.read_csv('eligibilities.csv', on_bad_lines='skip')\n"
   ]
  },
  {
   "cell_type": "code",
   "execution_count": 25,
   "metadata": {},
   "outputs": [
    {
     "data": {
      "text/html": [
       "<div>\n",
       "<style scoped>\n",
       "    .dataframe tbody tr th:only-of-type {\n",
       "        vertical-align: middle;\n",
       "    }\n",
       "\n",
       "    .dataframe tbody tr th {\n",
       "        vertical-align: top;\n",
       "    }\n",
       "\n",
       "    .dataframe thead th {\n",
       "        text-align: right;\n",
       "    }\n",
       "</style>\n",
       "<table border=\"1\" class=\"dataframe\">\n",
       "  <thead>\n",
       "    <tr style=\"text-align: right;\">\n",
       "      <th></th>\n",
       "      <th>id</th>\n",
       "      <th>nct_id</th>\n",
       "      <th>sampling_method</th>\n",
       "      <th>gender</th>\n",
       "      <th>minimum_age</th>\n",
       "      <th>maximum_age</th>\n",
       "      <th>healthy_volunteers</th>\n",
       "      <th>population</th>\n",
       "      <th>criteria</th>\n",
       "      <th>gender_description</th>\n",
       "      <th>gender_based</th>\n",
       "      <th>adult</th>\n",
       "      <th>child</th>\n",
       "      <th>older_adult</th>\n",
       "    </tr>\n",
       "  </thead>\n",
       "  <tbody>\n",
       "    <tr>\n",
       "      <th>0</th>\n",
       "      <td>6260055</td>\n",
       "      <td>NCT05050916</td>\n",
       "      <td>NaN</td>\n",
       "      <td>FEMALE</td>\n",
       "      <td>19 Years</td>\n",
       "      <td>40 Years</td>\n",
       "      <td>f</td>\n",
       "      <td>NaN</td>\n",
       "      <td>\"* INCLUSION CRITERIA:~In order to be eligible...</td>\n",
       "      <td>NaN</td>\n",
       "      <td>NaN</td>\n",
       "      <td>t</td>\n",
       "      <td>f</td>\n",
       "      <td>f</td>\n",
       "    </tr>\n",
       "    <tr>\n",
       "      <th>1</th>\n",
       "      <td>6260056</td>\n",
       "      <td>NCT01092156</td>\n",
       "      <td>NaN</td>\n",
       "      <td>FEMALE</td>\n",
       "      <td>18 Years</td>\n",
       "      <td>NaN</td>\n",
       "      <td>t</td>\n",
       "      <td>NaN</td>\n",
       "      <td>\"Inclusion Criteria:~* Pregnant women who inte...</td>\n",
       "      <td>NaN</td>\n",
       "      <td>NaN</td>\n",
       "      <td>t</td>\n",
       "      <td>f</td>\n",
       "      <td>t</td>\n",
       "    </tr>\n",
       "    <tr>\n",
       "      <th>2</th>\n",
       "      <td>6260057</td>\n",
       "      <td>NCT01218256</td>\n",
       "      <td>NaN</td>\n",
       "      <td>ALL</td>\n",
       "      <td>30 Years</td>\n",
       "      <td>80 Years</td>\n",
       "      <td>f</td>\n",
       "      <td>NaN</td>\n",
       "      <td>\"Inclusion Criteria:~* type 2 diabetes mellitu...</td>\n",
       "      <td>NaN</td>\n",
       "      <td>NaN</td>\n",
       "      <td>t</td>\n",
       "      <td>f</td>\n",
       "      <td>t</td>\n",
       "    </tr>\n",
       "    <tr>\n",
       "      <th>3</th>\n",
       "      <td>6260058</td>\n",
       "      <td>NCT03240432</td>\n",
       "      <td>NaN</td>\n",
       "      <td>ALL</td>\n",
       "      <td>60 Years</td>\n",
       "      <td>NaN</td>\n",
       "      <td>t</td>\n",
       "      <td>NaN</td>\n",
       "      <td>\"Inclusion Criteria:~To be eligible for the st...</td>\n",
       "      <td>NaN</td>\n",
       "      <td>NaN</td>\n",
       "      <td>t</td>\n",
       "      <td>f</td>\n",
       "      <td>t</td>\n",
       "    </tr>\n",
       "    <tr>\n",
       "      <th>4</th>\n",
       "      <td>6260059</td>\n",
       "      <td>NCT04348578</td>\n",
       "      <td>NaN</td>\n",
       "      <td>ALL</td>\n",
       "      <td>18 Years</td>\n",
       "      <td>65 Years</td>\n",
       "      <td>t</td>\n",
       "      <td>NaN</td>\n",
       "      <td>\"Inclusion Criteria:~* necrotic, single root t...</td>\n",
       "      <td>NaN</td>\n",
       "      <td>NaN</td>\n",
       "      <td>t</td>\n",
       "      <td>f</td>\n",
       "      <td>t</td>\n",
       "    </tr>\n",
       "  </tbody>\n",
       "</table>\n",
       "</div>"
      ],
      "text/plain": [
       "        id       nct_id sampling_method  gender minimum_age maximum_age  \\\n",
       "0  6260055  NCT05050916             NaN  FEMALE    19 Years    40 Years   \n",
       "1  6260056  NCT01092156             NaN  FEMALE    18 Years         NaN   \n",
       "2  6260057  NCT01218256             NaN     ALL    30 Years    80 Years   \n",
       "3  6260058  NCT03240432             NaN     ALL    60 Years         NaN   \n",
       "4  6260059  NCT04348578             NaN     ALL    18 Years    65 Years   \n",
       "\n",
       "  healthy_volunteers population  \\\n",
       "0                  f        NaN   \n",
       "1                  t        NaN   \n",
       "2                  f        NaN   \n",
       "3                  t        NaN   \n",
       "4                  t        NaN   \n",
       "\n",
       "                                            criteria gender_description  \\\n",
       "0  \"* INCLUSION CRITERIA:~In order to be eligible...                NaN   \n",
       "1  \"Inclusion Criteria:~* Pregnant women who inte...                NaN   \n",
       "2  \"Inclusion Criteria:~* type 2 diabetes mellitu...                NaN   \n",
       "3  \"Inclusion Criteria:~To be eligible for the st...                NaN   \n",
       "4  \"Inclusion Criteria:~* necrotic, single root t...                NaN   \n",
       "\n",
       "  gender_based adult child older_adult  \n",
       "0          NaN     t     f           f  \n",
       "1          NaN     t     f           t  \n",
       "2          NaN     t     f           t  \n",
       "3          NaN     t     f           t  \n",
       "4          NaN     t     f           t  "
      ]
     },
     "execution_count": 25,
     "metadata": {},
     "output_type": "execute_result"
    }
   ],
   "source": [
    "elig.head()"
   ]
  },
  {
   "cell_type": "markdown",
   "metadata": {},
   "source": [
    "##### Visulizing the Criteria Column of the Dataframe"
   ]
  },
  {
   "cell_type": "code",
   "execution_count": 26,
   "metadata": {},
   "outputs": [
    {
     "name": "stdout",
     "output_type": "stream",
     "text": [
      "\"Inclusion Criteria:~* Patients must have a histologic diagnosis of\n",
      "adenocarcinoma of the esophagus, or gastroesophageal junction based on biopsy\n",
      "material or adequate cytologic exam.~* Patients must have incurable metastatic\n",
      "or recurrent adenocarcinoma of esophagus or gastroesophageal junction.~*\n",
      "Patients must have an ECOG performance status of 0-1.~* Patients must have\n",
      "adequate bone marrow function as evidence by: absolute neutrophil count \\>\n",
      "1500/uL, and platelet count \\> 100,000/uL~* Patients must have adequate renal\n",
      "function as evidenced by a Cockcroft-Gault calculated creatinine clearance \\> 30\n",
      "mL/min.~* Patient must have adequate hepatic function as evidenced by: serum\n",
      "total bilirubin \\< 2.0 mg/dl, and AST/ALT \\< 3 X the institutional upper limit\n",
      "of normal. Patients with an elevated unconjugated bilirubin (Gilbert's syndrome)\n",
      "will be eligible if hepatic enzymes and function are otherwise completely normal\n",
      "(AST/ALT/Alk Phos within normal limits), and there is no evidence of\n",
      "hemolysis.~* Patients must have cardiac ejection fraction \\> 50% as measured by\n",
      "echocardiogram or MUGA scan.~* Patient must agree to stop medications or\n",
      "substances known to affect, or with the potential to affect the activity or\n",
      "pharmacokinetics of lapatinib. (See Appendix I).~* Patients must be able to\n",
      "adhere to the study visit schedule and other protocol requirements.~* Patients\n",
      "must have measurable/evaluable disease as per RECIST 1.1 criteria.~* Tumor must\n",
      "be tested for HER2 and EGFR before patient registration.~* Patients of\n",
      "childbearing potential must agree to use an effective form of contraception\n",
      "during the study and for 90 days following the last dose of study medication (an\n",
      "effective form of contraception is an oral contraceptive or a double barrier\n",
      "method).~* Patients must be \\>18 years old.~* Women of childbearing potential\n",
      "must have a negative pregnancy test prior to enrollment.~* Patients must have a\n",
      "life expectancy \\>12 weeks.~* Patients must be able to tolerate oral (or\n",
      "feeding-tube administered) medications.~Exclusion Criteria:~* Patients with any\n",
      "other diagnosis except for adenocarcinoma (squamous cell carcinoma, small cell\n",
      "carcinoma, lymphoma, etc) will be ineligible.~* Patients with another active\n",
      "malignancy within the last 5 years will not be eligible except for curatively\n",
      "treated basal cell carcinoma of the skin, cervical intra-epithelial neoplasia,\n",
      "or localized prostate cancer with PSA \\<1.0 mg/dL on 2 successive evaluations at\n",
      "least 3 months apart, with the most recent evaluation within 4 weeks of entry.~*\n",
      "Patients may not have had any previous chemotherapy for recurrent or metastatic\n",
      "disease and no chemotherapy or radiation therapy within the past 4 weeks.~*\n",
      "Patients may not have received any previous treatment with carboplatin,\n",
      "paclitaxel, or a HER2 or EGFR inhibitor prior to enrollment.~* Patients may not\n",
      "be receiving any other investigational agents or other concurrent anticancer\n",
      "therapy.~* Patients with brain metastases are excluded.~* Patients with \\> grade\n",
      "2 peripheral neuropathy per NCI's Common Toxicity Criteria Version 4.0 will be\n",
      "ineligible.~* Males with QTc \\> 450 or females with QTc \\> 470msec will be\n",
      "ineligible.~* Patients with active cardiac disease are excluded including\n",
      "current uncontrolled or symptomatic angina, history of clinically significant\n",
      "arrhythmias requiring medications, (with the exception of asymptomatic atrial\n",
      "tachycardias requiring anticoagulation and/or beta-blockade), myocardial\n",
      "infarction \\< 6 months from study entry, uncontrolled or symptomatic congestive\n",
      "heart failure, or any other cardiac condition, which in the opinion of the\n",
      "treating physician, would make this protocol unreasonably hazardous for the\n",
      "patient~* Women who are currently pregnant or lactating will be ineligible.~*\n",
      "Any other uncontrolled inter-current medical or psychiatric illness.~* Known\n",
      "HIV-positive patients will be excluded.~* Patients with any gastrointestinal\n",
      "disease resulting in an inability to take oral )or feeding-tube administered\n",
      "medication, malabsorption syndrome, a requirement for IV alimentation, prior\n",
      "surgical procedures affecting absorption, or uncontrolled inflammatory GI\n",
      "disease (e.g., Crohn's, ulcerative colitis).~* Concomitant requirement for\n",
      "medication classified as CYP3A4 inducers or inhibitors.\"\n"
     ]
    }
   ],
   "source": [
    "wrapped_text = textwrap.fill(elig[\"criteria\"][9], width=80)\n",
    "print(wrapped_text)"
   ]
  },
  {
   "cell_type": "markdown",
   "metadata": {},
   "source": [
    "Separating Criteria Column into Inclusion Criteria and Exclusion Criteria and cleaning the Data"
   ]
  },
  {
   "cell_type": "code",
   "execution_count": 27,
   "metadata": {},
   "outputs": [],
   "source": [
    "import re\n",
    "\n",
    "def extract_criteria(text):\n",
    "    if pd.isna(text):\n",
    "        return None, None\n",
    "    \n",
    "    inclusion_pattern = r\"Inclusion Criteria:\\s*(.*?)(?=Exclusion Criteria:|End of text)\"\n",
    "    exclusion_pattern = r\"Exclusion Criteria:\\s*(.*)\"\n",
    "\n",
    "    inclusion_match = re.search(inclusion_pattern, text, re.DOTALL)\n",
    "    exclusion_match = re.search(exclusion_pattern, text, re.DOTALL)\n",
    "\n",
    "    inclusion_criteria = inclusion_match.group(1).strip() if inclusion_match else None\n",
    "    exclusion_criteria = exclusion_match.group(1).strip() if exclusion_match else None\n",
    "\n",
    "    return inclusion_criteria, exclusion_criteria\n",
    "\n",
    "# Assuming your DataFrame is named 'df' and the column with criteria is 'Criteria'\n",
    "elig['Inclusion Criteria'] = elig['criteria'].apply(lambda x: extract_criteria(x)[0])\n",
    "elig['Exclusion Criteria'] = elig['criteria'].apply(lambda x: extract_criteria(x)[1])\n",
    "\n",
    "# Clean the text (optional, adjust as needed)\n",
    "def clean_text(text):\n",
    "    if pd.isna(text):\n",
    "        return text\n",
    "    \n",
    "    # Remove extra spaces and newlines\n",
    "    text = re.sub(r'\\s+', ' ', text)\n",
    "    # Remove specific symbols or characters (adjust as needed)\n",
    "    text = re.sub(r'[~*]', '', text)\n",
    "    return text\n",
    "\n",
    "elig['Inclusion Criteria'] = elig['Inclusion Criteria'].apply(clean_text)\n",
    "elig['Exclusion Criteria'] = elig['Exclusion Criteria'].apply(clean_text)"
   ]
  },
  {
   "cell_type": "code",
   "execution_count": 28,
   "metadata": {},
   "outputs": [
    {
     "name": "stdout",
     "output_type": "stream",
     "text": [
      "<class 'pandas.core.frame.DataFrame'>\n",
      "RangeIndex: 502245 entries, 0 to 502244\n",
      "Data columns (total 16 columns):\n",
      " #   Column              Non-Null Count   Dtype \n",
      "---  ------              --------------   ----- \n",
      " 0   id                  502245 non-null  int64 \n",
      " 1   nct_id              502245 non-null  object\n",
      " 2   sampling_method     111494 non-null  object\n",
      " 3   gender              501814 non-null  object\n",
      " 4   minimum_age         469345 non-null  object\n",
      " 5   maximum_age         266159 non-null  object\n",
      " 6   healthy_volunteers  489522 non-null  object\n",
      " 7   population          111482 non-null  object\n",
      " 8   criteria            502154 non-null  object\n",
      " 9   gender_description  9252 non-null    object\n",
      " 10  gender_based        13898 non-null   object\n",
      " 11  adult               502245 non-null  object\n",
      " 12  child               502245 non-null  object\n",
      " 13  older_adult         502245 non-null  object\n",
      " 14  Inclusion Criteria  448773 non-null  object\n",
      " 15  Exclusion Criteria  452843 non-null  object\n",
      "dtypes: int64(1), object(15)\n",
      "memory usage: 61.3+ MB\n"
     ]
    }
   ],
   "source": [
    "elig.info()"
   ]
  },
  {
   "cell_type": "markdown",
   "metadata": {},
   "source": [
    "Checking the Criteria Columns"
   ]
  },
  {
   "cell_type": "code",
   "execution_count": 29,
   "metadata": {},
   "outputs": [
    {
     "name": "stdout",
     "output_type": "stream",
     "text": [
      "\"Inclusion Criteria:~* Patients must have a histologic diagnosis of\n",
      "adenocarcinoma of the esophagus, or gastroesophageal junction based on biopsy\n",
      "material or adequate cytologic exam.~* Patients must have incurable metastatic\n",
      "or recurrent adenocarcinoma of esophagus or gastroesophageal junction.~*\n",
      "Patients must have an ECOG performance status of 0-1.~* Patients must have\n",
      "adequate bone marrow function as evidence by: absolute neutrophil count \\>\n",
      "1500/uL, and platelet count \\> 100,000/uL~* Patients must have adequate renal\n",
      "function as evidenced by a Cockcroft-Gault calculated creatinine clearance \\> 30\n",
      "mL/min.~* Patient must have adequate hepatic function as evidenced by: serum\n",
      "total bilirubin \\< 2.0 mg/dl, and AST/ALT \\< 3 X the institutional upper limit\n",
      "of normal. Patients with an elevated unconjugated bilirubin (Gilbert's syndrome)\n",
      "will be eligible if hepatic enzymes and function are otherwise completely normal\n",
      "(AST/ALT/Alk Phos within normal limits), and there is no evidence of\n",
      "hemolysis.~* Patients must have cardiac ejection fraction \\> 50% as measured by\n",
      "echocardiogram or MUGA scan.~* Patient must agree to stop medications or\n",
      "substances known to affect, or with the potential to affect the activity or\n",
      "pharmacokinetics of lapatinib. (See Appendix I).~* Patients must be able to\n",
      "adhere to the study visit schedule and other protocol requirements.~* Patients\n",
      "must have measurable/evaluable disease as per RECIST 1.1 criteria.~* Tumor must\n",
      "be tested for HER2 and EGFR before patient registration.~* Patients of\n",
      "childbearing potential must agree to use an effective form of contraception\n",
      "during the study and for 90 days following the last dose of study medication (an\n",
      "effective form of contraception is an oral contraceptive or a double barrier\n",
      "method).~* Patients must be \\>18 years old.~* Women of childbearing potential\n",
      "must have a negative pregnancy test prior to enrollment.~* Patients must have a\n",
      "life expectancy \\>12 weeks.~* Patients must be able to tolerate oral (or\n",
      "feeding-tube administered) medications.~Exclusion Criteria:~* Patients with any\n",
      "other diagnosis except for adenocarcinoma (squamous cell carcinoma, small cell\n",
      "carcinoma, lymphoma, etc) will be ineligible.~* Patients with another active\n",
      "malignancy within the last 5 years will not be eligible except for curatively\n",
      "treated basal cell carcinoma of the skin, cervical intra-epithelial neoplasia,\n",
      "or localized prostate cancer with PSA \\<1.0 mg/dL on 2 successive evaluations at\n",
      "least 3 months apart, with the most recent evaluation within 4 weeks of entry.~*\n",
      "Patients may not have had any previous chemotherapy for recurrent or metastatic\n",
      "disease and no chemotherapy or radiation therapy within the past 4 weeks.~*\n",
      "Patients may not have received any previous treatment with carboplatin,\n",
      "paclitaxel, or a HER2 or EGFR inhibitor prior to enrollment.~* Patients may not\n",
      "be receiving any other investigational agents or other concurrent anticancer\n",
      "therapy.~* Patients with brain metastases are excluded.~* Patients with \\> grade\n",
      "2 peripheral neuropathy per NCI's Common Toxicity Criteria Version 4.0 will be\n",
      "ineligible.~* Males with QTc \\> 450 or females with QTc \\> 470msec will be\n",
      "ineligible.~* Patients with active cardiac disease are excluded including\n",
      "current uncontrolled or symptomatic angina, history of clinically significant\n",
      "arrhythmias requiring medications, (with the exception of asymptomatic atrial\n",
      "tachycardias requiring anticoagulation and/or beta-blockade), myocardial\n",
      "infarction \\< 6 months from study entry, uncontrolled or symptomatic congestive\n",
      "heart failure, or any other cardiac condition, which in the opinion of the\n",
      "treating physician, would make this protocol unreasonably hazardous for the\n",
      "patient~* Women who are currently pregnant or lactating will be ineligible.~*\n",
      "Any other uncontrolled inter-current medical or psychiatric illness.~* Known\n",
      "HIV-positive patients will be excluded.~* Patients with any gastrointestinal\n",
      "disease resulting in an inability to take oral )or feeding-tube administered\n",
      "medication, malabsorption syndrome, a requirement for IV alimentation, prior\n",
      "surgical procedures affecting absorption, or uncontrolled inflammatory GI\n",
      "disease (e.g., Crohn's, ulcerative colitis).~* Concomitant requirement for\n",
      "medication classified as CYP3A4 inducers or inhibitors.\"\n",
      ">>>>>>>>>>>>>>>>>>>>>>>>>>>>>>>>>>>>>>>>>>>>>>>>>>>>>>>>>>>>>>>>>>>\n",
      " Patients must have a histologic diagnosis of adenocarcinoma of the esophagus,\n",
      "or gastroesophageal junction based on biopsy material or adequate cytologic\n",
      "exam. Patients must have incurable metastatic or recurrent adenocarcinoma of\n",
      "esophagus or gastroesophageal junction. Patients must have an ECOG performance\n",
      "status of 0-1. Patients must have adequate bone marrow function as evidence by:\n",
      "absolute neutrophil count \\> 1500/uL, and platelet count \\> 100,000/uL Patients\n",
      "must have adequate renal function as evidenced by a Cockcroft-Gault calculated\n",
      "creatinine clearance \\> 30 mL/min. Patient must have adequate hepatic function\n",
      "as evidenced by: serum total bilirubin \\< 2.0 mg/dl, and AST/ALT \\< 3 X the\n",
      "institutional upper limit of normal. Patients with an elevated unconjugated\n",
      "bilirubin (Gilbert's syndrome) will be eligible if hepatic enzymes and function\n",
      "are otherwise completely normal (AST/ALT/Alk Phos within normal limits), and\n",
      "there is no evidence of hemolysis. Patients must have cardiac ejection fraction\n",
      "\\> 50% as measured by echocardiogram or MUGA scan. Patient must agree to stop\n",
      "medications or substances known to affect, or with the potential to affect the\n",
      "activity or pharmacokinetics of lapatinib. (See Appendix I). Patients must be\n",
      "able to adhere to the study visit schedule and other protocol requirements.\n",
      "Patients must have measurable/evaluable disease as per RECIST 1.1 criteria.\n",
      "Tumor must be tested for HER2 and EGFR before patient registration. Patients of\n",
      "childbearing potential must agree to use an effective form of contraception\n",
      "during the study and for 90 days following the last dose of study medication (an\n",
      "effective form of contraception is an oral contraceptive or a double barrier\n",
      "method). Patients must be \\>18 years old. Women of childbearing potential must\n",
      "have a negative pregnancy test prior to enrollment. Patients must have a life\n",
      "expectancy \\>12 weeks. Patients must be able to tolerate oral (or feeding-tube\n",
      "administered) medications.\n",
      ">>>>>>>>>>>>>>>>>>>>>>>>>>>>>>>>>>>>>>>>>>>>>>>>>>>>>>>>>>>>>>>>>>>\n",
      " Patients with any other diagnosis except for adenocarcinoma (squamous cell\n",
      "carcinoma, small cell carcinoma, lymphoma, etc) will be ineligible. Patients\n",
      "with another active malignancy within the last 5 years will not be eligible\n",
      "except for curatively treated basal cell carcinoma of the skin, cervical intra-\n",
      "epithelial neoplasia, or localized prostate cancer with PSA \\<1.0 mg/dL on 2\n",
      "successive evaluations at least 3 months apart, with the most recent evaluation\n",
      "within 4 weeks of entry. Patients may not have had any previous chemotherapy for\n",
      "recurrent or metastatic disease and no chemotherapy or radiation therapy within\n",
      "the past 4 weeks. Patients may not have received any previous treatment with\n",
      "carboplatin, paclitaxel, or a HER2 or EGFR inhibitor prior to enrollment.\n",
      "Patients may not be receiving any other investigational agents or other\n",
      "concurrent anticancer therapy. Patients with brain metastases are excluded.\n",
      "Patients with \\> grade 2 peripheral neuropathy per NCI's Common Toxicity\n",
      "Criteria Version 4.0 will be ineligible. Males with QTc \\> 450 or females with\n",
      "QTc \\> 470msec will be ineligible. Patients with active cardiac disease are\n",
      "excluded including current uncontrolled or symptomatic angina, history of\n",
      "clinically significant arrhythmias requiring medications, (with the exception of\n",
      "asymptomatic atrial tachycardias requiring anticoagulation and/or beta-\n",
      "blockade), myocardial infarction \\< 6 months from study entry, uncontrolled or\n",
      "symptomatic congestive heart failure, or any other cardiac condition, which in\n",
      "the opinion of the treating physician, would make this protocol unreasonably\n",
      "hazardous for the patient Women who are currently pregnant or lactating will be\n",
      "ineligible. Any other uncontrolled inter-current medical or psychiatric illness.\n",
      "Known HIV-positive patients will be excluded. Patients with any gastrointestinal\n",
      "disease resulting in an inability to take oral )or feeding-tube administered\n",
      "medication, malabsorption syndrome, a requirement for IV alimentation, prior\n",
      "surgical procedures affecting absorption, or uncontrolled inflammatory GI\n",
      "disease (e.g., Crohn's, ulcerative colitis). Concomitant requirement for\n",
      "medication classified as CYP3A4 inducers or inhibitors.\"\n"
     ]
    }
   ],
   "source": [
    "index = 9\n",
    "\n",
    "wrapped_text = textwrap.fill(elig[\"criteria\"][index], width=80)\n",
    "print(wrapped_text)\n",
    "\n",
    "print(\">>>>>>>>>>>>>>>>>>>>>>>>>>>>>>>>>>>>>>>>>>>>>>>>>>>>>>>>>>>>>>>>>>>\")\n",
    "\n",
    "wrapped_text = textwrap.fill(elig[\"Inclusion Criteria\"][index], width=80)\n",
    "print(wrapped_text)\n",
    "\n",
    "print(\">>>>>>>>>>>>>>>>>>>>>>>>>>>>>>>>>>>>>>>>>>>>>>>>>>>>>>>>>>>>>>>>>>>\")\n",
    "\n",
    "wrapped_text = textwrap.fill(elig[\"Exclusion Criteria\"][index], width=80)\n",
    "print(wrapped_text)"
   ]
  },
  {
   "cell_type": "markdown",
   "metadata": {},
   "source": [
    "##### Replacing some values of columns to more sensible Values"
   ]
  },
  {
   "cell_type": "markdown",
   "metadata": {},
   "source": [
    "Sampling Method"
   ]
  },
  {
   "cell_type": "code",
   "execution_count": 30,
   "metadata": {},
   "outputs": [
    {
     "data": {
      "text/plain": [
       "sampling_method\n",
       "NON_PROBABILITY_SAMPLE    80172\n",
       "PROBABILITY_SAMPLE        31322\n",
       "Name: count, dtype: int64"
      ]
     },
     "execution_count": 30,
     "metadata": {},
     "output_type": "execute_result"
    }
   ],
   "source": [
    "elig[\"sampling_method\"].value_counts()"
   ]
  },
  {
   "cell_type": "code",
   "execution_count": 31,
   "metadata": {},
   "outputs": [],
   "source": [
    "replacements = {\n",
    "    'NON_PROBABILITY_SAMPLE': 'Non Probability Sample',\n",
    "    'PROBABILITY_SAMPLE': 'Probability Sample'\n",
    "}\n",
    "\n",
    "elig['sampling_method'] = elig['sampling_method'].replace(replacements, regex=False)"
   ]
  },
  {
   "cell_type": "markdown",
   "metadata": {},
   "source": [
    "Healthy Volunteers"
   ]
  },
  {
   "cell_type": "code",
   "execution_count": 32,
   "metadata": {},
   "outputs": [],
   "source": [
    "replacements = {\n",
    "    'f': 'No',\n",
    "    't': 'Yes'\n",
    "}\n",
    "\n",
    "elig['healthy_volunteers'] = elig['healthy_volunteers'].replace(replacements, regex=False)"
   ]
  },
  {
   "cell_type": "code",
   "execution_count": 33,
   "metadata": {},
   "outputs": [
    {
     "data": {
      "text/plain": [
       "healthy_volunteers\n",
       "No     355670\n",
       "Yes    133852\n",
       "Name: count, dtype: int64"
      ]
     },
     "execution_count": 33,
     "metadata": {},
     "output_type": "execute_result"
    }
   ],
   "source": [
    "elig[\"healthy_volunteers\"].value_counts()"
   ]
  },
  {
   "cell_type": "markdown",
   "metadata": {},
   "source": [
    "Gender Based"
   ]
  },
  {
   "cell_type": "code",
   "execution_count": 34,
   "metadata": {},
   "outputs": [
    {
     "data": {
      "text/plain": [
       "gender_based\n",
       "Yes    13898\n",
       "Name: count, dtype: int64"
      ]
     },
     "execution_count": 34,
     "metadata": {},
     "output_type": "execute_result"
    }
   ],
   "source": [
    "replacements = {\n",
    "    'f': 'No',\n",
    "    't': 'Yes'\n",
    "}\n",
    "\n",
    "elig['gender_based'] = elig['gender_based'].replace(replacements, regex=False)\n",
    "\n",
    "elig[\"gender_based\"].value_counts()"
   ]
  },
  {
   "cell_type": "markdown",
   "metadata": {},
   "source": [
    "Adult"
   ]
  },
  {
   "cell_type": "code",
   "execution_count": 35,
   "metadata": {},
   "outputs": [
    {
     "data": {
      "text/plain": [
       "adult\n",
       "Yes    464223\n",
       "No      38022\n",
       "Name: count, dtype: int64"
      ]
     },
     "execution_count": 35,
     "metadata": {},
     "output_type": "execute_result"
    }
   ],
   "source": [
    "replacements = {\n",
    "    'f': 'No',\n",
    "    't': 'Yes'\n",
    "}\n",
    "\n",
    "elig['adult'] = elig['adult'].replace(replacements, regex=False)\n",
    "\n",
    "elig[\"adult\"].value_counts()"
   ]
  },
  {
   "cell_type": "markdown",
   "metadata": {},
   "source": [
    "Child"
   ]
  },
  {
   "cell_type": "code",
   "execution_count": 36,
   "metadata": {},
   "outputs": [
    {
     "data": {
      "text/plain": [
       "child\n",
       "No     403811\n",
       "Yes     98434\n",
       "Name: count, dtype: int64"
      ]
     },
     "execution_count": 36,
     "metadata": {},
     "output_type": "execute_result"
    }
   ],
   "source": [
    "replacements = {\n",
    "    'f': 'No',\n",
    "    't': 'Yes'\n",
    "}\n",
    "\n",
    "elig['child'] = elig['child'].replace(replacements, regex=False)\n",
    "\n",
    "elig[\"child\"].value_counts()"
   ]
  },
  {
   "cell_type": "markdown",
   "metadata": {},
   "source": [
    "Older Adult"
   ]
  },
  {
   "cell_type": "code",
   "execution_count": 37,
   "metadata": {},
   "outputs": [
    {
     "data": {
      "text/plain": [
       "older_adult\n",
       "Yes    383250\n",
       "No     118995\n",
       "Name: count, dtype: int64"
      ]
     },
     "execution_count": 37,
     "metadata": {},
     "output_type": "execute_result"
    }
   ],
   "source": [
    "replacements = {\n",
    "    'f': 'No',\n",
    "    't': 'Yes'\n",
    "}\n",
    "\n",
    "elig['older_adult'] = elig['older_adult'].replace(replacements, regex=False)\n",
    "\n",
    "elig[\"older_adult\"].value_counts()"
   ]
  },
  {
   "cell_type": "code",
   "execution_count": 38,
   "metadata": {},
   "outputs": [],
   "source": [
    "new_column_names = ['id', 'NCT Number', 'Sampling Method', 'Gender', 'Minimum Age', 'Maximum Age', 'Healthy Volunteers',\n",
    "                   'Population', 'Criteria', 'Gender Description', 'Gender Based', 'Adult', 'Child', 'Older Adult',\n",
    "                   'Inclusion Criteria', 'Exclusion Criteria']\n",
    "\n",
    "elig.columns = new_column_names"
   ]
  },
  {
   "cell_type": "code",
   "execution_count": 39,
   "metadata": {},
   "outputs": [],
   "source": [
    "elig.drop(columns=[\"id\"],inplace=True)"
   ]
  },
  {
   "cell_type": "markdown",
   "metadata": {},
   "source": [
    "#### Joining all the Dataframes"
   ]
  },
  {
   "cell_type": "code",
   "execution_count": 40,
   "metadata": {},
   "outputs": [
    {
     "name": "stdout",
     "output_type": "stream",
     "text": [
      "<class 'pandas.core.frame.DataFrame'>\n",
      "RangeIndex: 117980 entries, 0 to 117979\n",
      "Data columns (total 15 columns):\n",
      " #   Column                      Non-Null Count   Dtype \n",
      "---  ------                      --------------   ----- \n",
      " 0   NCT Number                  117980 non-null  object\n",
      " 1   Study Title                 117980 non-null  object\n",
      " 2   Acronym                     24116 non-null   object\n",
      " 3   Brief Summary               117980 non-null  object\n",
      " 4   Conditions                  117950 non-null  object\n",
      " 5   Interventions               112324 non-null  object\n",
      " 6   Primary Outcome Measures    114903 non-null  object\n",
      " 7   Secondary Outcome Measures  93200 non-null   object\n",
      " 8   Other Outcome Measures      7924 non-null    object\n",
      " 9   Sponsor                     117980 non-null  object\n",
      " 10  Sex                         117838 non-null  object\n",
      " 11  Age                         117980 non-null  object\n",
      " 12  Phases                      83095 non-null   object\n",
      " 13  Study Type                  117980 non-null  object\n",
      " 14  Study Design                117328 non-null  object\n",
      "dtypes: object(15)\n",
      "memory usage: 13.5+ MB\n"
     ]
    }
   ],
   "source": [
    "df.info()"
   ]
  },
  {
   "cell_type": "code",
   "execution_count": 41,
   "metadata": {},
   "outputs": [
    {
     "name": "stdout",
     "output_type": "stream",
     "text": [
      "<class 'pandas.core.frame.DataFrame'>\n",
      "RangeIndex: 117980 entries, 0 to 117979\n",
      "Data columns (total 14 columns):\n",
      " #   Column               Non-Null Count   Dtype \n",
      "---  ------               --------------   ----- \n",
      " 0   Allocation           101198 non-null  object\n",
      " 1   Intervention Model   101198 non-null  object\n",
      " 2   Masking              101198 non-null  object\n",
      " 3   Primary Purpose      101198 non-null  object\n",
      " 4   Observational Model  16130 non-null   object\n",
      " 5   Time Perspective     16130 non-null   object\n",
      " 6   NCT Number           117980 non-null  object\n",
      " 7   Masking Type         100223 non-null  object\n",
      " 8   Maskings             117980 non-null  object\n",
      " 9   Masking1             41333 non-null   object\n",
      " 10  Masking2             36202 non-null   object\n",
      " 11  Masking3             22513 non-null   object\n",
      " 12  Masking4             15489 non-null   object\n",
      " 13  Masking Description  117980 non-null  object\n",
      "dtypes: object(14)\n",
      "memory usage: 12.6+ MB\n"
     ]
    }
   ],
   "source": [
    "studydes_df.info()"
   ]
  },
  {
   "cell_type": "code",
   "execution_count": 42,
   "metadata": {},
   "outputs": [
    {
     "name": "stdout",
     "output_type": "stream",
     "text": [
      "<class 'pandas.core.frame.DataFrame'>\n",
      "RangeIndex: 117980 entries, 0 to 117979\n",
      "Data columns (total 12 columns):\n",
      " #   Column               Non-Null Count   Dtype \n",
      "---  ------               --------------   ----- \n",
      " 0   Drug                 75225 non-null   object\n",
      " 1   Device               18135 non-null   object\n",
      " 2   Procedure            2221 non-null    object\n",
      " 3   Biological           11361 non-null   object\n",
      " 4   Other                9303 non-null    object\n",
      " 5   Combination Product  662 non-null     object\n",
      " 6   Behavioral           852 non-null     object\n",
      " 7   Dietary Supplement   2289 non-null    object\n",
      " 8   Genetic              406 non-null     object\n",
      " 9   Diaganostic Test     1041 non-null    object\n",
      " 10  Radiation            435 non-null     object\n",
      " 11  NCT Number           117980 non-null  object\n",
      "dtypes: object(12)\n",
      "memory usage: 10.8+ MB\n"
     ]
    }
   ],
   "source": [
    "interventions_df.info()"
   ]
  },
  {
   "cell_type": "code",
   "execution_count": 43,
   "metadata": {},
   "outputs": [
    {
     "name": "stdout",
     "output_type": "stream",
     "text": [
      "<class 'pandas.core.frame.DataFrame'>\n",
      "RangeIndex: 502245 entries, 0 to 502244\n",
      "Data columns (total 15 columns):\n",
      " #   Column              Non-Null Count   Dtype \n",
      "---  ------              --------------   ----- \n",
      " 0   NCT Number          502245 non-null  object\n",
      " 1   Sampling Method     111494 non-null  object\n",
      " 2   Gender              501814 non-null  object\n",
      " 3   Minimum Age         469345 non-null  object\n",
      " 4   Maximum Age         266159 non-null  object\n",
      " 5   Healthy Volunteers  489522 non-null  object\n",
      " 6   Population          111482 non-null  object\n",
      " 7   Criteria            502154 non-null  object\n",
      " 8   Gender Description  9252 non-null    object\n",
      " 9   Gender Based        13898 non-null   object\n",
      " 10  Adult               502245 non-null  object\n",
      " 11  Child               502245 non-null  object\n",
      " 12  Older Adult         502245 non-null  object\n",
      " 13  Inclusion Criteria  448773 non-null  object\n",
      " 14  Exclusion Criteria  452843 non-null  object\n",
      "dtypes: object(15)\n",
      "memory usage: 57.5+ MB\n"
     ]
    }
   ],
   "source": [
    "elig.info()"
   ]
  },
  {
   "cell_type": "code",
   "execution_count": 44,
   "metadata": {},
   "outputs": [],
   "source": [
    "merged_df = df.merge(studydes_df, on='NCT Number') \\\n",
    "               .merge(interventions_df, on='NCT Number') \\\n",
    "               .merge(elig, on='NCT Number')"
   ]
  },
  {
   "cell_type": "code",
   "execution_count": 45,
   "metadata": {},
   "outputs": [
    {
     "name": "stdout",
     "output_type": "stream",
     "text": [
      "<class 'pandas.core.frame.DataFrame'>\n",
      "RangeIndex: 116149 entries, 0 to 116148\n",
      "Data columns (total 53 columns):\n",
      " #   Column                      Non-Null Count   Dtype \n",
      "---  ------                      --------------   ----- \n",
      " 0   NCT Number                  116149 non-null  object\n",
      " 1   Study Title                 116149 non-null  object\n",
      " 2   Acronym                     23677 non-null   object\n",
      " 3   Brief Summary               116149 non-null  object\n",
      " 4   Conditions                  116120 non-null  object\n",
      " 5   Interventions               110576 non-null  object\n",
      " 6   Primary Outcome Measures    113082 non-null  object\n",
      " 7   Secondary Outcome Measures  91742 non-null   object\n",
      " 8   Other Outcome Measures      7734 non-null    object\n",
      " 9   Sponsor                     116149 non-null  object\n",
      " 10  Sex                         116008 non-null  object\n",
      " 11  Age                         116149 non-null  object\n",
      " 12  Phases                      81968 non-null   object\n",
      " 13  Study Type                  116149 non-null  object\n",
      " 14  Study Design                115507 non-null  object\n",
      " 15  Allocation                  99663 non-null   object\n",
      " 16  Intervention Model          99663 non-null   object\n",
      " 17  Masking                     99663 non-null   object\n",
      " 18  Primary Purpose             99663 non-null   object\n",
      " 19  Observational Model         15844 non-null   object\n",
      " 20  Time Perspective            15844 non-null   object\n",
      " 21  Masking Type                98688 non-null   object\n",
      " 22  Maskings                    116149 non-null  object\n",
      " 23  Masking1                    40701 non-null   object\n",
      " 24  Masking2                    35649 non-null   object\n",
      " 25  Masking3                    22138 non-null   object\n",
      " 26  Masking4                    15217 non-null   object\n",
      " 27  Masking Description         116149 non-null  object\n",
      " 28  Drug                        74211 non-null   object\n",
      " 29  Device                      17784 non-null   object\n",
      " 30  Procedure                   2191 non-null    object\n",
      " 31  Biological                  11203 non-null   object\n",
      " 32  Other                       9117 non-null    object\n",
      " 33  Combination Product         647 non-null     object\n",
      " 34  Behavioral                  825 non-null     object\n",
      " 35  Dietary Supplement          2220 non-null    object\n",
      " 36  Genetic                     389 non-null     object\n",
      " 37  Diaganostic Test            1011 non-null    object\n",
      " 38  Radiation                   428 non-null     object\n",
      " 39  Sampling Method             15643 non-null   object\n",
      " 40  Gender                      116008 non-null  object\n",
      " 41  Minimum Age                 111518 non-null  object\n",
      " 42  Maximum Age                 58068 non-null   object\n",
      " 43  Healthy Volunteers          114287 non-null  object\n",
      " 44  Population                  15644 non-null   object\n",
      " 45  Criteria                    116096 non-null  object\n",
      " 46  Gender Description          1084 non-null    object\n",
      " 47  Gender Based                2012 non-null    object\n",
      " 48  Adult                       116149 non-null  object\n",
      " 49  Child                       116149 non-null  object\n",
      " 50  Older Adult                 116149 non-null  object\n",
      " 51  Inclusion Criteria          103950 non-null  object\n",
      " 52  Exclusion Criteria          104850 non-null  object\n",
      "dtypes: object(53)\n",
      "memory usage: 47.0+ MB\n"
     ]
    }
   ],
   "source": [
    "merged_df.info()"
   ]
  },
  {
   "cell_type": "markdown",
   "metadata": {},
   "source": [
    "#### Handling NaN/None Values"
   ]
  },
  {
   "cell_type": "code",
   "execution_count": 46,
   "metadata": {},
   "outputs": [
    {
     "name": "stdout",
     "output_type": "stream",
     "text": [
      "92472\n"
     ]
    }
   ],
   "source": [
    "print(merged_df[\"Acronym\"].isna().sum())"
   ]
  },
  {
   "cell_type": "code",
   "execution_count": 47,
   "metadata": {},
   "outputs": [],
   "source": [
    "merged_df[\"Acronym\"] = merged_df[\"Acronym\"].fillna(\"Not Available\")"
   ]
  },
  {
   "cell_type": "code",
   "execution_count": 48,
   "metadata": {},
   "outputs": [
    {
     "name": "stdout",
     "output_type": "stream",
     "text": [
      "29\n"
     ]
    }
   ],
   "source": [
    "print(merged_df[\"Conditions\"].isna().sum())"
   ]
  },
  {
   "cell_type": "code",
   "execution_count": 49,
   "metadata": {},
   "outputs": [],
   "source": [
    "merged_df[\"Conditions\"] = merged_df[\"Conditions\"].fillna(\"Not Available\")"
   ]
  },
  {
   "cell_type": "code",
   "execution_count": 50,
   "metadata": {},
   "outputs": [
    {
     "name": "stdout",
     "output_type": "stream",
     "text": [
      "5573\n"
     ]
    }
   ],
   "source": [
    "print(merged_df[\"Interventions\"].isna().sum())"
   ]
  },
  {
   "cell_type": "code",
   "execution_count": 51,
   "metadata": {},
   "outputs": [],
   "source": [
    "merged_df[\"Interventions\"] = merged_df[\"Interventions\"].fillna(\"Not Available\")"
   ]
  },
  {
   "cell_type": "code",
   "execution_count": 52,
   "metadata": {},
   "outputs": [
    {
     "name": "stdout",
     "output_type": "stream",
     "text": [
      "3067\n"
     ]
    }
   ],
   "source": [
    "print(merged_df[\"Primary Outcome Measures\"].isna().sum())"
   ]
  },
  {
   "cell_type": "code",
   "execution_count": 53,
   "metadata": {},
   "outputs": [],
   "source": [
    "merged_df[\"Primary Outcome Measures\"] = merged_df[\"Primary Outcome Measures\"].fillna(\"Not Available\")"
   ]
  },
  {
   "cell_type": "code",
   "execution_count": 54,
   "metadata": {},
   "outputs": [
    {
     "name": "stdout",
     "output_type": "stream",
     "text": [
      "108415\n"
     ]
    }
   ],
   "source": [
    "print(merged_df[\"Other Outcome Measures\"].isna().sum())"
   ]
  },
  {
   "cell_type": "code",
   "execution_count": 55,
   "metadata": {},
   "outputs": [],
   "source": [
    "merged_df[\"Other Outcome Measures\"] = merged_df[\"Other Outcome Measures\"].fillna(\"Not Available\")"
   ]
  },
  {
   "cell_type": "code",
   "execution_count": 56,
   "metadata": {},
   "outputs": [
    {
     "name": "stdout",
     "output_type": "stream",
     "text": [
      "24407\n"
     ]
    }
   ],
   "source": [
    "print(merged_df[\"Secondary Outcome Measures\"].isna().sum())"
   ]
  },
  {
   "cell_type": "code",
   "execution_count": 57,
   "metadata": {},
   "outputs": [],
   "source": [
    "merged_df[\"Secondary Outcome Measures\"] = merged_df[\"Secondary Outcome Measures\"].fillna(\"Not Available\")"
   ]
  },
  {
   "cell_type": "code",
   "execution_count": 58,
   "metadata": {},
   "outputs": [
    {
     "name": "stdout",
     "output_type": "stream",
     "text": [
      "141\n"
     ]
    }
   ],
   "source": [
    "print(merged_df[\"Sex\"].isna().sum())"
   ]
  },
  {
   "cell_type": "code",
   "execution_count": 59,
   "metadata": {},
   "outputs": [],
   "source": [
    "merged_df[\"Sex\"] = merged_df[\"Sex\"].fillna(\"all\")"
   ]
  },
  {
   "cell_type": "code",
   "execution_count": 60,
   "metadata": {},
   "outputs": [
    {
     "name": "stdout",
     "output_type": "stream",
     "text": [
      "34181\n"
     ]
    }
   ],
   "source": [
    "print(merged_df[\"Phases\"].isna().sum())"
   ]
  },
  {
   "cell_type": "code",
   "execution_count": 61,
   "metadata": {},
   "outputs": [],
   "source": [
    "merged_df[\"Phases\"] = merged_df[\"Phases\"].fillna(\"Not Available\")"
   ]
  },
  {
   "cell_type": "code",
   "execution_count": 62,
   "metadata": {},
   "outputs": [
    {
     "name": "stdout",
     "output_type": "stream",
     "text": [
      "642\n"
     ]
    }
   ],
   "source": [
    "print(merged_df[\"Study Design\"].isna().sum())"
   ]
  },
  {
   "cell_type": "code",
   "execution_count": 63,
   "metadata": {},
   "outputs": [],
   "source": [
    "merged_df[\"Study Design\"] = merged_df[\"Study Design\"].fillna(\"Not Available\")"
   ]
  },
  {
   "cell_type": "code",
   "execution_count": 64,
   "metadata": {},
   "outputs": [
    {
     "data": {
      "text/plain": [
       "Allocation\n",
       "RANDOMIZED        61572\n",
       "NA                22627\n",
       "NON_RANDOMIZED    14100\n",
       "                   1364\n",
       "Name: count, dtype: int64"
      ]
     },
     "execution_count": 64,
     "metadata": {},
     "output_type": "execute_result"
    }
   ],
   "source": [
    "merged_df[\"Allocation\"].value_counts()"
   ]
  },
  {
   "cell_type": "code",
   "execution_count": 65,
   "metadata": {},
   "outputs": [
    {
     "name": "stdout",
     "output_type": "stream",
     "text": [
      "40477\n"
     ]
    }
   ],
   "source": [
    "merged_df[\"Allocation\"] = merged_df[\"Allocation\"].replace(['NA', '', 'N/A'], np.nan)\n",
    "print(merged_df[\"Allocation\"].isna().sum())"
   ]
  },
  {
   "cell_type": "code",
   "execution_count": 66,
   "metadata": {},
   "outputs": [],
   "source": [
    "merged_df[\"Allocation\"] = merged_df[\"Allocation\"].fillna(\"Not Available\")"
   ]
  },
  {
   "cell_type": "code",
   "execution_count": 67,
   "metadata": {},
   "outputs": [
    {
     "data": {
      "text/plain": [
       "Intervention Model\n",
       "PARALLEL        51967\n",
       "SINGLE_GROUP    29450\n",
       "CROSSOVER       10978\n",
       "SEQUENTIAL       5471\n",
       "                 1376\n",
       "FACTORIAL         421\n",
       "Name: count, dtype: int64"
      ]
     },
     "execution_count": 67,
     "metadata": {},
     "output_type": "execute_result"
    }
   ],
   "source": [
    "merged_df[\"Intervention Model\"].value_counts()"
   ]
  },
  {
   "cell_type": "code",
   "execution_count": 68,
   "metadata": {},
   "outputs": [
    {
     "name": "stdout",
     "output_type": "stream",
     "text": [
      "17862\n"
     ]
    }
   ],
   "source": [
    "merged_df[\"Intervention Model\"] = merged_df[\"Intervention Model\"].replace(['NA', '', 'N/A'], np.nan)\n",
    "print(merged_df[\"Intervention Model\"].isna().sum())"
   ]
  },
  {
   "cell_type": "code",
   "execution_count": 69,
   "metadata": {},
   "outputs": [],
   "source": [
    "merged_df[\"Intervention Model\"] = merged_df[\"Intervention Model\"].fillna(\"Other\")"
   ]
  },
  {
   "cell_type": "code",
   "execution_count": 70,
   "metadata": {},
   "outputs": [
    {
     "data": {
      "text/plain": [
       "Masking\n",
       "NONE                                                                       54333\n",
       "QUADRUPLE (PARTICIPANT, CARE_PROVIDER, INVESTIGATOR, OUTCOMES_ASSESSOR)    15217\n",
       "DOUBLE (PARTICIPANT, INVESTIGATOR)                                         12132\n",
       "TRIPLE (PARTICIPANT, CARE_PROVIDER, INVESTIGATOR)                           3787\n",
       "DOUBLE                                                                      3372\n",
       "TRIPLE (PARTICIPANT, INVESTIGATOR, OUTCOMES_ASSESSOR)                       2897\n",
       "SINGLE (PARTICIPANT)                                                        2648\n",
       "SINGLE (OUTCOMES_ASSESSOR)                                                  1652\n",
       "                                                                             975\n",
       "DOUBLE (PARTICIPANT, OUTCOMES_ASSESSOR)                                      834\n",
       "SINGLE (INVESTIGATOR)                                                        689\n",
       "DOUBLE (PARTICIPANT, CARE_PROVIDER)                                          318\n",
       "SINGLE                                                                       282\n",
       "TRIPLE (PARTICIPANT, CARE_PROVIDER, OUTCOMES_ASSESSOR)                       195\n",
       "DOUBLE (INVESTIGATOR, OUTCOMES_ASSESSOR)                                     178\n",
       "SINGLE (CARE_PROVIDER)                                                        63\n",
       "TRIPLE (CARE_PROVIDER, INVESTIGATOR, OUTCOMES_ASSESSOR)                       42\n",
       "DOUBLE (CARE_PROVIDER, INVESTIGATOR)                                          33\n",
       "DOUBLE (CARE_PROVIDER, OUTCOMES_ASSESSOR)                                     16\n",
       "Name: count, dtype: int64"
      ]
     },
     "execution_count": 70,
     "metadata": {},
     "output_type": "execute_result"
    }
   ],
   "source": [
    "merged_df[\"Masking\"].value_counts()"
   ]
  },
  {
   "cell_type": "code",
   "execution_count": 71,
   "metadata": {},
   "outputs": [
    {
     "name": "stdout",
     "output_type": "stream",
     "text": [
      "71794\n"
     ]
    }
   ],
   "source": [
    "merged_df[\"Masking\"] = merged_df[\"Masking\"].replace(['NA', '', 'N/A','NONE'], np.nan)\n",
    "print(merged_df[\"Masking\"].isna().sum())"
   ]
  },
  {
   "cell_type": "code",
   "execution_count": 72,
   "metadata": {},
   "outputs": [],
   "source": [
    "merged_df[\"Masking\"] = merged_df[\"Masking\"].fillna(\"Other\")"
   ]
  },
  {
   "cell_type": "code",
   "execution_count": 73,
   "metadata": {},
   "outputs": [
    {
     "data": {
      "text/plain": [
       "Primary Purpose\n",
       "TREATMENT                   76872\n",
       "PREVENTION                   6211\n",
       "OTHER                        4997\n",
       "BASIC_SCIENCE                4371\n",
       "                             2578\n",
       "DIAGNOSTIC                   2084\n",
       "SUPPORTIVE_CARE              1463\n",
       "DEVICE_FEASIBILITY            424\n",
       "HEALTH_SERVICES_RESEARCH      327\n",
       "SCREENING                     317\n",
       "ECT                            19\n",
       "Name: count, dtype: int64"
      ]
     },
     "execution_count": 73,
     "metadata": {},
     "output_type": "execute_result"
    }
   ],
   "source": [
    "merged_df[\"Primary Purpose\"].value_counts()"
   ]
  },
  {
   "cell_type": "code",
   "execution_count": 74,
   "metadata": {},
   "outputs": [
    {
     "name": "stdout",
     "output_type": "stream",
     "text": [
      "19064\n"
     ]
    }
   ],
   "source": [
    "merged_df[\"Primary Purpose\"] = merged_df[\"Primary Purpose\"].replace(['NA', '', 'N/A','NONE'], np.nan)\n",
    "print(merged_df[\"Primary Purpose\"].isna().sum())"
   ]
  },
  {
   "cell_type": "code",
   "execution_count": 75,
   "metadata": {},
   "outputs": [],
   "source": [
    "merged_df[\"Primary Purpose\"] = merged_df[\"Primary Purpose\"].fillna(\"OTHER\")"
   ]
  },
  {
   "cell_type": "code",
   "execution_count": 76,
   "metadata": {},
   "outputs": [
    {
     "data": {
      "text/plain": [
       "Observational Model\n",
       "    15844\n",
       "Name: count, dtype: int64"
      ]
     },
     "execution_count": 76,
     "metadata": {},
     "output_type": "execute_result"
    }
   ],
   "source": [
    "merged_df[\"Observational Model\"].value_counts()"
   ]
  },
  {
   "cell_type": "code",
   "execution_count": 77,
   "metadata": {},
   "outputs": [
    {
     "name": "stdout",
     "output_type": "stream",
     "text": [
      "116149\n"
     ]
    },
    {
     "name": "stderr",
     "output_type": "stream",
     "text": [
      "C:\\Users\\dheer\\AppData\\Local\\Temp\\ipykernel_9652\\1773635635.py:1: FutureWarning: Downcasting behavior in `replace` is deprecated and will be removed in a future version. To retain the old behavior, explicitly call `result.infer_objects(copy=False)`. To opt-in to the future behavior, set `pd.set_option('future.no_silent_downcasting', True)`\n",
      "  merged_df[\"Observational Model\"] = merged_df[\"Observational Model\"].replace(['NA', '', 'N/A','NONE'], np.nan)\n"
     ]
    }
   ],
   "source": [
    "merged_df[\"Observational Model\"] = merged_df[\"Observational Model\"].replace(['NA', '', 'N/A','NONE'], np.nan)\n",
    "print(merged_df[\"Observational Model\"].isna().sum())"
   ]
  },
  {
   "cell_type": "code",
   "execution_count": 78,
   "metadata": {},
   "outputs": [],
   "source": [
    "merged_df.drop(columns=\"Observational Model\", inplace=True)"
   ]
  },
  {
   "cell_type": "code",
   "execution_count": 79,
   "metadata": {},
   "outputs": [
    {
     "data": {
      "text/plain": [
       "Time Perspective\n",
       "p    15844\n",
       "Name: count, dtype: int64"
      ]
     },
     "execution_count": 79,
     "metadata": {},
     "output_type": "execute_result"
    }
   ],
   "source": [
    "merged_df[\"Time Perspective\"].value_counts()"
   ]
  },
  {
   "cell_type": "code",
   "execution_count": 80,
   "metadata": {},
   "outputs": [
    {
     "name": "stdout",
     "output_type": "stream",
     "text": [
      "100305\n"
     ]
    }
   ],
   "source": [
    "col = \"Time Perspective\"\n",
    "merged_df[col] = merged_df[col].replace(['NA', '', 'N/A','NONE'], np.nan)\n",
    "print(merged_df[col].isna().sum())"
   ]
  },
  {
   "cell_type": "code",
   "execution_count": 81,
   "metadata": {},
   "outputs": [],
   "source": [
    "col = \"Time Perspective\"\n",
    "merged_df[col] = merged_df[col].fillna(\"No Info\")"
   ]
  },
  {
   "cell_type": "code",
   "execution_count": 82,
   "metadata": {},
   "outputs": [
    {
     "data": {
      "text/plain": [
       "Masking Type\n",
       "NONE         54333\n",
       "DOUBLE       16883\n",
       "QUADRUPLE    15217\n",
       "TRIPLE        6921\n",
       "SINGLE        5334\n",
       "Name: count, dtype: int64"
      ]
     },
     "execution_count": 82,
     "metadata": {},
     "output_type": "execute_result"
    }
   ],
   "source": [
    "merged_df[\"Masking Type\"].value_counts()"
   ]
  },
  {
   "cell_type": "code",
   "execution_count": 83,
   "metadata": {},
   "outputs": [
    {
     "name": "stdout",
     "output_type": "stream",
     "text": [
      "71794\n"
     ]
    }
   ],
   "source": [
    "col = \"Masking Type\"\n",
    "merged_df[col] = merged_df[col].replace(['NA', '', 'N/A','NONE'], np.nan)\n",
    "print(merged_df[col].isna().sum())"
   ]
  },
  {
   "cell_type": "code",
   "execution_count": 84,
   "metadata": {},
   "outputs": [],
   "source": [
    "col = \"Masking Type\"\n",
    "merged_df[col] = merged_df[col].fillna(\"Other\")"
   ]
  },
  {
   "cell_type": "code",
   "execution_count": 85,
   "metadata": {},
   "outputs": [
    {
     "data": {
      "text/plain": [
       "Maskings\n",
       "[]                                                               75448\n",
       "[PARTICIPANT, CARE_PROVIDER, INVESTIGATOR, OUTCOMES_ASSESSOR]    15217\n",
       "[PARTICIPANT, INVESTIGATOR]                                      12132\n",
       "[PARTICIPANT, CARE_PROVIDER, INVESTIGATOR]                        3787\n",
       "[PARTICIPANT, INVESTIGATOR, OUTCOMES_ASSESSOR]                    2897\n",
       "[PARTICIPANT]                                                     2648\n",
       "[OUTCOMES_ASSESSOR]                                               1652\n",
       "[PARTICIPANT, OUTCOMES_ASSESSOR]                                   834\n",
       "[INVESTIGATOR]                                                     689\n",
       "[PARTICIPANT, CARE_PROVIDER]                                       318\n",
       "[PARTICIPANT, CARE_PROVIDER, OUTCOMES_ASSESSOR]                    195\n",
       "[INVESTIGATOR, OUTCOMES_ASSESSOR]                                  178\n",
       "[CARE_PROVIDER]                                                     63\n",
       "[CARE_PROVIDER, INVESTIGATOR, OUTCOMES_ASSESSOR]                    42\n",
       "[CARE_PROVIDER, INVESTIGATOR]                                       33\n",
       "[CARE_PROVIDER, OUTCOMES_ASSESSOR]                                  16\n",
       "Name: count, dtype: int64"
      ]
     },
     "execution_count": 85,
     "metadata": {},
     "output_type": "execute_result"
    }
   ],
   "source": [
    "merged_df[\"Maskings\"].value_counts()"
   ]
  },
  {
   "cell_type": "markdown",
   "metadata": {},
   "source": [
    "Maskings Column is not to be used"
   ]
  },
  {
   "cell_type": "code",
   "execution_count": 86,
   "metadata": {},
   "outputs": [
    {
     "data": {
      "text/plain": [
       "Masking1\n",
       "PARTICIPANT          38028\n",
       "OUTCOMES_ASSESSOR     1652\n",
       "INVESTIGATOR           867\n",
       "CARE_PROVIDER          154\n",
       "Name: count, dtype: int64"
      ]
     },
     "execution_count": 86,
     "metadata": {},
     "output_type": "execute_result"
    }
   ],
   "source": [
    "merged_df[\"Masking1\"].value_counts()"
   ]
  },
  {
   "cell_type": "code",
   "execution_count": 87,
   "metadata": {},
   "outputs": [
    {
     "name": "stdout",
     "output_type": "stream",
     "text": [
      "75448\n"
     ]
    }
   ],
   "source": [
    "col = \"Masking1\"\n",
    "merged_df[col] = merged_df[col].replace(['NA', '', 'N/A','NONE'], np.nan)\n",
    "print(merged_df[col].isna().sum())"
   ]
  },
  {
   "cell_type": "code",
   "execution_count": 88,
   "metadata": {},
   "outputs": [],
   "source": [
    "col = \"Masking1\"\n",
    "merged_df[col] = merged_df[col].fillna(\"Other\")"
   ]
  },
  {
   "cell_type": "code",
   "execution_count": 89,
   "metadata": {},
   "outputs": [
    {
     "data": {
      "text/plain": [
       "Masking2\n",
       "CARE_PROVIDER        19517\n",
       "INVESTIGATOR         15104\n",
       "OUTCOMES_ASSESSOR     1028\n",
       "Name: count, dtype: int64"
      ]
     },
     "execution_count": 89,
     "metadata": {},
     "output_type": "execute_result"
    }
   ],
   "source": [
    "merged_df[\"Masking2\"].value_counts()"
   ]
  },
  {
   "cell_type": "code",
   "execution_count": 90,
   "metadata": {},
   "outputs": [
    {
     "name": "stdout",
     "output_type": "stream",
     "text": [
      "80500\n"
     ]
    }
   ],
   "source": [
    "col = \"Masking2\"\n",
    "merged_df[col] = merged_df[col].replace(['NA', '', 'N/A','NONE'], np.nan)\n",
    "print(merged_df[col].isna().sum())"
   ]
  },
  {
   "cell_type": "code",
   "execution_count": 91,
   "metadata": {},
   "outputs": [],
   "source": [
    "col = \"Masking1\"\n",
    "merged_df[col] = merged_df[col].fillna(\"None\")"
   ]
  },
  {
   "cell_type": "code",
   "execution_count": 92,
   "metadata": {},
   "outputs": [
    {
     "data": {
      "text/plain": [
       "Masking2\n",
       "CARE_PROVIDER        19517\n",
       "INVESTIGATOR         15104\n",
       "OUTCOMES_ASSESSOR     1028\n",
       "Name: count, dtype: int64"
      ]
     },
     "execution_count": 92,
     "metadata": {},
     "output_type": "execute_result"
    }
   ],
   "source": [
    "merged_df[\"Masking2\"].value_counts()"
   ]
  },
  {
   "cell_type": "code",
   "execution_count": 93,
   "metadata": {},
   "outputs": [
    {
     "name": "stdout",
     "output_type": "stream",
     "text": [
      "80500\n"
     ]
    }
   ],
   "source": [
    "col = \"Masking2\"\n",
    "merged_df[col] = merged_df[col].replace(['NA', '', 'N/A','NONE'], np.nan)\n",
    "print(merged_df[col].isna().sum())"
   ]
  },
  {
   "cell_type": "code",
   "execution_count": 94,
   "metadata": {},
   "outputs": [],
   "source": [
    "col = \"Masking2\"\n",
    "merged_df[col] = merged_df[col].fillna(\"None\")"
   ]
  },
  {
   "cell_type": "code",
   "execution_count": 95,
   "metadata": {},
   "outputs": [
    {
     "data": {
      "text/plain": [
       "Masking3\n",
       "INVESTIGATOR         19004\n",
       "OUTCOMES_ASSESSOR     3134\n",
       "Name: count, dtype: int64"
      ]
     },
     "execution_count": 95,
     "metadata": {},
     "output_type": "execute_result"
    }
   ],
   "source": [
    "merged_df[\"Masking3\"].value_counts()"
   ]
  },
  {
   "cell_type": "code",
   "execution_count": 96,
   "metadata": {},
   "outputs": [
    {
     "name": "stdout",
     "output_type": "stream",
     "text": [
      "94011\n"
     ]
    }
   ],
   "source": [
    "col = \"Masking3\"\n",
    "merged_df[col] = merged_df[col].replace(['NA', '', 'N/A','NONE'], np.nan)\n",
    "print(merged_df[col].isna().sum())"
   ]
  },
  {
   "cell_type": "code",
   "execution_count": 97,
   "metadata": {},
   "outputs": [],
   "source": [
    "col = \"Masking3\"\n",
    "merged_df[col] = merged_df[col].fillna(\"None\")"
   ]
  },
  {
   "cell_type": "code",
   "execution_count": 98,
   "metadata": {},
   "outputs": [
    {
     "data": {
      "text/plain": [
       "Masking4\n",
       "OUTCOMES_ASSESSOR    15217\n",
       "Name: count, dtype: int64"
      ]
     },
     "execution_count": 98,
     "metadata": {},
     "output_type": "execute_result"
    }
   ],
   "source": [
    "merged_df[\"Masking4\"].value_counts()"
   ]
  },
  {
   "cell_type": "code",
   "execution_count": 99,
   "metadata": {},
   "outputs": [
    {
     "name": "stdout",
     "output_type": "stream",
     "text": [
      "100932\n"
     ]
    }
   ],
   "source": [
    "col = \"Masking4\"\n",
    "merged_df[col] = merged_df[col].replace(['NA', '', 'N/A','NONE'], np.nan)\n",
    "print(merged_df[col].isna().sum())"
   ]
  },
  {
   "cell_type": "code",
   "execution_count": 100,
   "metadata": {},
   "outputs": [],
   "source": [
    "col = \"Masking4\"\n",
    "merged_df[col] = merged_df[col].fillna(\"None\")"
   ]
  },
  {
   "cell_type": "code",
   "execution_count": 101,
   "metadata": {},
   "outputs": [
    {
     "data": {
      "text/plain": [
       "Masking Description\n",
       "None                                                                                                              54333\n",
       "The masking is of type None                                                                                       17461\n",
       "The masking is of type QUADRUPLE which includes PARTICIPANT, CARE_PROVIDER, INVESTIGATOR and OUTCOMES_ASSESSOR    15217\n",
       "The masking is of type DOUBLE which includes PARTICIPANT and INVESTIGATOR                                         12132\n",
       "The masking is of type TRIPLE which includes PARTICIPANT, CARE_PROVIDER and INVESTIGATOR                           3787\n",
       "The masking is of type DOUBLE                                                                                      3372\n",
       "The masking is of type TRIPLE which includes PARTICIPANT, INVESTIGATOR and OUTCOMES_ASSESSOR                       2897\n",
       "The masking is of type SINGLE which includes  and PARTICIPANT                                                      2648\n",
       "The masking is of type SINGLE which includes  and OUTCOMES_ASSESSOR                                                1652\n",
       "The masking is of type DOUBLE which includes PARTICIPANT and OUTCOMES_ASSESSOR                                      834\n",
       "The masking is of type SINGLE which includes  and INVESTIGATOR                                                      689\n",
       "The masking is of type DOUBLE which includes PARTICIPANT and CARE_PROVIDER                                          318\n",
       "The masking is of type SINGLE                                                                                       282\n",
       "The masking is of type TRIPLE which includes PARTICIPANT, CARE_PROVIDER and OUTCOMES_ASSESSOR                       195\n",
       "The masking is of type DOUBLE which includes INVESTIGATOR and OUTCOMES_ASSESSOR                                     178\n",
       "The masking is of type SINGLE which includes  and CARE_PROVIDER                                                      63\n",
       "The masking is of type TRIPLE which includes CARE_PROVIDER, INVESTIGATOR and OUTCOMES_ASSESSOR                       42\n",
       "The masking is of type DOUBLE which includes CARE_PROVIDER and INVESTIGATOR                                          33\n",
       "The masking is of type DOUBLE which includes CARE_PROVIDER and OUTCOMES_ASSESSOR                                     16\n",
       "Name: count, dtype: int64"
      ]
     },
     "execution_count": 101,
     "metadata": {},
     "output_type": "execute_result"
    }
   ],
   "source": [
    "merged_df[\"Masking Description\"].value_counts()"
   ]
  },
  {
   "cell_type": "code",
   "execution_count": 102,
   "metadata": {},
   "outputs": [
    {
     "name": "stdout",
     "output_type": "stream",
     "text": [
      "71794\n"
     ]
    }
   ],
   "source": [
    "col = \"Masking Description\"\n",
    "merged_df[col] = merged_df[col].replace(['NA', '', 'N/A','NONE','None','The masking is of type None'], np.nan)\n",
    "print(merged_df[col].isna().sum())"
   ]
  },
  {
   "cell_type": "code",
   "execution_count": 103,
   "metadata": {},
   "outputs": [],
   "source": [
    "col = \"Masking Description\"\n",
    "merged_df[col] = merged_df[col].fillna(\"There is no masking\")"
   ]
  },
  {
   "cell_type": "code",
   "execution_count": 104,
   "metadata": {},
   "outputs": [
    {
     "data": {
      "text/plain": [
       "Drug\n",
       "Placebo                                                                                                                                                            372\n",
       "Etanercept                                                                                                                                                          49\n",
       "topiramate                                                                                                                                                          42\n",
       "epoetin alfa                                                                                                                                                        42\n",
       "insulin detemir                                                                                                                                                     37\n",
       "                                                                                                                                                                  ... \n",
       "ceftazidim-avibactam (CAZ-AVI, experimental product), meropenem (active comparator)                                                                                  1\n",
       "OT329 (combination of fluticasone propionate and salmeterol xinafoate), Advair Diskus (combination of fluticasone propionate and salmeterol xinafoate), Placebo      1\n",
       "Interferon-alfa, SU011248                                                                                                                                            1\n",
       "NVL-520                                                                                                                                                              1\n",
       "Maralixibat, Placebo                                                                                                                                                 1\n",
       "Name: count, Length: 56175, dtype: int64"
      ]
     },
     "execution_count": 104,
     "metadata": {},
     "output_type": "execute_result"
    }
   ],
   "source": [
    "merged_df[\"Drug\"].value_counts()"
   ]
  },
  {
   "cell_type": "code",
   "execution_count": 105,
   "metadata": {},
   "outputs": [
    {
     "name": "stdout",
     "output_type": "stream",
     "text": [
      "41938\n"
     ]
    }
   ],
   "source": [
    "col = \"Drug\"\n",
    "merged_df[col] = merged_df[col].replace(['NA', '', 'N/A','NONE','None'], np.nan)\n",
    "print(merged_df[col].isna().sum())"
   ]
  },
  {
   "cell_type": "code",
   "execution_count": 106,
   "metadata": {},
   "outputs": [],
   "source": [
    "col = \"Drug\"\n",
    "merged_df[col] = merged_df[col].fillna(\"Other\")"
   ]
  },
  {
   "cell_type": "code",
   "execution_count": 107,
   "metadata": {},
   "outputs": [],
   "source": [
    "merged_df['Drug'] = merged_df['Drug'].str.replace(\", \", \" and \")"
   ]
  },
  {
   "cell_type": "code",
   "execution_count": 108,
   "metadata": {},
   "outputs": [
    {
     "data": {
      "text/plain": [
       "Device\n",
       "Ulthera System Treatment                                                                    14\n",
       "SENSIMED Triggerfish                                                                        13\n",
       "Deep Brain Stimulation                                                                      12\n",
       "Nerivio                                                                                     11\n",
       "The ZELTIQ System                                                                           11\n",
       "                                                                                            ..\n",
       "Non-slip Balloon Catheter of Shanghai MicroPort Rhythm, NSE Coronary Dilatation Catheter     1\n",
       "Power Knee with bone anchored suspension, C-Leg, Rheo Knee XC                                1\n",
       "Piranha Treatment                                                                            1\n",
       "Investigational Toric Lens, PureVision Toric Lens                                            1\n",
       "Injection of adipose derived cells into penis                                                1\n",
       "Name: count, Length: 15494, dtype: int64"
      ]
     },
     "execution_count": 108,
     "metadata": {},
     "output_type": "execute_result"
    }
   ],
   "source": [
    "merged_df[\"Device\"].value_counts()"
   ]
  },
  {
   "cell_type": "code",
   "execution_count": 109,
   "metadata": {},
   "outputs": [
    {
     "name": "stdout",
     "output_type": "stream",
     "text": [
      "98365\n"
     ]
    }
   ],
   "source": [
    "col = \"Device\"\n",
    "merged_df[col] = merged_df[col].replace(['NA', '', 'N/A','NONE','None'], np.nan)\n",
    "print(merged_df[col].isna().sum())"
   ]
  },
  {
   "cell_type": "code",
   "execution_count": 110,
   "metadata": {},
   "outputs": [],
   "source": [
    "col = \"Device\"\n",
    "merged_df[col] = merged_df[col].fillna(\"Other\")"
   ]
  },
  {
   "cell_type": "code",
   "execution_count": 111,
   "metadata": {},
   "outputs": [],
   "source": [
    "merged_df['Device'] = merged_df['Device'].str.replace(\", \", \" and \")"
   ]
  },
  {
   "cell_type": "code",
   "execution_count": 112,
   "metadata": {},
   "outputs": [
    {
     "data": {
      "text/plain": [
       "Procedure\n",
       "Surgery                                                                             33\n",
       "Standard of Care                                                                    25\n",
       "Cataract surgery                                                                    25\n",
       "Blood sampling                                                                      25\n",
       "Microfracture                                                                       23\n",
       "                                                                                    ..\n",
       "Initiatives to improve compliance                                                    1\n",
       "PCI + Impella                                                                        1\n",
       "Single Photon Emission Computed Tomography, Multidetector Computed Tomography        1\n",
       "Microcannula Harvest Adipose Stroma, Sterile Normal Saline IV Deployment of cSVF     1\n",
       "Lumbar Puncture, Blood Collection                                                    1\n",
       "Name: count, Length: 1694, dtype: int64"
      ]
     },
     "execution_count": 112,
     "metadata": {},
     "output_type": "execute_result"
    }
   ],
   "source": [
    "merged_df[\"Procedure\"].value_counts()"
   ]
  },
  {
   "cell_type": "code",
   "execution_count": 113,
   "metadata": {},
   "outputs": [
    {
     "name": "stdout",
     "output_type": "stream",
     "text": [
      "113958\n"
     ]
    }
   ],
   "source": [
    "col = \"Procedure\"\n",
    "merged_df[col] = merged_df[col].replace(['NA', '', 'N/A','NONE','None'], np.nan)\n",
    "print(merged_df[col].isna().sum())"
   ]
  },
  {
   "cell_type": "code",
   "execution_count": 114,
   "metadata": {},
   "outputs": [],
   "source": [
    "col = \"Procedure\"\n",
    "merged_df[col] = merged_df[col].fillna(\"Other\")"
   ]
  },
  {
   "cell_type": "code",
   "execution_count": 115,
   "metadata": {},
   "outputs": [
    {
     "data": {
      "text/plain": [
       "Biological\n",
       "Pembrolizumab                                                                                                                  118\n",
       "Nivolumab                                                                                                                       41\n",
       "Botulinum toxin type A                                                                                                          37\n",
       "Nivolumab, Ipilimumab                                                                                                           33\n",
       "botulinum toxin Type A                                                                                                          28\n",
       "                                                                                                                              ... \n",
       "GSK Biologicals' HPV vaccine 580299, Merck's Human Papillomavirus Quadrivalent (Types 6, 11, 16, and 18) Vaccine (Gardasil)      1\n",
       "Trastuzumab, Robatumumab, Cetuximab                                                                                              1\n",
       "ROTAVAC®, ROTAVAC 5C -F1, ROTAVAC 5C -F2                                                                                         1\n",
       "LNA043, placebo to LNA043                                                                                                        1\n",
       "NWRD08                                                                                                                           1\n",
       "Name: count, Length: 8533, dtype: int64"
      ]
     },
     "execution_count": 115,
     "metadata": {},
     "output_type": "execute_result"
    }
   ],
   "source": [
    "merged_df[\"Biological\"].value_counts()"
   ]
  },
  {
   "cell_type": "code",
   "execution_count": 116,
   "metadata": {},
   "outputs": [
    {
     "name": "stdout",
     "output_type": "stream",
     "text": [
      "104946\n"
     ]
    }
   ],
   "source": [
    "col = \"Biological\"\n",
    "merged_df[col] = merged_df[col].replace(['NA', '', 'N/A','NONE','None'], np.nan)\n",
    "print(merged_df[col].isna().sum())"
   ]
  },
  {
   "cell_type": "code",
   "execution_count": 117,
   "metadata": {},
   "outputs": [],
   "source": [
    "col = \"Biological\"\n",
    "merged_df[col] = merged_df[col].fillna(\"Other\")"
   ]
  },
  {
   "cell_type": "code",
   "execution_count": 118,
   "metadata": {},
   "outputs": [
    {
     "data": {
      "text/plain": [
       "Other\n",
       "Placebo                                                     2141\n",
       "placebo                                                      148\n",
       "No intervention                                              134\n",
       "No Intervention                                              134\n",
       "Standard of Care                                              82\n",
       "                                                            ... \n",
       "Diagnostic test (LDT)                                          1\n",
       "Interventions with heart failure medications                   1\n",
       "Study formula feeding, Human milk feeding, Mixed feeding       1\n",
       "Metformin GSK 850mg, Gluocophage 850mg                         1\n",
       "Placebo, Sham Procedure                                        1\n",
       "Name: count, Length: 5090, dtype: int64"
      ]
     },
     "execution_count": 118,
     "metadata": {},
     "output_type": "execute_result"
    }
   ],
   "source": [
    "merged_df[\"Other\"].value_counts()"
   ]
  },
  {
   "cell_type": "code",
   "execution_count": 119,
   "metadata": {},
   "outputs": [
    {
     "name": "stdout",
     "output_type": "stream",
     "text": [
      "107032\n"
     ]
    }
   ],
   "source": [
    "col = \"Other\"\n",
    "merged_df[col] = merged_df[col].replace(['NA', '', 'N/A','NONE','None'], np.nan)\n",
    "print(merged_df[col].isna().sum())"
   ]
  },
  {
   "cell_type": "code",
   "execution_count": 121,
   "metadata": {},
   "outputs": [],
   "source": [
    "merged_df['Other'] = merged_df['Other'].str.replace(\", \", \" and \")"
   ]
  },
  {
   "cell_type": "code",
   "execution_count": 120,
   "metadata": {},
   "outputs": [],
   "source": [
    "col = \"Other\"\n",
    "merged_df[col] = merged_df[col].fillna(\"None\")"
   ]
  },
  {
   "cell_type": "code",
   "execution_count": 122,
   "metadata": {},
   "outputs": [
    {
     "data": {
      "text/plain": [
       "Combination Product\n",
       "LUM Imaging System                                                      5\n",
       "VIOME Precision Nutrition Program                                       5\n",
       "Pembrolizumab                                                           4\n",
       "Testosterone enanthate auto-injector                                    4\n",
       "NTX-001                                                                 3\n",
       "                                                                       ..\n",
       "Tymbion Iontophoresis and Tube Delivery System (TDS)                    1\n",
       "CABA                                                                    1\n",
       "VP-102 and applicator, Placebo                                          1\n",
       "Omeza collagen matrix, Omeza lidocaine lavage, Omeza skin protectant    1\n",
       "LINFU™ Technique                                                        1\n",
       "Name: count, Length: 591, dtype: int64"
      ]
     },
     "execution_count": 122,
     "metadata": {},
     "output_type": "execute_result"
    }
   ],
   "source": [
    "merged_df[\"Combination Product\"].value_counts()"
   ]
  },
  {
   "cell_type": "code",
   "execution_count": 123,
   "metadata": {},
   "outputs": [
    {
     "name": "stdout",
     "output_type": "stream",
     "text": [
      "115502\n"
     ]
    }
   ],
   "source": [
    "col = \"Combination Product\"\n",
    "merged_df[col] = merged_df[col].replace(['NA', '', 'N/A','NONE','None'], np.nan)\n",
    "print(merged_df[col].isna().sum())"
   ]
  },
  {
   "cell_type": "code",
   "execution_count": 125,
   "metadata": {},
   "outputs": [],
   "source": [
    "merged_df['Combination Product'] = merged_df['Combination Product'].str.replace(\", \", \" and \")"
   ]
  },
  {
   "cell_type": "code",
   "execution_count": 124,
   "metadata": {},
   "outputs": [],
   "source": [
    "col = \"Combination Product\"\n",
    "merged_df[col] = merged_df[col].fillna(\"None\")"
   ]
  },
  {
   "cell_type": "code",
   "execution_count": 126,
   "metadata": {},
   "outputs": [
    {
     "data": {
      "text/plain": [
       "Behavioral\n",
       "Therapy                                                                                                                                                                   12\n",
       "Psychotherapy                                                                                                                                                              9\n",
       "Disease Management Assessment                                                                                                                                              6\n",
       "Carevive CPS                                                                                                                                                               5\n",
       "Behavioral support                                                                                                                                                         4\n",
       "                                                                                                                                                                          ..\n",
       "Future Foundation 2.0 PREIS Program                                                                                                                                        1\n",
       "NeuroTrainer                                                                                                                                                               1\n",
       "Standard of care + supplementary education, Standard of care + additional visits, Standard of care                                                                         1\n",
       "Low Calorie Diet                                                                                                                                                           1\n",
       "Device and app system designed for participant to self-administer Habit Reversal Training and Stimulus Control, Reminder bracelet and journaling app control condition     1\n",
       "Name: count, Length: 744, dtype: int64"
      ]
     },
     "execution_count": 126,
     "metadata": {},
     "output_type": "execute_result"
    }
   ],
   "source": [
    "merged_df[\"Behavioral\"].value_counts()"
   ]
  },
  {
   "cell_type": "code",
   "execution_count": 127,
   "metadata": {},
   "outputs": [],
   "source": [
    "merged_df['Behavioral'] = merged_df['Behavioral'].str.replace(\", \", \" and \")"
   ]
  },
  {
   "cell_type": "code",
   "execution_count": 128,
   "metadata": {},
   "outputs": [
    {
     "name": "stdout",
     "output_type": "stream",
     "text": [
      "115324\n"
     ]
    }
   ],
   "source": [
    "col = \"Behavioral\"\n",
    "merged_df[col] = merged_df[col].replace(['NA', '', 'N/A','NONE','None'], np.nan)\n",
    "print(merged_df[col].isna().sum())"
   ]
  },
  {
   "cell_type": "code",
   "execution_count": 129,
   "metadata": {},
   "outputs": [],
   "source": [
    "col = \"Behavioral\"\n",
    "merged_df[col] = merged_df[col].fillna(\"None\")"
   ]
  },
  {
   "cell_type": "code",
   "execution_count": 130,
   "metadata": {},
   "outputs": [
    {
     "data": {
      "text/plain": [
       "Dietary Supplement\n",
       "Probiotic, Placebo                                                                                26\n",
       "Probiotic                                                                                         25\n",
       "Vitamin B12, Folic Acid                                                                            8\n",
       "Probiotics, Placebo                                                                                7\n",
       "Calcium, Vitamin D                                                                                 6\n",
       "                                                                                                  ..\n",
       "follow on formula without probiotics, follow on formula with Lactobacillus salivarius CECT5713     1\n",
       "dietary supplement, 1 tablet containing delayed release melatonin, zinc and lemon balm             1\n",
       "Dietary supplement liquid shot beverage products                                                   1\n",
       "Dynamine (methylliberine)                                                                          1\n",
       "HRG80 Panax ginseng, Panax ginseng, Placebo                                                        1\n",
       "Name: count, Length: 2024, dtype: int64"
      ]
     },
     "execution_count": 130,
     "metadata": {},
     "output_type": "execute_result"
    }
   ],
   "source": [
    "merged_df[\"Dietary Supplement\"].value_counts()"
   ]
  },
  {
   "cell_type": "code",
   "execution_count": 131,
   "metadata": {},
   "outputs": [],
   "source": [
    "merged_df['Dietary Supplement'] = merged_df['Dietary Supplement'].str.replace(\", \", \" and \")"
   ]
  },
  {
   "cell_type": "code",
   "execution_count": 132,
   "metadata": {},
   "outputs": [
    {
     "name": "stdout",
     "output_type": "stream",
     "text": [
      "113929\n"
     ]
    }
   ],
   "source": [
    "col = \"Dietary Supplement\"\n",
    "merged_df[col] = merged_df[col].replace(['NA', '', 'N/A','NONE','None'], np.nan)\n",
    "print(merged_df[col].isna().sum())"
   ]
  },
  {
   "cell_type": "code",
   "execution_count": 133,
   "metadata": {},
   "outputs": [],
   "source": [
    "col = \"Dietary Supplement\"\n",
    "merged_df[col] = merged_df[col].fillna(\"None\")"
   ]
  },
  {
   "cell_type": "code",
   "execution_count": 134,
   "metadata": {},
   "outputs": [
    {
     "data": {
      "text/plain": [
       "Genetic\n",
       "delandistrogene moxeparvovec    6\n",
       "SGT-53                          5\n",
       "GS010                           4\n",
       "FT-003                          4\n",
       "OAV101                          4\n",
       "                               ..\n",
       "Alferminogene tadenovec         1\n",
       "AAV9-hSyn1-miGRIK2              1\n",
       "a mixed plasmid DNA (HB-110)    1\n",
       "nula-cel Drug Product           1\n",
       "SB-728-T                        1\n",
       "Name: count, Length: 314, dtype: int64"
      ]
     },
     "execution_count": 134,
     "metadata": {},
     "output_type": "execute_result"
    }
   ],
   "source": [
    "merged_df[\"Genetic\"].value_counts()"
   ]
  },
  {
   "cell_type": "code",
   "execution_count": 135,
   "metadata": {},
   "outputs": [],
   "source": [
    "merged_df['Genetic'] = merged_df['Genetic'].str.replace(\", \", \" and \")"
   ]
  },
  {
   "cell_type": "code",
   "execution_count": 136,
   "metadata": {},
   "outputs": [
    {
     "name": "stdout",
     "output_type": "stream",
     "text": [
      "115760\n"
     ]
    }
   ],
   "source": [
    "col = \"Genetic\"\n",
    "merged_df[col] = merged_df[col].replace(['NA', '', 'N/A','NONE','None'], np.nan)\n",
    "print(merged_df[col].isna().sum())"
   ]
  },
  {
   "cell_type": "code",
   "execution_count": 137,
   "metadata": {},
   "outputs": [],
   "source": [
    "col = \"Genetic\"\n",
    "merged_df[col] = merged_df[col].fillna(\"Other\")"
   ]
  },
  {
   "cell_type": "code",
   "execution_count": 138,
   "metadata": {},
   "outputs": [
    {
     "data": {
      "text/plain": [
       "Diaganostic Test\n",
       "Quantra System                        15\n",
       "Corus CAD (ASGES)                      8\n",
       "Venepuncture, Fingerstick              4\n",
       "therascreen® KRAS RGQ PCR Kit          4\n",
       "KidneyIntelX                           4\n",
       "                                      ..\n",
       "BioROSA MAP test                       1\n",
       "BIOZEK COVID-19 Antigen Rapid Test     1\n",
       "Observation                            1\n",
       "PGT-A                                  1\n",
       "PGT-A, ERA Test                        1\n",
       "Name: count, Length: 896, dtype: int64"
      ]
     },
     "execution_count": 138,
     "metadata": {},
     "output_type": "execute_result"
    }
   ],
   "source": [
    "merged_df[\"Diaganostic Test\"].value_counts()"
   ]
  },
  {
   "cell_type": "code",
   "execution_count": 139,
   "metadata": {},
   "outputs": [],
   "source": [
    "merged_df['Diaganostic Test'] = merged_df['Diaganostic Test'].str.replace(\", \", \" and \")"
   ]
  },
  {
   "cell_type": "code",
   "execution_count": 140,
   "metadata": {},
   "outputs": [
    {
     "name": "stdout",
     "output_type": "stream",
     "text": [
      "115138\n"
     ]
    }
   ],
   "source": [
    "col = \"Diaganostic Test\"\n",
    "merged_df[col] = merged_df[col].replace(['NA', '', 'N/A','NONE','None'], np.nan)\n",
    "print(merged_df[col].isna().sum())"
   ]
  },
  {
   "cell_type": "code",
   "execution_count": 141,
   "metadata": {},
   "outputs": [],
   "source": [
    "col = \"Diaganostic Test\"\n",
    "merged_df[col] = merged_df[col].fillna(\"Other\")"
   ]
  },
  {
   "cell_type": "code",
   "execution_count": 142,
   "metadata": {},
   "outputs": [
    {
     "data": {
      "text/plain": [
       "Radiation\n",
       "Radiotherapy                                50\n",
       "Radiation                                   23\n",
       "Radiation Therapy                           18\n",
       "radiation therapy                           11\n",
       "Radiation therapy                            9\n",
       "                                            ..\n",
       "Electronic brachytherapy (Axxent System)     1\n",
       "Stereotactic Radio-Surgery (SRS) therapy     1\n",
       "Shexiang Baoxin pill（MUSKARDIA）, Placebo     1\n",
       "indium In 111 folic acid                     1\n",
       "Cone Beam Computed Tomography                1\n",
       "Name: count, Length: 259, dtype: int64"
      ]
     },
     "execution_count": 142,
     "metadata": {},
     "output_type": "execute_result"
    }
   ],
   "source": [
    "col = \"Radiation\"\n",
    "merged_df[col].value_counts()"
   ]
  },
  {
   "cell_type": "code",
   "execution_count": 143,
   "metadata": {},
   "outputs": [],
   "source": [
    "merged_df[col] = merged_df[col].str.replace(\", \", \" and \")"
   ]
  },
  {
   "cell_type": "code",
   "execution_count": 144,
   "metadata": {},
   "outputs": [
    {
     "name": "stdout",
     "output_type": "stream",
     "text": [
      "115721\n"
     ]
    }
   ],
   "source": [
    "merged_df[col] = merged_df[col].replace(['NA', '', 'N/A','NONE','None'], np.nan)\n",
    "print(merged_df[col].isna().sum())"
   ]
  },
  {
   "cell_type": "code",
   "execution_count": 145,
   "metadata": {},
   "outputs": [],
   "source": [
    "merged_df[col] = merged_df[col].fillna(\"Other\")"
   ]
  },
  {
   "cell_type": "code",
   "execution_count": 146,
   "metadata": {},
   "outputs": [
    {
     "data": {
      "text/plain": [
       "Sampling Method\n",
       "Non Probability Sample    11659\n",
       "Probability Sample         3984\n",
       "Name: count, dtype: int64"
      ]
     },
     "execution_count": 146,
     "metadata": {},
     "output_type": "execute_result"
    }
   ],
   "source": [
    "col = \"Sampling Method\"\n",
    "merged_df[col].value_counts()"
   ]
  },
  {
   "cell_type": "code",
   "execution_count": 147,
   "metadata": {},
   "outputs": [
    {
     "name": "stdout",
     "output_type": "stream",
     "text": [
      "100506\n"
     ]
    }
   ],
   "source": [
    "merged_df[col] = merged_df[col].replace(['NA', '', 'N/A','NONE','None'], np.nan)\n",
    "print(merged_df[col].isna().sum())"
   ]
  },
  {
   "cell_type": "code",
   "execution_count": 148,
   "metadata": {},
   "outputs": [],
   "source": [
    "merged_df[col] = merged_df[col].fillna(\"Other\")"
   ]
  },
  {
   "cell_type": "code",
   "execution_count": 149,
   "metadata": {},
   "outputs": [
    {
     "data": {
      "text/plain": [
       "Gender\n",
       "ALL       102366\n",
       "MALE        7019\n",
       "FEMALE      6623\n",
       "Name: count, dtype: int64"
      ]
     },
     "execution_count": 149,
     "metadata": {},
     "output_type": "execute_result"
    }
   ],
   "source": [
    "col = \"Gender\"\n",
    "merged_df[col].value_counts()"
   ]
  },
  {
   "cell_type": "code",
   "execution_count": 150,
   "metadata": {},
   "outputs": [
    {
     "name": "stdout",
     "output_type": "stream",
     "text": [
      "141\n"
     ]
    }
   ],
   "source": [
    "merged_df[col] = merged_df[col].replace(['NA', '', 'N/A','NONE','None'], np.nan)\n",
    "print(merged_df[col].isna().sum())"
   ]
  },
  {
   "cell_type": "code",
   "execution_count": 151,
   "metadata": {},
   "outputs": [],
   "source": [
    "merged_df[col] = merged_df[col].fillna(\"ALL\")"
   ]
  },
  {
   "cell_type": "code",
   "execution_count": 152,
   "metadata": {},
   "outputs": [
    {
     "data": {
      "text/plain": [
       "Minimum Age\n",
       "18 Years     79274\n",
       "20 Years      4513\n",
       "40 Years      2750\n",
       "19 Years      2235\n",
       "21 Years      2218\n",
       "             ...  \n",
       "41 Months        1\n",
       "140 Days         1\n",
       "70 Days          1\n",
       "49 Days          1\n",
       "41 Days          1\n",
       "Name: count, Length: 213, dtype: int64"
      ]
     },
     "execution_count": 152,
     "metadata": {},
     "output_type": "execute_result"
    }
   ],
   "source": [
    "col = \"Minimum Age\"\n",
    "merged_df[col].value_counts()"
   ]
  },
  {
   "cell_type": "code",
   "execution_count": 153,
   "metadata": {},
   "outputs": [],
   "source": [
    "def extract_age_in_years(age_str):\n",
    "    try:\n",
    "        if isinstance(age_str, str):  # Check if the input is a string\n",
    "            if \"Years\" in age_str:\n",
    "                return float(age_str.split()[0])\n",
    "            elif \"Months\" in age_str:\n",
    "                return float(age_str.split()[0]) / 12\n",
    "            elif \"Days\" in age_str:\n",
    "                return float(age_str.split()[0]) / 365\n",
    "            elif \"Minutes\" in age_str:\n",
    "                return 0  # Assuming minutes are negligible for age\n",
    "            else:\n",
    "                return np.nan  # Handle cases where age cannot be determined\n",
    "        else:\n",
    "            return np.nan  # Handle non-string inputs\n",
    "    except ValueError:\n",
    "        return np.nan  # Handle cases where age cannot be determined\n",
    "\n",
    "merged_df[\"Minimum Age\"] = merged_df[\"Minimum Age\"].apply(extract_age_in_years)"
   ]
  },
  {
   "cell_type": "code",
   "execution_count": 154,
   "metadata": {},
   "outputs": [
    {
     "name": "stdout",
     "output_type": "stream",
     "text": [
      "5904\n"
     ]
    }
   ],
   "source": [
    "merged_df[col] = merged_df[col].replace(['NA', '', 'N/A','NONE','None'], np.nan)\n",
    "print(merged_df[col].isna().sum())"
   ]
  },
  {
   "cell_type": "code",
   "execution_count": 155,
   "metadata": {},
   "outputs": [],
   "source": [
    "merged_df[col] = merged_df[col].fillna(\"Not Given\")"
   ]
  },
  {
   "cell_type": "code",
   "execution_count": 156,
   "metadata": {},
   "outputs": [
    {
     "data": {
      "text/plain": [
       "Maximum Age\n",
       "65 Years     8445\n",
       "75 Years     7450\n",
       "55 Years     6093\n",
       "80 Years     4906\n",
       "70 Years     4351\n",
       "             ... \n",
       "69 Days         1\n",
       "117 Years       1\n",
       "124 Days        1\n",
       "2 Days          1\n",
       "44 Months       1\n",
       "Name: count, Length: 344, dtype: int64"
      ]
     },
     "execution_count": 156,
     "metadata": {},
     "output_type": "execute_result"
    }
   ],
   "source": [
    "col = \"Maximum Age\"\n",
    "merged_df[col].value_counts()"
   ]
  },
  {
   "cell_type": "code",
   "execution_count": 157,
   "metadata": {},
   "outputs": [],
   "source": [
    "def extract_age_in_years(age_str):\n",
    "    try:\n",
    "        if isinstance(age_str, str):  # Check if the input is a string\n",
    "            if \"Years\" in age_str:\n",
    "                return float(age_str.split()[0])\n",
    "            elif \"Months\" in age_str:\n",
    "                return float(age_str.split()[0]) / 12\n",
    "            elif \"Days\" in age_str:\n",
    "                return float(age_str.split()[0]) / 365\n",
    "            elif \"Minutes\" in age_str:\n",
    "                return 0  # Assuming minutes are negligible for age\n",
    "            else:\n",
    "                return np.nan  # Handle cases where age cannot be determined\n",
    "        else:\n",
    "            return np.nan  # Handle non-string inputs\n",
    "    except ValueError:\n",
    "        return np.nan  # Handle cases where age cannot be determined\n",
    "\n",
    "merged_df[\"Maximum Age\"] = merged_df[\"Maximum Age\"].apply(extract_age_in_years)"
   ]
  },
  {
   "cell_type": "code",
   "execution_count": 158,
   "metadata": {},
   "outputs": [
    {
     "name": "stdout",
     "output_type": "stream",
     "text": [
      "58463\n"
     ]
    }
   ],
   "source": [
    "merged_df[col] = merged_df[col].replace(['NA', '', 'N/A','NONE','None'], np.nan)\n",
    "print(merged_df[col].isna().sum())"
   ]
  },
  {
   "cell_type": "code",
   "execution_count": 159,
   "metadata": {},
   "outputs": [],
   "source": [
    "merged_df[col] = merged_df[col].fillna(\"Not Given\")"
   ]
  },
  {
   "cell_type": "code",
   "execution_count": 160,
   "metadata": {},
   "outputs": [
    {
     "data": {
      "text/plain": [
       "Healthy Volunteers\n",
       "No     85173\n",
       "Yes    29114\n",
       "Name: count, dtype: int64"
      ]
     },
     "execution_count": 160,
     "metadata": {},
     "output_type": "execute_result"
    }
   ],
   "source": [
    "col = \"Healthy Volunteers\"\n",
    "merged_df[col].value_counts()"
   ]
  },
  {
   "cell_type": "code",
   "execution_count": 161,
   "metadata": {},
   "outputs": [
    {
     "name": "stdout",
     "output_type": "stream",
     "text": [
      "1862\n"
     ]
    }
   ],
   "source": [
    "merged_df[col] = merged_df[col].replace(['NA', '', 'N/A','NONE','None'], np.nan)\n",
    "print(merged_df[col].isna().sum())"
   ]
  },
  {
   "cell_type": "code",
   "execution_count": 162,
   "metadata": {},
   "outputs": [],
   "source": [
    "merged_df[col] = merged_df[col].fillna(\"Not Known\")"
   ]
  },
  {
   "cell_type": "code",
   "execution_count": 163,
   "metadata": {},
   "outputs": [
    {
     "data": {
      "text/plain": [
       "Population\n",
       "Primary care clinic                                                                                                              65\n",
       "Community sample                                                                                                                 33\n",
       "adult patients                                                                                                                   30\n",
       "Primary Care Clinic                                                                                                              30\n",
       "This was a retrospective, noninterventional cohort study                                                                         24\n",
       "                                                                                                                                 ..\n",
       "The study population will be limited to residents of Germany.                                                                     1\n",
       "Severe acute SOB Suspicion of CAP, Acute Heart failure, AE COPD or PE                                                             1\n",
       "Men, aged 50yrs or older with an elevated PSA between 2-10ng/ml and at least one prior negative prostate biopsy                   1\n",
       "Participants with psoriatic arthritis (PsA).                                                                                      1\n",
       "Patients presenting with confirmed NG infections in one or both of the following anatomical sites: the urethra \\& the rectum.     1\n",
       "Name: count, Length: 14734, dtype: int64"
      ]
     },
     "execution_count": 163,
     "metadata": {},
     "output_type": "execute_result"
    }
   ],
   "source": [
    "col = \"Population\"\n",
    "merged_df[col].value_counts()"
   ]
  },
  {
   "cell_type": "code",
   "execution_count": 164,
   "metadata": {},
   "outputs": [
    {
     "name": "stdout",
     "output_type": "stream",
     "text": [
      "100505\n"
     ]
    }
   ],
   "source": [
    "merged_df[col] = merged_df[col].replace(['NA', '', 'N/A','NONE','None'], np.nan)\n",
    "print(merged_df[col].isna().sum())"
   ]
  },
  {
   "cell_type": "code",
   "execution_count": 165,
   "metadata": {},
   "outputs": [],
   "source": [
    "merged_df[col] = merged_df[col].fillna(\"Other\")"
   ]
  },
  {
   "cell_type": "code",
   "execution_count": 166,
   "metadata": {},
   "outputs": [
    {
     "data": {
      "text/plain": [
       "Criteria\n",
       "\"Inclusion Criteria:~* No clinically significant abnormal finding on physical exam, medical history, or clinical laboratory results on screening.~Exclusion Criteria:~* Positive test results for HIV or hepatitis B or C.~* Treatment for drug or alcohol dependence.\"                                                                                                                                                                                                                                                                                                                                                                                                                                                                                                                                                                                                                                                                                                                                                                                                                                                                                                                                                                                                                                                                                                                                                                                                                                                                                                                                                                                                                                                                                                                                                                                                                                                                                                                                                                                                                                                                                                                                                                                                                                                                                                       60\n",
       "\"Inclusion Criteria:~-~Exclusion Criteria:~-\"                                                                                                                                                                                                                                                                                                                                                                                                                                                                                                                                                                                                                                                                                                                                                                                                                                                                                                                                                                                                                                                                                                                                                                                                                                                                                                                                                                                                                                                                                                                                                                                                                                                                                                                                                                                                                                                                                                                                                                                                                                                                                                                                                                                                                                                                                                                                 49\n",
       "\"Inclusion Criteria:~* healthy, adult subjects, 18 years and older~* able to swallow medication~Exclusion Criteria:~* institutionalized subjects~* history of any significant disease~* use of any prescription or OTC medications within 14 days of start of study~* received any investigational products within 30 days prior to start of study\"                                                                                                                                                                                                                                                                                                                                                                                                                                                                                                                                                                                                                                                                                                                                                                                                                                                                                                                                                                                                                                                                                                                                                                                                                                                                                                                                                                                                                                                                                                                                                                                                                                                                                                                                                                                                                                                                                                                                                                                                                           14\n",
       "\"Inclusion Criteria:~1. Healthy male or female, age 18 to 55 years, inclusive.~2. Body weight within 15% of normal range according to the accepted normal values for body mass index (BMI).~3. Medical demographics without evidence of clinically significant deviation from normal medical condition.~4. Results of clinical laboratory test are within the normal range or with a deviation that is not considered clinically significant by principal investigator.~5. Subject does not have allergy to the drugs under investigation.~Exclusion Criteria:~1. Subjects with known allergy to the products tested.~2. Subjects whose values of BMI were outside the accepted normal ranges.~3. Female subjects who were pregnant, nursing or taking birth control pills.~4. Medical demographics with evidence of clinically significant deviation from normal medical condition.~5. Results of laboratory tests which are clinically significant.~6. Acute infection within one week preceding first study drug administration.~7. History of drug or alcohol abuse.~8. Subject does not agree not to take any prescription or non-prescription drugs within two weeks before first study drug administration and until the end of the study.~9. Subject is on a special diet (for example subject is vegetarian).~10. Subject does not agree not to consume any beverages or foods containing methyl-xanthenes e.g. caffeine (coffee, tea, cola, chocolate etc.) 48 hours prior to the study administration of either study period until donating the last sample in each respective period.~11. Subject does not agree not to consume any beverages or foods containing grapefruit 7 days prior to first study drug administration until the end of the study.~12. Subject has a history of severe diseases which have direct impact on the study.~13. Participation in a bioequivalence study or in a clinical study within the last 6 weeks before first study drug administration.~14. Subject intends to be hospitalized within 3 months after first study drug administration.~15. Subjects who, through completion of this study, would have donated more than 500 ml of blood in 7 days, or 750 ml of blood in 30 days, 1000 ml in 90 days, 1250 ml in 120 days, 1500 ml in 180 days, 2000 ml in 270 days, 2500 ml of blood in 1 year.\"                          13\n",
       "\"Inclusion Criteria:~* Healthy male or females~* Between the ages of 18 and 55 years, inclusive~* Body Mass Index (BMI) of 17.5 to 30.5 kg/m2~Exclusion Criteria:~* Illicit drug use~* Pregnant or nursing females~* Females of childbearing potential who are unwilling or unable to use an acceptable method of contraception\"                                                                                                                                                                                                                                                                                                                                                                                                                                                                                                                                                                                                                                                                                                                                                                                                                                                                                                                                                                                                                                                                                                                                                                                                                                                                                                                                                                                                                                                                                                                                                                                                                                                                                                                                                                                                                                                                                                                                                                                                                                              11\n",
       "                                                                                                                                                                                                                                                                                                                                                                                                                                                                                                                                                                                                                                                                                                                                                                                                                                                                                                                                                                                                                                                                                                                                                                                                                                                                                                                                                                                                                                                                                                                                                                                                                                                                                                                                                                                                                                                                                                                                                                                                                                                                                                                                                                                                                                                                                                                                                                              ..\n",
       "\"Inclusion Criteria:~- Participants who would like to voluntarily fill the survey form~Exclusion Criteria:~* Students~* Other than Health care professionals (including but not limited to Physicians, Doctors, Nurses and/or pharmacist)\"                                                                                                                                                                                                                                                                                                                                                                                                                                                                                                                                                                                                                                                                                                                                                                                                                                                                                                                                                                                                                                                                                                                                                                                                                                                                                                                                                                                                                                                                                                                                                                                                                                                                                                                                                                                                                                                                                                                                                                                                                                                                                                                                     1\n",
       "\"Inclusion Criteria:~* Patients suffer from HIV type 1 infection~* Patient is treated with antiretroviral protease-inhibitors or non-nucleoside reverse transcriptase inhibitors~* Patient has shown a depression of viral load before limit of detection (\\< 50 HIV-RNA copies/ml) for more than 6 months prior to visit 1~* Patient is male or female with age greater than or equal to 18 years~* Women have to be willing to use an effective barrier method of contraception for the duration of the observational study participation~Exclusion Criteria:~* Patient has clinically relevant laboratory findings (e.g., aspartate aminotransferase (AST) or alanine aminotransferase (ALT) \\> five times upper limit of normal (ULN))~* Patients is hypersensitive to Viramune® or to any of its excipients~* Patient is not able to abstain from treatment with ketoconazole, oral contraceptives, or other drug affecting CYP3A-metabolism~* Patients is breast-feeding~* Patient is pregnant~* Patient is a woman and does not use effective contraception\"                                                                                                                                                                                                                                                                                                                                                                                                                                                                                                                                                                                                                                                                                                                                                                                                                                                                                                                                                                                                                                                                                                                                                                                                                                                                                                            1\n",
       "\"Inclusion Criteria:~* Outpatient Subjects~* Subjects who give their signed and dated informed consent to participate~* 40 or more years of age, inclusive, at Visit 1~* Male or females~* Subjects with an established clinical history of COPD~* Current or previous cigarette smokers with a history of ≥ 10 pack-years of cigarette smoking~* Subjects with the following liver function test values:~* Subjects with a measured post-salbutamol FEV1/FVC ratio of \\< 0.70 at Visit 1 (Screening).~* Subjects with a measured post-salbutamol FEV1 30-70% of predicted normal values~Exclusion Criteria:~* Women who are pregnant or lactating or are planning to become pregnant during the study.~* Current diagnosis of asthma~* Other significant respiratory disorders besides COPD, including alpha-1 deficiency~* Previous lung resection surgery~* Significant abnormalities in chest x-ray presentation~* Hospitalization for a COPD exacerbation within 12 weeks prior screening~* Use of oral corticosteroids or antibiotics for COPD or antibiotics for a lower respiratory tract infection within 6 weeks~* Any significant disease that would put subject at risk through study participation~* BMI greater than 35~* Pacemaker~* Significantly abnormal ECG, clinical lab finding (including Hepatitis B or C)~* Cancer~* Allergy or hypersensitivity to beta adrenergic receptor-agonist, sympathomimetic, anticholinergic/anti-muscarinic receptor antagonist, or inhaler excipients~* Diseases that would contra-indicate the use of anticholinergics~* Use of sysemic corticosteroids within 6 weeks of screening~* Use of long-acting beta-agonists within 48 hours of screening~* Use of tiotropium within 7 days of screening~* Use of theophyllines or anti-leukotrienes within 48 hours of screening~* Use of short-acting bronchodilators within 4 hours of screening~* Use of investigational medicines within 30 days of screening~* Use of high dose inhaled corticosteroids~* Use of long-term oxygen therapy, CPAP or NIPPV~* Participation in the acute phase of a pulmonary rehabilitation program within 4 weeks prior to Visit 1~* Regular (q.i.d or greater) use of short acting bronchodilators, including nebulized therapy~* Affiliation with Investigator Site~* Questionable Validity of Consent~* Previous use of GSK961081\"      1\n",
       "\"Inclusion Criteria:~* Subject must be a candidate for a primary PCL retaining total knee arthroplasty~* Subject must be diagnosed with one or more of the following conditions: osteoarthritis, avascular necrosis, rheumatoid or other inflammatory arthritis, post-traumatic arthritis~* Subject is between the age of 45 - 80 years~* Subject is likely to be available for all study visits~* Subject is able and willing to sign the informed consent and follow study procedures~Exclusion Criteria:~* Prior total knee arthroplasty, ligament insufficiencies, prior surgeries such as ACL or PCL reconstructions, posterolateral reconstructions, osteotomies, tibia plateau fractures~* Range of Motion less than 90 degrees, flexion contracture of more than 20 degrees\"                                                                                                                                                                                                                                                                                                                                                                                                                                                                                                                                                                                                                                                                                                                                                                                                                                                                                                                                                                                                                                                                                                                                                                                                                                                                                                                                                                                                                                                                                                                                                                                           1\n",
       "\"Key Inclusion Criteria:~* Informed consent and assent (as applicable for participants less than or equal to (\\<=) 18 years per Institutional Review Board/Ethics Committee (IRB)/Ethics Committee (EC) as appropriate.~* Male or female participants between the ages of 12 months and 18 years inclusive (primary cohort) or birth to 18 years inclusive (exploratory cohort) at time of consent, with a body weight greater than or equal to (\\>=) 5 kilogram (kg).~* Cholestasis as manifested by total sBA greater than (\\>) 3\\*upper limit of normal (ULN)~* An average AM ItchRO(Obs) score \\>= 1.5 during the 4 weeks leading to the baseline visit~* Diagnosis of PFIC based on:~  a. Primary cohort: i. Participants with 2 documented mutant alleles in ABCB11 (PFIC2); participants without bile salt export pump (BSEP) function (biallelic truncating mutations in ABCB11) will not be enrolled into the primary cohort. b. Exploratory cohort: i. Participants with PFIC1/3/4 or PFIC2 with biallelic truncating mutationsiii.Infants from birth to \\<12 months of age with PFIC ii. Participants with PFIC after internal or external (eg, PEBD) biliary diversion surgery with unsatisfactory pruritus control or where biliary diversion was reversed.~Key Exclusion Criteria:~* Chronic diarrhea requiring intravenous fluid or nutritional intervention for the diarrhea and/or its sequelae.~* History of surgical disruption of the enterohepatic circulation (applies to primary cohort only).~* Liver transplant~* Decompensated cirrhosis (international normalized ratio \\[INR\\] \\>1.5, albumin \\<30 gram per liter \\[g/L\\], history or presence of clinically significant ascites, variceal hemorrhage, and/or encephalopathy).~* ALT \\>15\\*ULN at screening.~* History or presence of other liver disease.~* History or presence of any other disease or condition known to interfere with the absorption, distribution, metabolism or excretion of drugs, including bile salt metabolism in the intestine (example \\[eg\\], inflammatory bowel disease), per investigator discretion.~* Liver mass on imaging~* Known diagnosis of human immunodeficiency virus (HIV) infection.~* Any prior cancer diagnosis except for in situ carcinoma or cancers treated within 5 years of the screening visit (Visit 0) with no evidence of recurrence.\"     1\n",
       "Name: count, Length: 114368, dtype: int64"
      ]
     },
     "execution_count": 166,
     "metadata": {},
     "output_type": "execute_result"
    }
   ],
   "source": [
    "col = \"Criteria\"\n",
    "merged_df[col].value_counts()"
   ]
  },
  {
   "cell_type": "code",
   "execution_count": 167,
   "metadata": {},
   "outputs": [
    {
     "name": "stdout",
     "output_type": "stream",
     "text": [
      "53\n"
     ]
    }
   ],
   "source": [
    "merged_df[col] = merged_df[col].replace(['NA', '', 'N/A','NONE','None'], np.nan)\n",
    "print(merged_df[col].isna().sum())\n"
   ]
  },
  {
   "cell_type": "code",
   "execution_count": 168,
   "metadata": {},
   "outputs": [],
   "source": [
    "merged_df[col] = merged_df[col].fillna(\"None\")"
   ]
  },
  {
   "cell_type": "code",
   "execution_count": 169,
   "metadata": {},
   "outputs": [
    {
     "data": {
      "text/plain": [
       "Gender Description\n",
       "Male                                                                                                                                                                                        33\n",
       "Female                                                                                                                                                                                      31\n",
       "Pregnant women                                                                                                                                                                              12\n",
       "Female only                                                                                                                                                                                 10\n",
       "Women                                                                                                                                                                                        8\n",
       "                                                                                                                                                                                            ..\n",
       "pregnant women aged \\> 18 years in the \\< 14 week of pregnancy                                                                                                                               1\n",
       "women in reproductive age                                                                                                                                                                    1\n",
       "Males 45 to 75 years old Postmenopausal Females up to age 75                                                                                                                                 1\n",
       "This study is open to biological females who are pregnant and identify as female, male, or non-binary                                                                                        1\n",
       "Adult male subjects with organic erectile dysfunction (IIEF-EF score 11-22) of greater than 6 months' duration due to radical prostatectomy, diabetes mellitus, and/or vascular disease.     1\n",
       "Name: count, Length: 882, dtype: int64"
      ]
     },
     "execution_count": 169,
     "metadata": {},
     "output_type": "execute_result"
    }
   ],
   "source": [
    "col = \"Gender Description\"\n",
    "merged_df[col].value_counts()"
   ]
  },
  {
   "cell_type": "code",
   "execution_count": 170,
   "metadata": {},
   "outputs": [
    {
     "name": "stdout",
     "output_type": "stream",
     "text": [
      "115065\n"
     ]
    }
   ],
   "source": [
    "merged_df[col] = merged_df[col].replace(['NA', '', 'N/A','NONE','None'], np.nan)\n",
    "print(merged_df[col].isna().sum())"
   ]
  },
  {
   "cell_type": "code",
   "execution_count": 171,
   "metadata": {},
   "outputs": [],
   "source": [
    "merged_df[col] = merged_df[col].fillna(\"Other\")"
   ]
  },
  {
   "cell_type": "code",
   "execution_count": 172,
   "metadata": {},
   "outputs": [
    {
     "data": {
      "text/plain": [
       "Gender Based\n",
       "Yes    2012\n",
       "Name: count, dtype: int64"
      ]
     },
     "execution_count": 172,
     "metadata": {},
     "output_type": "execute_result"
    }
   ],
   "source": [
    "col = \"Gender Based\"\n",
    "merged_df[col].value_counts()"
   ]
  },
  {
   "cell_type": "code",
   "execution_count": 173,
   "metadata": {},
   "outputs": [
    {
     "name": "stdout",
     "output_type": "stream",
     "text": [
      "114137\n"
     ]
    }
   ],
   "source": [
    "merged_df[col] = merged_df[col].replace(['NA', '', 'N/A','NONE','None'], np.nan)\n",
    "print(merged_df[col].isna().sum())"
   ]
  },
  {
   "cell_type": "code",
   "execution_count": 174,
   "metadata": {},
   "outputs": [],
   "source": [
    "merged_df[col] = merged_df[col].fillna(\"Other\")"
   ]
  },
  {
   "cell_type": "code",
   "execution_count": 175,
   "metadata": {},
   "outputs": [
    {
     "data": {
      "text/plain": [
       "Adult\n",
       "Yes    109994\n",
       "No       6155\n",
       "Name: count, dtype: int64"
      ]
     },
     "execution_count": 175,
     "metadata": {},
     "output_type": "execute_result"
    }
   ],
   "source": [
    "col = \"Adult\"\n",
    "merged_df[col].value_counts()"
   ]
  },
  {
   "cell_type": "code",
   "execution_count": 176,
   "metadata": {},
   "outputs": [
    {
     "name": "stdout",
     "output_type": "stream",
     "text": [
      "0\n"
     ]
    }
   ],
   "source": [
    "merged_df[col] = merged_df[col].replace(['NA', '', 'N/A','NONE','None'], np.nan)\n",
    "print(merged_df[col].isna().sum())"
   ]
  },
  {
   "cell_type": "code",
   "execution_count": 177,
   "metadata": {},
   "outputs": [
    {
     "data": {
      "text/plain": [
       "Child\n",
       "No     99320\n",
       "Yes    16829\n",
       "Name: count, dtype: int64"
      ]
     },
     "execution_count": 177,
     "metadata": {},
     "output_type": "execute_result"
    }
   ],
   "source": [
    "col = \"Child\"\n",
    "merged_df[col].value_counts()"
   ]
  },
  {
   "cell_type": "code",
   "execution_count": 178,
   "metadata": {},
   "outputs": [
    {
     "name": "stdout",
     "output_type": "stream",
     "text": [
      "0\n"
     ]
    }
   ],
   "source": [
    "merged_df[col] = merged_df[col].replace(['NA', '', 'N/A','NONE','None'], np.nan)\n",
    "print(merged_df[col].isna().sum())"
   ]
  },
  {
   "cell_type": "code",
   "execution_count": 179,
   "metadata": {},
   "outputs": [
    {
     "data": {
      "text/plain": [
       "Older Adult\n",
       "Yes    90446\n",
       "No     25703\n",
       "Name: count, dtype: int64"
      ]
     },
     "execution_count": 179,
     "metadata": {},
     "output_type": "execute_result"
    }
   ],
   "source": [
    "col = \"Older Adult\"\n",
    "merged_df[col].value_counts()"
   ]
  },
  {
   "cell_type": "code",
   "execution_count": 180,
   "metadata": {},
   "outputs": [
    {
     "name": "stdout",
     "output_type": "stream",
     "text": [
      "0\n"
     ]
    }
   ],
   "source": [
    "merged_df[col] = merged_df[col].replace(['NA', '', 'N/A','NONE','None'], np.nan)\n",
    "print(merged_df[col].isna().sum())"
   ]
  },
  {
   "cell_type": "code",
   "execution_count": 181,
   "metadata": {},
   "outputs": [
    {
     "data": {
      "text/plain": [
       "Inclusion Criteria\n",
       "-                                                                                                                                                                                                                                                                                                                                                                                                                                                                                                                                                                                                                                                                                                                                                                                                                                                                                                                                                                                                                                                                                                                                                                                                                                         67\n",
       " No clinically significant abnormal finding on physical exam, medical history, or clinical laboratory results on screening.                                                                                                                                                                                                                                                                                                                                                                                                                                                                                                                                                                                                                                                                                                                                                                                                                                                                                                                                                                                                                                                                                                               61\n",
       " No clinically significant abnormal findings on the physical examination, medical history, or clinical laboratory results during screening.                                                                                                                                                                                                                                                                                                                                                                                                                                                                                                                                                                                                                                                                                                                                                                                                                                                                                                                                                                                                                                                                                               41\n",
       " No clinically significant abnormal findings on the physical examination, medical history, or clinical laboratory results during screening                                                                                                                                                                                                                                                                                                                                                                                                                                                                                                                                                                                                                                                                                                                                                                                                                                                                                                                                                                                                                                                                                                37\n",
       "1. Healthy male or female, age 18 to 55 years, inclusive.2. Body weight within 15% of normal range according to the accepted normal values for body mass index (BMI).3. Medical demographics without evidence of clinically significant deviation from normal medical condition.4. Results of clinical laboratory test are within the normal range or with a deviation that is not considered clinically significant by principal investigator.5. Subject does not have allergy to the drugs under investigation.                                                                                                                                                                                                                                                                                                                                                                                                                                                                                                                                                                                                                                                                                                                         16\n",
       "                                                                                                                                                                                                                                                                                                                                                                                                                                                                                                                                                                                                                                                                                                                                                                                                                                                                                                                                                                                                                                                                                                                                                                                                                                          ..\n",
       " Patients must have histologically confirmed hepatocellular carcinoma Patients must have measurable disease by CT scan Patients with unresectable, recurrent or metastatic disease may be chemonaive or may be previously treated by chemotherapy. The period of washout of prior chemotherapy must be greater than 4 weeks from date of randomization. The prior chemotherapy should not include platinum compounds. WHO performance status: 0 to 2 Patients must have adequate organ and marrow function as defined below:  Leukocytes : ≥ 3,000/μl  Absolute neutrophil count :≥ 1,500/μl  Platelets : ≥ 80,000/μl  Total bilirubin : \\< 3.0g/dl  ASAT/ALAT : ≤ 3 times the upper normal limits of the institute  Creatinine : \\< 120μmol/l Patients with no evidence of clinically significant neuropathy.                                                                                                                                                                                                                                                                                                                                                                                                                             1\n",
       " Diagnosis of schizophrenia (patients from RIS-INT-62 or RIS-INT-85) or schizoaffective disorder (patients from RIS-INT-62 only) according to the Diagnostic and Statistical Manual of Mental Disorders, 4th edition (DSM-IV) criteria patient completed the risperidone microspheres arm of RIS-INT-62, or completed RIS-INT-85, or dropped out of the risperidone microspheres arm of RIS-INT-62 due to treatment with 75 mg long-acting injectable risperidone informed consent signed by the patient patient is otherwise healthy on the basis of a prestudy physical examination and medical history.                                                                                                                                                                                                                                                                                                                                                                                                                                                                                                                                                                                                                                 1\n",
       "1. Subject is healthy as judged by the Investigator based on all available assessments from the Screening Period (e.g., safety laboratory, vital signs, physical examination, ECG, concomitant medications and medical history).2. Subject smokes on average four days a week for the last 12 months.3. Subject has no intention of quitting smoking within the next 90 days.4. Owns a smart phone with text message and data capabilities.5. Willingness to use and ability to operate e-cigarettes.6. Willingness to smoke Research Cigarettes.                                                                                                                                                                                                                                                                                                                                                                                                                                                                                                                                                                                                                                                                                          1\n",
       " Adult patients, ≥18 years of age CHC genotype 1 Stable HIV-1 infection                                                                                                                                                                                                                                                                                                                                                                                                                                                                                                                                                                                                                                                                                                                                                                                                                                                                                                                                                                                                                                                                                                                                                                    1\n",
       " Informed consent and assent (as applicable for participants less than or equal to (\\<=) 18 years per Institutional Review Board/Ethics Committee (IRB)/Ethics Committee (EC) as appropriate. Male or female participants between the ages of 12 months and 18 years inclusive (primary cohort) or birth to 18 years inclusive (exploratory cohort) at time of consent, with a body weight greater than or equal to (\\>=) 5 kilogram (kg). Cholestasis as manifested by total sBA greater than (\\>) 3\\upper limit of normal (ULN) An average AM ItchRO(Obs) score \\>= 1.5 during the 4 weeks leading to the baseline visit Diagnosis of PFIC based on: a. Primary cohort: i. Participants with 2 documented mutant alleles in ABCB11 (PFIC2); participants without bile salt export pump (BSEP) function (biallelic truncating mutations in ABCB11) will not be enrolled into the primary cohort. b. Exploratory cohort: i. Participants with PFIC1/3/4 or PFIC2 with biallelic truncating mutationsiii.Infants from birth to \\<12 months of age with PFIC ii. Participants with PFIC after internal or external (eg, PEBD) biliary diversion surgery with unsatisfactory pruritus control or where biliary diversion was reversed.Key     1\n",
       "Name: count, Length: 101092, dtype: int64"
      ]
     },
     "execution_count": 181,
     "metadata": {},
     "output_type": "execute_result"
    }
   ],
   "source": [
    "col = \"Inclusion Criteria\"\n",
    "merged_df[col].value_counts()"
   ]
  },
  {
   "cell_type": "code",
   "execution_count": 182,
   "metadata": {},
   "outputs": [
    {
     "name": "stdout",
     "output_type": "stream",
     "text": [
      "12210\n"
     ]
    }
   ],
   "source": [
    "merged_df[col] = merged_df[col].replace(['NA', '', 'N/A','NONE','None'], np.nan)\n",
    "print(merged_df[col].isna().sum())"
   ]
  },
  {
   "cell_type": "code",
   "execution_count": 183,
   "metadata": {},
   "outputs": [],
   "source": [
    "merged_df[col] = merged_df[col].fillna(\"None\")"
   ]
  },
  {
   "cell_type": "code",
   "execution_count": 184,
   "metadata": {},
   "outputs": [
    {
     "data": {
      "text/plain": [
       "Exclusion Criteria\n",
       " None\"                                                                                                                                                                                                                                                                                                                                                                                                                                                                                                                                                                                                                                                                                                                                                                                                                                                                                                                                                                                                                                                                                                                                                                                                                                                                                                                                                                                                                                                                                                                                                                                                                                                                                                                                                                                                                                                                                                                                                                                                                                                                                                                                                                                                                                                                                                                                                                                                                                                                                                                                                                                                                                                                                                                                                                                                                                                                                                                                                                                                                                                                                                                                                                                                                                                                                                                                                                                                                                                                                                                                                                                                                                                                                                                                                                                                                                                                                                                                                                                                                                                                               309\n",
       "-\"                                                                                                                                                                                                                                                                                                                                                                                                                                                                                                                                                                                                                                                                                                                                                                                                                                                                                                                                                                                                                                                                                                                                                                                                                                                                                                                                                                                                                                                                                                                                                                                                                                                                                                                                                                                                                                                                                                                                                                                                                                                                                                                                                                                                                                                                                                                                                                                                                                                                                                                                                                                                                                                                                                                                                                                                                                                                                                                                                                                                                                                                                                                                                                                                                                                                                                                                                                                                                                                                                                                                                                                                                                                                                                                                                                                                                                                                                                                                                                                                                                                                                   276\n",
       " N/A\"                                                                                                                                                                                                                                                                                                                                                                                                                                                                                                                                                                                                                                                                                                                                                                                                                                                                                                                                                                                                                                                                                                                                                                                                                                                                                                                                                                                                                                                                                                                                                                                                                                                                                                                                                                                                                                                                                                                                                                                                                                                                                                                                                                                                                                                                                                                                                                                                                                                                                                                                                                                                                                                                                                                                                                                                                                                                                                                                                                                                                                                                                                                                                                                                                                                                                                                                                                                                                                                                                                                                                                                                                                                                                                                                                                                                                                                                                                                                                                                                                                                                                 83\n",
       "None\"                                                                                                                                                                                                                                                                                                                                                                                                                                                                                                                                                                                                                                                                                                                                                                                                                                                                                                                                                                                                                                                                                                                                                                                                                                                                                                                                                                                                                                                                                                                                                                                                                                                                                                                                                                                                                                                                                                                                                                                                                                                                                                                                                                                                                                                                                                                                                                                                                                                                                                                                                                                                                                                                                                                                                                                                                                                                                                                                                                                                                                                                                                                                                                                                                                                                                                                                                                                                                                                                                                                                                                                                                                                                                                                                                                                                                                                                                                                                                                                                                                                                                 78\n",
       "\"                                                                                                                                                                                                                                                                                                                                                                                                                                                                                                                                                                                                                                                                                                                                                                                                                                                                                                                                                                                                                                                                                                                                                                                                                                                                                                                                                                                                                                                                                                                                                                                                                                                                                                                                                                                                                                                                                                                                                                                                                                                                                                                                                                                                                                                                                                                                                                                                                                                                                                                                                                                                                                                                                                                                                                                                                                                                                                                                                                                                                                                                                                                                                                                                                                                                                                                                                                                                                                                                                                                                                                                                                                                                                                                                                                                                                                                                                                                                                                                                                                                                                     70\n",
       "                                                                                                                                                                                                                                                                                                                                                                                                                                                                                                                                                                                                                                                                                                                                                                                                                                                                                                                                                                                                                                                                                                                                                                                                                                                                                                                                                                                                                                                                                                                                                                                                                                                                                                                                                                                                                                                                                                                                                                                                                                                                                                                                                                                                                                                                                                                                                                                                                                                                                                                                                                                                                                                                                                                                                                                                                                                                                                                                                                                                                                                                                                                                                                                                                                                                                                                                                                                                                                                                                                                                                                                                                                                                                                                                                                                                                                                                                                                                                                                                                                                                                    ... \n",
       " Suffering from a metabolic or endocrine disorder such as diabetes, uncontrolled or controlled thyroidal trouble or other metabolic disorder, Suffering from a severe chornic disease (e.g. cancer, HIV, renal failure, ongoing hepatic or biliary disorders, chronic inflammatory digestive disease, arthritis or other chronic respiratory trouble, etc.) or gastrointestinal disorders found to be inconsistent with the conduct of the study by the investigator (e.g. celiac disease), Current disease states that are contraindicated to sujects with dietary supplementation: chronic diarrhea, constipation or abdominal pain, Inflammatory bowel diseases (Crohn's disease or ulcerative colitis), Cirrhosis..., Suffering from Irritable Bowel Syndrome (IBS) diagnosed by a medical doctor and treated with chronic medication, Suffering from an uncontrolled hypertension (systolic blood pressure ≥ 160 mmHg and/or diastolic blood pressure ≥ 100 mmHg), Having medical history of current pathology which could affect the study results or expose the subject to an additional risk according to the investigator, Recent gastroenteritis or food borne illness such as confirmed food poisoning (less than 1 month), Who made a blood donation in the 3 months before the V0 visit or intending to make it within 3 months ahead, With a low venous capital not allowing to perform kinetic of blood samples according to the investigator's opinion, With a known or suspected food allergy or intolerance or hypersensitivity to any of the study products' ingredient and/or of the standard meals, Pregnant or lactating women or intending to become pregnant within 3 months ahead, On any chronic drug treatment (for example antihypertensive treatment, treatment thyroid, asthma treatment, anxiolytic, antidepressant, lipid-lowering treatment, corticosteroids, phlebotonic, veino-tonic, drug with impact on blood circulation...) excepting oral and local contraceptives, Under treatment and/or dietary supplement and/or health food which could significantly affect parameters followed during the study according to the investigator (i.e. antibiotics, laxatives, antidiarrheal therapy, containg plant extracts (including ginger extracts), probiotics, prebiotics, symbiotics, vitamins and minerals) or stopped less than 3 months before the V0 visit, Regular consumption of food and/or drink and/or condiment containing ginger (gari, pickled ginger, Japanese food, tea or infusion...) defined as at least 3 times per week, With significant change in food habits or in physical activity in the 3 months before the V0 visit or not agreeing to keep them unchanged throughout the study, With a current or planned in the next 3 months specific diet (hyper or hypocaloric, vegan, vegetarian...) or stopped less than 3 months before the study, With a personal history of anorexia nervosa, bulimia or significant eating disorders according to the investigator, Consuming more than 3 standard drinks of alcoholic beverage daily for men or 2 daily for women or not agreeing to keep his alcohol consumption habits unchanged throughout the study, Having a lifestyle deemed incompatible with the study according to the investigator including high level physical activity (defined as more than 10 hours of significant physical activity a week, walking excluded), Taking part in another clinical trial or being in the exclusion period of a previous clinical trial, Having received, during the last 12 months, indemnities for clinical trial higher or equal to 4500 Euros, Under legal protection (guardianship, wardship) or deprived from his rights following administrative or judicial decision, Presenting a psychological or linguistic incapability to sign the informed consent, Impossible to contact in case of emergency, Control record (Glycaemia, GGT, ASAT, ALAT, Urea, Creatinine and Comple Blood Count) with clinically significant abnormality according to the investigator.\"      1\n",
       " Participants under 3 or over 12 years old. Severe hearing or visual impairment. Participants using medication that affects the nervous system (classified as ATC N0 medication, https://www.whocc.no).\"                                                                                                                                                                                                                                                                                                                                                                                                                                                                                                                                                                                                                                                                                                                                                                                                                                                                                                                                                                                                                                                                                                                                                                                                                                                                                                                                                                                                                                                                                                                                                                                                                                                                                                                                                                                                                                                                                                                                                                                                                                                                                                                                                                                                                                                                                                                                                                                                                                                                                                                                                                                                                                                                                                                                                                                                                                                                                                                                                                                                                                                                                                                                                                                                                                                                                                                                                                                                                                                                                                                                                                                                                                                                                                                                                                                                                                                                               1\n",
       " Severe concomitant diseases Certain concomitant therapies (in particular: pain influencing concomitant therapies) Dronabinol intake within the last 12 months prior to study entry or Marihuana use within one month prior to study entry\"                                                                                                                                                                                                                                                                                                                                                                                                                                                                                                                                                                                                                                                                                                                                                                                                                                                                                                                                                                                                                                                                                                                                                                                                                                                                                                                                                                                                                                                                                                                                                                                                                                                                                                                                                                                                                                                                                                                                                                                                                                                                                                                                                                                                                                                                                                                                                                                                                                                                                                                                                                                                                                                                                                                                                                                                                                                                                                                                                                                                                                                                                                                                                                                                                                                                                                                                                                                                                                                                                                                                                                                                                                                                                                                                                                                                                                            1\n",
       " Any condition which could interfere with the patient's ability to comply with the study. This decision is at the discretion of the treating physician and relates to the general stable condition of the patient (e.g. absence of any acute condition, e.g. infection or mental problem which might give reason for concern etc.). Ongoing participation in an interventional clinical study during the preceding 30 days Previous participation in this study Pregnancy (pregnancy test will be conducted with female patients aged ≤ 55 years) or lactation period Patient is not able to give informed consent\"                                                                                                                                                                                                                                                                                                                                                                                                                                                                                                                                                                                                                                                                                                                                                                                                                                                                                                                                                                                                                                                                                                                                                                                                                                                                                                                                                                                                                                                                                                                                                                                                                                                                                                                                                                                                                                                                                                                                                                                                                                                                                                                                                                                                                                                                                                                                                                                                                                                                                                                                                                                                                                                                                                                                                                                                                                                                                                                                                                                                                                                                                                                                                                                                                                                                                                                                                                                                                                                                    1\n",
       " Chronic diarrhea requiring intravenous fluid or nutritional intervention for the diarrhea and/or its sequelae. History of surgical disruption of the enterohepatic circulation (applies to primary cohort only). Liver transplant Decompensated cirrhosis (international normalized ratio \\[INR\\] \\>1.5, albumin \\<30 gram per liter \\[g/L\\], history or presence of clinically significant ascites, variceal hemorrhage, and/or encephalopathy). ALT \\>15\\ULN at screening. History or presence of other liver disease. History or presence of any other disease or condition known to interfere with the absorption, distribution, metabolism or excretion of drugs, including bile salt metabolism in the intestine (example \\[eg\\], inflammatory bowel disease), per investigator discretion. Liver mass on imaging Known diagnosis of human immunodeficiency virus (HIV) infection. Any prior cancer diagnosis except for in situ carcinoma or cancers treated within 5 years of the screening visit (Visit 0) with no evidence of recurrence.\"                                                                                                                                                                                                                                                                                                                                                                                                                                                                                                                                                                                                                                                                                                                                                                                                                                                                                                                                                                                                                                                                                                                                                                                                                                                                                                                                                                                                                                                                                                                                                                                                                                                                                                                                                                                                                                                                                                                                                                                                                                                                                                                                                                                                                                                                                                                                                                                                                                                                                                                                                                                                                                                                                                                                                                                                                                                                                                                                                                                                                                  1\n",
       "Name: count, Length: 100109, dtype: int64"
      ]
     },
     "execution_count": 184,
     "metadata": {},
     "output_type": "execute_result"
    }
   ],
   "source": [
    "col = \"Exclusion Criteria\"\n",
    "merged_df[col].value_counts()"
   ]
  },
  {
   "cell_type": "code",
   "execution_count": 185,
   "metadata": {},
   "outputs": [
    {
     "name": "stdout",
     "output_type": "stream",
     "text": [
      "11301\n"
     ]
    }
   ],
   "source": [
    "merged_df[col] = merged_df[col].replace(['NA', '', 'N/A','NONE','None'], np.nan)\n",
    "print(merged_df[col].isna().sum())"
   ]
  },
  {
   "cell_type": "code",
   "execution_count": 186,
   "metadata": {},
   "outputs": [],
   "source": [
    "merged_df[col] = merged_df[col].fillna(\"None\")"
   ]
  },
  {
   "cell_type": "code",
   "execution_count": 187,
   "metadata": {},
   "outputs": [
    {
     "data": {
      "text/plain": [
       "NCT Number                    0\n",
       "Study Title                   0\n",
       "Acronym                       0\n",
       "Brief Summary                 0\n",
       "Conditions                    0\n",
       "Interventions                 0\n",
       "Primary Outcome Measures      0\n",
       "Secondary Outcome Measures    0\n",
       "Other Outcome Measures        0\n",
       "Sponsor                       0\n",
       "Sex                           0\n",
       "Age                           0\n",
       "Phases                        0\n",
       "Study Type                    0\n",
       "Study Design                  0\n",
       "Allocation                    0\n",
       "Intervention Model            0\n",
       "Masking                       0\n",
       "Primary Purpose               0\n",
       "Time Perspective              0\n",
       "Masking Type                  0\n",
       "Maskings                      0\n",
       "Masking1                      0\n",
       "Masking2                      0\n",
       "Masking3                      0\n",
       "Masking4                      0\n",
       "Masking Description           0\n",
       "Drug                          0\n",
       "Device                        0\n",
       "Procedure                     0\n",
       "Biological                    0\n",
       "Other                         0\n",
       "Combination Product           0\n",
       "Behavioral                    0\n",
       "Dietary Supplement            0\n",
       "Genetic                       0\n",
       "Diaganostic Test              0\n",
       "Radiation                     0\n",
       "Sampling Method               0\n",
       "Gender                        0\n",
       "Minimum Age                   0\n",
       "Maximum Age                   0\n",
       "Healthy Volunteers            0\n",
       "Population                    0\n",
       "Criteria                      0\n",
       "Gender Description            0\n",
       "Gender Based                  0\n",
       "Adult                         0\n",
       "Child                         0\n",
       "Older Adult                   0\n",
       "Inclusion Criteria            0\n",
       "Exclusion Criteria            0\n",
       "dtype: int64"
      ]
     },
     "execution_count": 187,
     "metadata": {},
     "output_type": "execute_result"
    }
   ],
   "source": [
    "null_counts = merged_df.isnull().sum()\n",
    "null_counts"
   ]
  },
  {
   "cell_type": "markdown",
   "metadata": {},
   "source": [
    "#### Simplifying the Data"
   ]
  },
  {
   "cell_type": "code",
   "execution_count": 188,
   "metadata": {},
   "outputs": [
    {
     "data": {
      "text/html": [
       "<div>\n",
       "<style scoped>\n",
       "    .dataframe tbody tr th:only-of-type {\n",
       "        vertical-align: middle;\n",
       "    }\n",
       "\n",
       "    .dataframe tbody tr th {\n",
       "        vertical-align: top;\n",
       "    }\n",
       "\n",
       "    .dataframe thead th {\n",
       "        text-align: right;\n",
       "    }\n",
       "</style>\n",
       "<table border=\"1\" class=\"dataframe\">\n",
       "  <thead>\n",
       "    <tr style=\"text-align: right;\">\n",
       "      <th></th>\n",
       "      <th>NCT Number</th>\n",
       "      <th>Study Title</th>\n",
       "      <th>Acronym</th>\n",
       "      <th>Brief Summary</th>\n",
       "      <th>Conditions</th>\n",
       "      <th>Interventions</th>\n",
       "      <th>Primary Outcome Measures</th>\n",
       "      <th>Secondary Outcome Measures</th>\n",
       "      <th>Other Outcome Measures</th>\n",
       "      <th>Sponsor</th>\n",
       "      <th>...</th>\n",
       "      <th>Maximum Age</th>\n",
       "      <th>Healthy Volunteers</th>\n",
       "      <th>Population</th>\n",
       "      <th>Gender Description</th>\n",
       "      <th>Gender Based</th>\n",
       "      <th>Adult</th>\n",
       "      <th>Child</th>\n",
       "      <th>Older Adult</th>\n",
       "      <th>Inclusion Criteria</th>\n",
       "      <th>Exclusion Criteria</th>\n",
       "    </tr>\n",
       "  </thead>\n",
       "  <tbody>\n",
       "    <tr>\n",
       "      <th>0</th>\n",
       "      <td>NCT03302091</td>\n",
       "      <td>A Study in People With Normal Kidney Function ...</td>\n",
       "      <td>Not Available</td>\n",
       "      <td>The primary objective of the current study is ...</td>\n",
       "      <td>Renal Insufficiency and Healthy</td>\n",
       "      <td>DRUG: BI 1467335</td>\n",
       "      <td>Area Under the Concentration-time Curve of BI ...</td>\n",
       "      <td>Area Under the Concentration-time Curve of BI ...</td>\n",
       "      <td>Not Available</td>\n",
       "      <td>Boehringer Ingelheim</td>\n",
       "      <td>...</td>\n",
       "      <td>79.0</td>\n",
       "      <td>Yes</td>\n",
       "      <td>Other</td>\n",
       "      <td>Other</td>\n",
       "      <td>Other</td>\n",
       "      <td>Yes</td>\n",
       "      <td>No</td>\n",
       "      <td>Yes</td>\n",
       "      <td>Despite of moderate renal impairment (Group 1...</td>\n",
       "      <td>Healthy subjects Any finding in the medical ex...</td>\n",
       "    </tr>\n",
       "    <tr>\n",
       "      <th>1</th>\n",
       "      <td>NCT01948791</td>\n",
       "      <td>16w Interventional Study on Titration and Dose...</td>\n",
       "      <td>INSTINCT</td>\n",
       "      <td>To investigate the efficacy of Exelon capsule ...</td>\n",
       "      <td>Alzheimer's Disease</td>\n",
       "      <td>DRUG: ENA713</td>\n",
       "      <td>Mean Change From Baseline in the Alzheimer's D...</td>\n",
       "      <td>Change From Baseline in the Alzheimer's Diseas...</td>\n",
       "      <td>Not Available</td>\n",
       "      <td>Novartis Pharmaceuticals</td>\n",
       "      <td>...</td>\n",
       "      <td>85.0</td>\n",
       "      <td>No</td>\n",
       "      <td>Other</td>\n",
       "      <td>Other</td>\n",
       "      <td>Other</td>\n",
       "      <td>Yes</td>\n",
       "      <td>No</td>\n",
       "      <td>Yes</td>\n",
       "      <td>Have a diagnosis of dementia of the Alzheimer...</td>\n",
       "      <td>Severe AD Patients with a history of cerebrov...</td>\n",
       "    </tr>\n",
       "    <tr>\n",
       "      <th>2</th>\n",
       "      <td>NCT04621591</td>\n",
       "      <td>Case Series With Saneso 360° Gastroscope</td>\n",
       "      <td>Not Available</td>\n",
       "      <td>To confirm the procedural performance of the S...</td>\n",
       "      <td>EGD Procedure</td>\n",
       "      <td>DEVICE: Saneso 360° gastroscope</td>\n",
       "      <td>Successful EGD, Procedure success is assessed ...</td>\n",
       "      <td>Endoscopist qualitative rating of the Saneso 3...</td>\n",
       "      <td>Not Available</td>\n",
       "      <td>Saneso Inc.</td>\n",
       "      <td>...</td>\n",
       "      <td>74.0</td>\n",
       "      <td>No</td>\n",
       "      <td>Other</td>\n",
       "      <td>Other</td>\n",
       "      <td>Other</td>\n",
       "      <td>Yes</td>\n",
       "      <td>No</td>\n",
       "      <td>Yes</td>\n",
       "      <td>18 -74 years of age Willing and able to compl...</td>\n",
       "      <td>Altered esophageal, gastric, or duodenal anat...</td>\n",
       "    </tr>\n",
       "    <tr>\n",
       "      <th>3</th>\n",
       "      <td>NCT03130491</td>\n",
       "      <td>European Study Evaluating the EMBLOK Embolic P...</td>\n",
       "      <td>Not Available</td>\n",
       "      <td>The primary objective is to evaluate the perfo...</td>\n",
       "      <td>Aortic Valve Disease</td>\n",
       "      <td>PROCEDURE: Transcatheter Aortic Valve Replacem...</td>\n",
       "      <td>Performance Endpoint, successful insertion, pl...</td>\n",
       "      <td>Safety Endpoint (Rate of MACCE), Rate of MACCE...</td>\n",
       "      <td>Efficacy Endpoint, Reduction in embolic burden...</td>\n",
       "      <td>Innovative Cardiovascular Solutions</td>\n",
       "      <td>...</td>\n",
       "      <td>90.0</td>\n",
       "      <td>No</td>\n",
       "      <td>Other</td>\n",
       "      <td>Other</td>\n",
       "      <td>Other</td>\n",
       "      <td>Yes</td>\n",
       "      <td>No</td>\n",
       "      <td>Yes</td>\n",
       "      <td>Subject is between 18 and 90 years of age.Subj...</td>\n",
       "      <td>Subject requires an emergent procedure. Contra...</td>\n",
       "    </tr>\n",
       "    <tr>\n",
       "      <th>4</th>\n",
       "      <td>NCT01580891</td>\n",
       "      <td>Evaluate the Clinical Equivalence of Two Nafti...</td>\n",
       "      <td>Not Available</td>\n",
       "      <td>The objective of this study is to evaluate the...</td>\n",
       "      <td>Tinea Pedis</td>\n",
       "      <td>DRUG: Naftifine HCl Cream 1%|DRUG: Naftin® (Na...</td>\n",
       "      <td>Therapeutic Cure, Patients with both mycologic...</td>\n",
       "      <td>Not Available</td>\n",
       "      <td>Not Available</td>\n",
       "      <td>Taro Pharmaceuticals USA</td>\n",
       "      <td>...</td>\n",
       "      <td>Not Given</td>\n",
       "      <td>No</td>\n",
       "      <td>Other</td>\n",
       "      <td>Other</td>\n",
       "      <td>Other</td>\n",
       "      <td>Yes</td>\n",
       "      <td>No</td>\n",
       "      <td>Yes</td>\n",
       "      <td>Male or non-pregnant, non-lactating females 1...</td>\n",
       "      <td>Females who are pregnant, lactating or likely...</td>\n",
       "    </tr>\n",
       "    <tr>\n",
       "      <th>...</th>\n",
       "      <td>...</td>\n",
       "      <td>...</td>\n",
       "      <td>...</td>\n",
       "      <td>...</td>\n",
       "      <td>...</td>\n",
       "      <td>...</td>\n",
       "      <td>...</td>\n",
       "      <td>...</td>\n",
       "      <td>...</td>\n",
       "      <td>...</td>\n",
       "      <td>...</td>\n",
       "      <td>...</td>\n",
       "      <td>...</td>\n",
       "      <td>...</td>\n",
       "      <td>...</td>\n",
       "      <td>...</td>\n",
       "      <td>...</td>\n",
       "      <td>...</td>\n",
       "      <td>...</td>\n",
       "      <td>...</td>\n",
       "      <td>...</td>\n",
       "    </tr>\n",
       "    <tr>\n",
       "      <th>116144</th>\n",
       "      <td>NCT00706654</td>\n",
       "      <td>Intramuscular Depot Formulation of Aripiprazol...</td>\n",
       "      <td>ASPIRE</td>\n",
       "      <td>The purpose of the this trial is to evaluate t...</td>\n",
       "      <td>Schizophrenia</td>\n",
       "      <td>DRUG: Aripiprazole depot 300 or 400 mg|DRUG: A...</td>\n",
       "      <td>Percentage of Patients Meeting Exacerbation of...</td>\n",
       "      <td>Time to Exacerbation of Psychotic Symptoms/Imp...</td>\n",
       "      <td>Not Available</td>\n",
       "      <td>Otsuka Pharmaceutical Development &amp; Commercial...</td>\n",
       "      <td>...</td>\n",
       "      <td>60.0</td>\n",
       "      <td>No</td>\n",
       "      <td>Other</td>\n",
       "      <td>Other</td>\n",
       "      <td>Other</td>\n",
       "      <td>Yes</td>\n",
       "      <td>No</td>\n",
       "      <td>No</td>\n",
       "      <td>Subjects who are able to provide written info...</td>\n",
       "      <td>Subjects with a current DSM-IV-TR diagnosis o...</td>\n",
       "    </tr>\n",
       "    <tr>\n",
       "      <th>116145</th>\n",
       "      <td>NCT05098054</td>\n",
       "      <td>A Study of Soticlestat in Adults With Liver Fa...</td>\n",
       "      <td>Not Available</td>\n",
       "      <td>The main aim is to check the effect of a singl...</td>\n",
       "      <td>Hepatic Impairment and Healthy Volunteers</td>\n",
       "      <td>DRUG: Soticlestat</td>\n",
       "      <td>Cmax: Maximum Observed Plasma Concentration fo...</td>\n",
       "      <td>Number of Participants Reporting One or More T...</td>\n",
       "      <td>Not Available</td>\n",
       "      <td>Takeda</td>\n",
       "      <td>...</td>\n",
       "      <td>75.0</td>\n",
       "      <td>Yes</td>\n",
       "      <td>Other</td>\n",
       "      <td>Other</td>\n",
       "      <td>Other</td>\n",
       "      <td>Yes</td>\n",
       "      <td>No</td>\n",
       "      <td>Yes</td>\n",
       "      <td>None</td>\n",
       "      <td>None</td>\n",
       "    </tr>\n",
       "    <tr>\n",
       "      <th>116146</th>\n",
       "      <td>NCT06352554</td>\n",
       "      <td>Susceptibility Testing In Neisseria Gonorrhoea...</td>\n",
       "      <td>STING</td>\n",
       "      <td>This study aims to validate a novel antibiotic...</td>\n",
       "      <td>Diagnosis and Gonorrhea and Resistance Bacterial</td>\n",
       "      <td>Not Available</td>\n",
       "      <td>To determine the feasibility of performing ant...</td>\n",
       "      <td>To study the performance of the InSignia assay...</td>\n",
       "      <td>Not Available</td>\n",
       "      <td>SpeeDx Pty Ltd</td>\n",
       "      <td>...</td>\n",
       "      <td>Not Given</td>\n",
       "      <td>Yes</td>\n",
       "      <td>Patients presenting with confirmed NG infectio...</td>\n",
       "      <td>Other</td>\n",
       "      <td>Other</td>\n",
       "      <td>Yes</td>\n",
       "      <td>No</td>\n",
       "      <td>Yes</td>\n",
       "      <td>Confirmed/suspected NG infection Willingness ...</td>\n",
       "      <td>Currently taking or having taken any antibiot...</td>\n",
       "    </tr>\n",
       "    <tr>\n",
       "      <th>116147</th>\n",
       "      <td>NCT00710554</td>\n",
       "      <td>A Study of Sativex® for Pain Relief of Periphe...</td>\n",
       "      <td>Not Available</td>\n",
       "      <td>The purpose of this study is to evaluate the e...</td>\n",
       "      <td>Pain and Peripheral Neuropathy</td>\n",
       "      <td>DRUG: Sativex|DRUG: Placebo</td>\n",
       "      <td>Change From Baseline in Mean Peripheral Neurop...</td>\n",
       "      <td>Change From Baseline in Neuropathic Pain Scale...</td>\n",
       "      <td>Not Available</td>\n",
       "      <td>Jazz Pharmaceuticals</td>\n",
       "      <td>...</td>\n",
       "      <td>Not Given</td>\n",
       "      <td>No</td>\n",
       "      <td>Other</td>\n",
       "      <td>Other</td>\n",
       "      <td>Other</td>\n",
       "      <td>Yes</td>\n",
       "      <td>No</td>\n",
       "      <td>Yes</td>\n",
       "      <td>Willing and able to give informed consent. Ma...</td>\n",
       "      <td>Concomitant pain thought by the investigator ...</td>\n",
       "    </tr>\n",
       "    <tr>\n",
       "      <th>116148</th>\n",
       "      <td>NCT03353454</td>\n",
       "      <td>A Placebo-controlled Study of Maralixibat (SHP...</td>\n",
       "      <td>Not Available</td>\n",
       "      <td>The purpose of this study is to determine if t...</td>\n",
       "      <td>Progressive Familial Intrahepatic Cholestasis ...</td>\n",
       "      <td>DRUG: Maralixibat|DRUG: Placebo</td>\n",
       "      <td>Treatment Response as Measured by the Observer...</td>\n",
       "      <td>Treatment Response as Measured by the Observer...</td>\n",
       "      <td>Not Available</td>\n",
       "      <td>Mirum Pharmaceuticals, Inc.</td>\n",
       "      <td>...</td>\n",
       "      <td>18.0</td>\n",
       "      <td>No</td>\n",
       "      <td>Other</td>\n",
       "      <td>Other</td>\n",
       "      <td>Other</td>\n",
       "      <td>Yes</td>\n",
       "      <td>Yes</td>\n",
       "      <td>No</td>\n",
       "      <td>Informed consent and assent (as applicable fo...</td>\n",
       "      <td>Chronic diarrhea requiring intravenous fluid ...</td>\n",
       "    </tr>\n",
       "  </tbody>\n",
       "</table>\n",
       "<p>116149 rows × 45 columns</p>\n",
       "</div>"
      ],
      "text/plain": [
       "         NCT Number                                        Study Title  \\\n",
       "0       NCT03302091  A Study in People With Normal Kidney Function ...   \n",
       "1       NCT01948791  16w Interventional Study on Titration and Dose...   \n",
       "2       NCT04621591           Case Series With Saneso 360° Gastroscope   \n",
       "3       NCT03130491  European Study Evaluating the EMBLOK Embolic P...   \n",
       "4       NCT01580891  Evaluate the Clinical Equivalence of Two Nafti...   \n",
       "...             ...                                                ...   \n",
       "116144  NCT00706654  Intramuscular Depot Formulation of Aripiprazol...   \n",
       "116145  NCT05098054  A Study of Soticlestat in Adults With Liver Fa...   \n",
       "116146  NCT06352554  Susceptibility Testing In Neisseria Gonorrhoea...   \n",
       "116147  NCT00710554  A Study of Sativex® for Pain Relief of Periphe...   \n",
       "116148  NCT03353454  A Placebo-controlled Study of Maralixibat (SHP...   \n",
       "\n",
       "              Acronym                                      Brief Summary  \\\n",
       "0       Not Available  The primary objective of the current study is ...   \n",
       "1            INSTINCT  To investigate the efficacy of Exelon capsule ...   \n",
       "2       Not Available  To confirm the procedural performance of the S...   \n",
       "3       Not Available  The primary objective is to evaluate the perfo...   \n",
       "4       Not Available  The objective of this study is to evaluate the...   \n",
       "...               ...                                                ...   \n",
       "116144         ASPIRE  The purpose of the this trial is to evaluate t...   \n",
       "116145  Not Available  The main aim is to check the effect of a singl...   \n",
       "116146          STING  This study aims to validate a novel antibiotic...   \n",
       "116147  Not Available  The purpose of this study is to evaluate the e...   \n",
       "116148  Not Available  The purpose of this study is to determine if t...   \n",
       "\n",
       "                                               Conditions  \\\n",
       "0                         Renal Insufficiency and Healthy   \n",
       "1                                     Alzheimer's Disease   \n",
       "2                                           EGD Procedure   \n",
       "3                                    Aortic Valve Disease   \n",
       "4                                             Tinea Pedis   \n",
       "...                                                   ...   \n",
       "116144                                      Schizophrenia   \n",
       "116145          Hepatic Impairment and Healthy Volunteers   \n",
       "116146   Diagnosis and Gonorrhea and Resistance Bacterial   \n",
       "116147                     Pain and Peripheral Neuropathy   \n",
       "116148  Progressive Familial Intrahepatic Cholestasis ...   \n",
       "\n",
       "                                            Interventions  \\\n",
       "0                                        DRUG: BI 1467335   \n",
       "1                                            DRUG: ENA713   \n",
       "2                         DEVICE: Saneso 360° gastroscope   \n",
       "3       PROCEDURE: Transcatheter Aortic Valve Replacem...   \n",
       "4       DRUG: Naftifine HCl Cream 1%|DRUG: Naftin® (Na...   \n",
       "...                                                   ...   \n",
       "116144  DRUG: Aripiprazole depot 300 or 400 mg|DRUG: A...   \n",
       "116145                                  DRUG: Soticlestat   \n",
       "116146                                      Not Available   \n",
       "116147                        DRUG: Sativex|DRUG: Placebo   \n",
       "116148                    DRUG: Maralixibat|DRUG: Placebo   \n",
       "\n",
       "                                 Primary Outcome Measures  \\\n",
       "0       Area Under the Concentration-time Curve of BI ...   \n",
       "1       Mean Change From Baseline in the Alzheimer's D...   \n",
       "2       Successful EGD, Procedure success is assessed ...   \n",
       "3       Performance Endpoint, successful insertion, pl...   \n",
       "4       Therapeutic Cure, Patients with both mycologic...   \n",
       "...                                                   ...   \n",
       "116144  Percentage of Patients Meeting Exacerbation of...   \n",
       "116145  Cmax: Maximum Observed Plasma Concentration fo...   \n",
       "116146  To determine the feasibility of performing ant...   \n",
       "116147  Change From Baseline in Mean Peripheral Neurop...   \n",
       "116148  Treatment Response as Measured by the Observer...   \n",
       "\n",
       "                               Secondary Outcome Measures  \\\n",
       "0       Area Under the Concentration-time Curve of BI ...   \n",
       "1       Change From Baseline in the Alzheimer's Diseas...   \n",
       "2       Endoscopist qualitative rating of the Saneso 3...   \n",
       "3       Safety Endpoint (Rate of MACCE), Rate of MACCE...   \n",
       "4                                           Not Available   \n",
       "...                                                   ...   \n",
       "116144  Time to Exacerbation of Psychotic Symptoms/Imp...   \n",
       "116145  Number of Participants Reporting One or More T...   \n",
       "116146  To study the performance of the InSignia assay...   \n",
       "116147  Change From Baseline in Neuropathic Pain Scale...   \n",
       "116148  Treatment Response as Measured by the Observer...   \n",
       "\n",
       "                                   Other Outcome Measures  \\\n",
       "0                                           Not Available   \n",
       "1                                           Not Available   \n",
       "2                                           Not Available   \n",
       "3       Efficacy Endpoint, Reduction in embolic burden...   \n",
       "4                                           Not Available   \n",
       "...                                                   ...   \n",
       "116144                                      Not Available   \n",
       "116145                                      Not Available   \n",
       "116146                                      Not Available   \n",
       "116147                                      Not Available   \n",
       "116148                                      Not Available   \n",
       "\n",
       "                                                  Sponsor  ... Maximum Age  \\\n",
       "0                                    Boehringer Ingelheim  ...        79.0   \n",
       "1                                Novartis Pharmaceuticals  ...        85.0   \n",
       "2                                             Saneso Inc.  ...        74.0   \n",
       "3                     Innovative Cardiovascular Solutions  ...        90.0   \n",
       "4                                Taro Pharmaceuticals USA  ...   Not Given   \n",
       "...                                                   ...  ...         ...   \n",
       "116144  Otsuka Pharmaceutical Development & Commercial...  ...        60.0   \n",
       "116145                                             Takeda  ...        75.0   \n",
       "116146                                     SpeeDx Pty Ltd  ...   Not Given   \n",
       "116147                               Jazz Pharmaceuticals  ...   Not Given   \n",
       "116148                        Mirum Pharmaceuticals, Inc.  ...        18.0   \n",
       "\n",
       "       Healthy Volunteers                                         Population  \\\n",
       "0                     Yes                                              Other   \n",
       "1                      No                                              Other   \n",
       "2                      No                                              Other   \n",
       "3                      No                                              Other   \n",
       "4                      No                                              Other   \n",
       "...                   ...                                                ...   \n",
       "116144                 No                                              Other   \n",
       "116145                Yes                                              Other   \n",
       "116146                Yes  Patients presenting with confirmed NG infectio...   \n",
       "116147                 No                                              Other   \n",
       "116148                 No                                              Other   \n",
       "\n",
       "       Gender Description Gender Based Adult Child Older Adult  \\\n",
       "0                   Other        Other   Yes    No         Yes   \n",
       "1                   Other        Other   Yes    No         Yes   \n",
       "2                   Other        Other   Yes    No         Yes   \n",
       "3                   Other        Other   Yes    No         Yes   \n",
       "4                   Other        Other   Yes    No         Yes   \n",
       "...                   ...          ...   ...   ...         ...   \n",
       "116144              Other        Other   Yes    No          No   \n",
       "116145              Other        Other   Yes    No         Yes   \n",
       "116146              Other        Other   Yes    No         Yes   \n",
       "116147              Other        Other   Yes    No         Yes   \n",
       "116148              Other        Other   Yes   Yes          No   \n",
       "\n",
       "                                       Inclusion Criteria  \\\n",
       "0        Despite of moderate renal impairment (Group 1...   \n",
       "1        Have a diagnosis of dementia of the Alzheimer...   \n",
       "2        18 -74 years of age Willing and able to compl...   \n",
       "3       Subject is between 18 and 90 years of age.Subj...   \n",
       "4        Male or non-pregnant, non-lactating females 1...   \n",
       "...                                                   ...   \n",
       "116144   Subjects who are able to provide written info...   \n",
       "116145                                               None   \n",
       "116146   Confirmed/suspected NG infection Willingness ...   \n",
       "116147   Willing and able to give informed consent. Ma...   \n",
       "116148   Informed consent and assent (as applicable fo...   \n",
       "\n",
       "                                       Exclusion Criteria  \n",
       "0       Healthy subjects Any finding in the medical ex...  \n",
       "1        Severe AD Patients with a history of cerebrov...  \n",
       "2        Altered esophageal, gastric, or duodenal anat...  \n",
       "3       Subject requires an emergent procedure. Contra...  \n",
       "4        Females who are pregnant, lactating or likely...  \n",
       "...                                                   ...  \n",
       "116144   Subjects with a current DSM-IV-TR diagnosis o...  \n",
       "116145                                               None  \n",
       "116146   Currently taking or having taken any antibiot...  \n",
       "116147   Concomitant pain thought by the investigator ...  \n",
       "116148   Chronic diarrhea requiring intravenous fluid ...  \n",
       "\n",
       "[116149 rows x 45 columns]"
      ]
     },
     "execution_count": 188,
     "metadata": {},
     "output_type": "execute_result"
    }
   ],
   "source": [
    "merged_df.drop(columns=[\"Study Design\", \"Masking\", \"Masking1\", \"Masking2\", \"Masking3\", \"Masking4\", \"Criteria\"])"
   ]
  },
  {
   "cell_type": "markdown",
   "metadata": {},
   "source": [
    "#### Separating Filter and Non Filter Columns"
   ]
  },
  {
   "cell_type": "code",
   "execution_count": 189,
   "metadata": {},
   "outputs": [],
   "source": [
    "filter_df = merged_df[[\"NCT Number\", \"Sex\", \"Age\", \"Phases\", \"Study Type\", \"Allocation\", \"Intervention Model\", \"Primary Purpose\",\n",
    "                       \"Time Perspective\", \"Sampling Method\", \"Gender\", \"Minimum Age\", \"Maximum Age\", \"Healthy Volunteers\",\n",
    "                       \"Gender Based\", \"Adult\", \"Child\", \"Older Adult\"]]\n",
    "\n",
    "main_df = merged_df.drop(columns=[\"Sex\", \"Age\", \"Phases\", \"Study Type\", \"Allocation\", \"Intervention Model\", \"Primary Purpose\",\n",
    "                       \"Time Perspective\", \"Sampling Method\", \"Gender\", \"Minimum Age\", \"Maximum Age\", \"Healthy Volunteers\",\n",
    "                       \"Gender Based\", \"Adult\", \"Child\", \"Older Adult\"])"
   ]
  },
  {
   "cell_type": "code",
   "execution_count": 190,
   "metadata": {},
   "outputs": [
    {
     "name": "stdout",
     "output_type": "stream",
     "text": [
      "<class 'pandas.core.frame.DataFrame'>\n",
      "<class 'pandas.core.frame.DataFrame'>\n"
     ]
    }
   ],
   "source": [
    "print(type(main_df))  # Should be <class 'pandas.core.frame.DataFrame'>\n",
    "print(type(filter_df))  # Should also be <class 'pandas.core.frame.DataFrame'>"
   ]
  },
  {
   "cell_type": "code",
   "execution_count": 191,
   "metadata": {},
   "outputs": [],
   "source": [
    "final_df = pd.merge(main_df, filter_df, on='NCT Number', how='inner')"
   ]
  },
  {
   "cell_type": "code",
   "execution_count": 195,
   "metadata": {},
   "outputs": [
    {
     "data": {
      "text/plain": [
       "NCT Number                    0\n",
       "Study Title                   0\n",
       "Acronym                       0\n",
       "Brief Summary                 0\n",
       "Conditions                    0\n",
       "Interventions                 0\n",
       "Primary Outcome Measures      0\n",
       "Secondary Outcome Measures    0\n",
       "Other Outcome Measures        0\n",
       "Sponsor                       0\n",
       "Study Design                  0\n",
       "Masking                       0\n",
       "Masking Type                  0\n",
       "Maskings                      0\n",
       "Masking1                      0\n",
       "Masking2                      0\n",
       "Masking3                      0\n",
       "Masking4                      0\n",
       "Masking Description           0\n",
       "Drug                          0\n",
       "Device                        0\n",
       "Procedure                     0\n",
       "Biological                    0\n",
       "Other                         0\n",
       "Combination Product           0\n",
       "Behavioral                    0\n",
       "Dietary Supplement            0\n",
       "Genetic                       0\n",
       "Diaganostic Test              0\n",
       "Radiation                     0\n",
       "Population                    0\n",
       "Criteria                      0\n",
       "Gender Description            0\n",
       "Inclusion Criteria            0\n",
       "Exclusion Criteria            0\n",
       "Sex                           0\n",
       "Age                           0\n",
       "Phases                        0\n",
       "Study Type                    0\n",
       "Allocation                    0\n",
       "Intervention Model            0\n",
       "Primary Purpose               0\n",
       "Time Perspective              0\n",
       "Sampling Method               0\n",
       "Gender                        0\n",
       "Minimum Age                   0\n",
       "Maximum Age                   0\n",
       "Healthy Volunteers            0\n",
       "Gender Based                  0\n",
       "Adult                         0\n",
       "Child                         0\n",
       "Older Adult                   0\n",
       "dtype: int64"
      ]
     },
     "execution_count": 195,
     "metadata": {},
     "output_type": "execute_result"
    }
   ],
   "source": [
    "null_counts = final_df.isnull().sum()\n",
    "null_counts"
   ]
  },
  {
   "cell_type": "code",
   "execution_count": 192,
   "metadata": {},
   "outputs": [],
   "source": [
    "final_df.to_csv(\"final_data.csv\", index =False)"
   ]
  },
  {
   "cell_type": "code",
   "execution_count": 193,
   "metadata": {},
   "outputs": [
    {
     "data": {
      "text/plain": [
       "Acronym\n",
       "Not Available    92472\n",
       "COVID-19            42\n",
       "RESTORE             35\n",
       "SPF Assay           33\n",
       "STAR                26\n",
       "                 ...  \n",
       "ACHIEVE-1            1\n",
       "CHRONOS-3            1\n",
       "PIOren               1\n",
       "ISO-SHOCK            1\n",
       "STING                1\n",
       "Name: count, Length: 19062, dtype: int64"
      ]
     },
     "execution_count": 193,
     "metadata": {},
     "output_type": "execute_result"
    }
   ],
   "source": [
    "merged_df[\"Acronym\"].value_counts()"
   ]
  },
  {
   "cell_type": "code",
   "execution_count": null,
   "metadata": {},
   "outputs": [],
   "source": []
  },
  {
   "cell_type": "code",
   "execution_count": 194,
   "metadata": {},
   "outputs": [
    {
     "data": {
      "text/html": [
       "<style>\n",
       "    body {\n",
       "        --vscode-font-family: \"Century Gothic\"\n",
       "    }\n",
       "</style>\n"
      ],
      "text/plain": [
       "<IPython.core.display.HTML object>"
      ]
     },
     "metadata": {},
     "output_type": "display_data"
    }
   ],
   "source": [
    "%%HTML\n",
    "<style>\n",
    "    body {\n",
    "        --vscode-font-family: \"Century Gothic\"\n",
    "    }\n",
    "</style>"
   ]
  },
  {
   "cell_type": "code",
   "execution_count": null,
   "metadata": {},
   "outputs": [],
   "source": []
  }
 ],
 "metadata": {
  "kernelspec": {
   "display_name": "base",
   "language": "python",
   "name": "python3"
  },
  "language_info": {
   "codemirror_mode": {
    "name": "ipython",
    "version": 3
   },
   "file_extension": ".py",
   "mimetype": "text/x-python",
   "name": "python",
   "nbconvert_exporter": "python",
   "pygments_lexer": "ipython3",
   "version": "3.12.3"
  }
 },
 "nbformat": 4,
 "nbformat_minor": 2
}
